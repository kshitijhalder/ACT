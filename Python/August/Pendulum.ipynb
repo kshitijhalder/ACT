{
 "cells": [
  {
   "cell_type": "code",
   "execution_count": 1,
   "metadata": {},
   "outputs": [
    {
     "name": "stdout",
     "output_type": "stream",
     "text": [
      "       t         x        y\n",
      "0  0.200 -0.000967  0.01426\n",
      "1  0.233 -0.003959  0.01486\n",
      "2  0.267 -0.010540  0.01456\n",
      "3  0.300 -0.017120  0.01306\n",
      "4  0.333 -0.023400  0.01216\n",
      "Filtered Extrema Points:\n",
      "Empty DataFrame\n",
      "Columns: [t, x, y]\n",
      "Index: []\n"
     ]
    }
   ],
   "source": [
    "import pandas as pd\n",
    "from scipy.signal import argrelextrema\n",
    "import numpy as np\n",
    "\n",
    "# Load the CSV file into a pandas DataFrame\n",
    "df = pd.read_csv('/Users/kshitijhalder/Downloads/WhatsApp vid 3.csv')\n",
    "print(df.head())\n",
    "# Replace 'SineColumn', 'Column1', and 'Column2' with the names in your CSV\n",
    "sine_column = 't'\n",
    "other_col1 = 'x'\n",
    "other_col2 = 'y'\n",
    "\n",
    "# Ensure the column is in numpy array format\n",
    "values = df[sine_column].values\n",
    "\n",
    "# Find indices of local maxima and minima\n",
    "local_maxima = argrelextrema(values, np.greater)[0]\n",
    "local_minima = argrelextrema(values, np.less)[0]\n",
    "\n",
    "# Combine all extrema indices and sort\n",
    "extrema_indices = np.sort(np.concatenate((local_maxima, local_minima)))\n",
    "\n",
    "# Extract the extrema values\n",
    "extrema_values = values[extrema_indices]\n",
    "\n",
    "# Initialize lists to hold filtered extrema indices\n",
    "filtered_indices = []\n",
    "prev_max = None\n",
    "prev_min = None\n",
    "\n",
    "# Filter extrema to ensure successive maxima decrease and minima increase\n",
    "for idx in extrema_indices:\n",
    "    val = values[idx]\n",
    "    if idx in local_maxima:\n",
    "        if prev_max is None or val < prev_max:  # Successive maxima should decrease\n",
    "            filtered_indices.append(idx)\n",
    "            prev_max = val\n",
    "    elif idx in local_minima:\n",
    "        if prev_min is None or val > prev_min:  # Successive minima should increase\n",
    "            filtered_indices.append(idx)\n",
    "            prev_min = val\n",
    "\n",
    "# Extract the filtered extrema points and their corresponding values in other columns\n",
    "filtered_points = df.iloc[filtered_indices]\n",
    "\n",
    "# Print the results\n",
    "print(\"Filtered Extrema Points:\")\n",
    "print(filtered_points)\n",
    "\n",
    "# Save the filtered points to a CSV if needed\n",
    "filtered_points.to_csv('filtered_extrema_points.csv', index=False)"
   ]
  },
  {
   "cell_type": "code",
   "execution_count": 2,
   "metadata": {},
   "outputs": [
    {
     "data": {
      "text/plain": [
       "['Sheet1']"
      ]
     },
     "execution_count": 2,
     "metadata": {},
     "output_type": "execute_result"
    }
   ],
   "source": [
    "import pandas as pd \n",
    " \n",
    "# Load the provided Excel file \n",
    "file_path = '/Users/kshitijhalder/Downloads/WhatsApp vid 3 (1).xlsx'\n",
    "data = pd.ExcelFile(file_path) \n",
    " \n",
    "# Display the sheet names to understand the structure of the file \n",
    "sheet_names = data.sheet_names \n",
    "sheet_names"
   ]
  },
  {
   "cell_type": "code",
   "execution_count": 3,
   "metadata": {},
   "outputs": [
    {
     "data": {
      "text/html": [
       "<div>\n",
       "<style scoped>\n",
       "    .dataframe tbody tr th:only-of-type {\n",
       "        vertical-align: middle;\n",
       "    }\n",
       "\n",
       "    .dataframe tbody tr th {\n",
       "        vertical-align: top;\n",
       "    }\n",
       "\n",
       "    .dataframe thead th {\n",
       "        text-align: right;\n",
       "    }\n",
       "</style>\n",
       "<table border=\"1\" class=\"dataframe\">\n",
       "  <thead>\n",
       "    <tr style=\"text-align: right;\">\n",
       "      <th></th>\n",
       "      <th>t</th>\n",
       "      <th>x</th>\n",
       "      <th>y</th>\n",
       "    </tr>\n",
       "  </thead>\n",
       "  <tbody>\n",
       "    <tr>\n",
       "      <th>0</th>\n",
       "      <td>0.200</td>\n",
       "      <td>-0.000967</td>\n",
       "      <td>0.01426</td>\n",
       "    </tr>\n",
       "    <tr>\n",
       "      <th>1</th>\n",
       "      <td>0.233</td>\n",
       "      <td>-0.003959</td>\n",
       "      <td>0.01486</td>\n",
       "    </tr>\n",
       "    <tr>\n",
       "      <th>2</th>\n",
       "      <td>0.267</td>\n",
       "      <td>-0.010540</td>\n",
       "      <td>0.01456</td>\n",
       "    </tr>\n",
       "    <tr>\n",
       "      <th>3</th>\n",
       "      <td>0.300</td>\n",
       "      <td>-0.017120</td>\n",
       "      <td>0.01306</td>\n",
       "    </tr>\n",
       "    <tr>\n",
       "      <th>4</th>\n",
       "      <td>0.333</td>\n",
       "      <td>-0.023400</td>\n",
       "      <td>0.01216</td>\n",
       "    </tr>\n",
       "  </tbody>\n",
       "</table>\n",
       "</div>"
      ],
      "text/plain": [
       "       t         x        y\n",
       "0  0.200 -0.000967  0.01426\n",
       "1  0.233 -0.003959  0.01486\n",
       "2  0.267 -0.010540  0.01456\n",
       "3  0.300 -0.017120  0.01306\n",
       "4  0.333 -0.023400  0.01216"
      ]
     },
     "execution_count": 3,
     "metadata": {},
     "output_type": "execute_result"
    }
   ],
   "source": [
    "# Load data from \"Sheet1\" \n",
    "df = data.parse(\"Sheet1\") \n",
    " \n",
    "# Display the first few rows to understand the structure \n",
    "df.head()"
   ]
  },
  {
   "cell_type": "code",
   "execution_count": 4,
   "metadata": {},
   "outputs": [
    {
     "data": {
      "text/html": [
       "<div>\n",
       "<style scoped>\n",
       "    .dataframe tbody tr th:only-of-type {\n",
       "        vertical-align: middle;\n",
       "    }\n",
       "\n",
       "    .dataframe tbody tr th {\n",
       "        vertical-align: top;\n",
       "    }\n",
       "\n",
       "    .dataframe thead th {\n",
       "        text-align: right;\n",
       "    }\n",
       "</style>\n",
       "<table border=\"1\" class=\"dataframe\">\n",
       "  <thead>\n",
       "    <tr style=\"text-align: right;\">\n",
       "      <th></th>\n",
       "      <th>t</th>\n",
       "      <th>x</th>\n",
       "    </tr>\n",
       "  </thead>\n",
       "  <tbody>\n",
       "    <tr>\n",
       "      <th>116</th>\n",
       "      <td>4.133</td>\n",
       "      <td>-0.002913</td>\n",
       "    </tr>\n",
       "    <tr>\n",
       "      <th>130</th>\n",
       "      <td>4.600</td>\n",
       "      <td>-0.084850</td>\n",
       "    </tr>\n",
       "    <tr>\n",
       "      <th>176</th>\n",
       "      <td>6.133</td>\n",
       "      <td>-0.007110</td>\n",
       "    </tr>\n",
       "    <tr>\n",
       "      <th>187</th>\n",
       "      <td>6.500</td>\n",
       "      <td>-0.055470</td>\n",
       "    </tr>\n",
       "    <tr>\n",
       "      <th>236</th>\n",
       "      <td>8.133</td>\n",
       "      <td>-0.010970</td>\n",
       "    </tr>\n",
       "  </tbody>\n",
       "</table>\n",
       "</div>"
      ],
      "text/plain": [
       "         t         x\n",
       "116  4.133 -0.002913\n",
       "130  4.600 -0.084850\n",
       "176  6.133 -0.007110\n",
       "187  6.500 -0.055470\n",
       "236  8.133 -0.010970"
      ]
     },
     "execution_count": 4,
     "metadata": {},
     "output_type": "execute_result"
    }
   ],
   "source": [
    "from scipy.signal import argrelextrema \n",
    "import numpy as np \n",
    " \n",
    "# Focus on the x column for extrema detection \n",
    "values = df['x'].values \n",
    " \n",
    "# Find indices of local maxima and minima in the x column \n",
    "local_maxima = argrelextrema(values, np.greater)[0] \n",
    "local_minima = argrelextrema(values, np.less)[0] \n",
    " \n",
    "# Combine indices of all extrema and sort them \n",
    "extrema_indices = np.concatenate((local_maxima, local_minima))\n",
    " \n",
    "# Extract the extrema points and their corresponding t values \n",
    "extrema_t_values = df.iloc[extrema_indices]['t'] \n",
    "extrema_x_values = df.iloc[extrema_indices]['x'] \n",
    " \n",
    "# Create a DataFrame for the results \n",
    "extrema_results = pd.DataFrame({ \n",
    "    't': extrema_t_values, \n",
    "    'x': extrema_x_values \n",
    "}) \n",
    " \n",
    "# Display the results \n",
    "extrema_results.head()"
   ]
  },
  {
   "cell_type": "code",
   "execution_count": 5,
   "metadata": {},
   "outputs": [
    {
     "name": "stdout",
     "output_type": "stream",
     "text": [
      "25\n",
      "[4.133, 6.133, 8.133, 10.267, 12.167, 16.233, 16.7, 20.167, 22.233, 24.267, 26.267, 30.3, 31.133, 34.367, 38.4, 4.567, 6.467, 9.167, 11.533, 15.2, 16.667, 18.467, 23.267, 26.067, 31.1]\n",
      "[6.133, 8.133, 10.267, 12.167, 16.233, 16.7, 20.167, 22.233, 24.267, 26.267, 30.3, 31.133, 34.367, 38.4, 4.567, 6.467, 9.167, 11.533, 15.2, 16.667, 18.467, 23.267, 26.067, 31.1, 39.4]\n"
     ]
    }
   ],
   "source": [
    "def to_list(series):\n",
    "    return series.tolist()\n",
    "\n",
    "t_list = to_list(extrema_results['t'])\n",
    "new_list1 = t_list[::2]\n",
    "new_list2 = t_list[2::2]\n",
    "new_list1.pop()\n",
    "print(len(new_list1))\n",
    "print(new_list1)\n",
    "print(new_list2)"
   ]
  },
  {
   "cell_type": "code",
   "execution_count": 6,
   "metadata": {},
   "outputs": [
    {
     "name": "stdout",
     "output_type": "stream",
     "text": [
      "[2.0, 1.9999999999999991, 2.1340000000000003, 1.9000000000000004, 4.066000000000001, 0.46699999999999875, 3.4670000000000023, 2.065999999999999, 2.033999999999999, 2.0, 4.033000000000001, 0.8329999999999984, 3.233999999999998, 4.033000000000001, -33.833, 1.8999999999999995, 2.7, 2.3659999999999997, 3.667, 1.4670000000000023, 1.7999999999999972, 4.800000000000001, 2.8000000000000007, 5.033000000000001, 8.299999999999997]\n",
      "1.41068\n"
     ]
    }
   ],
   "source": [
    "time =[]\n",
    "for i in range(len(new_list1)):\n",
    "    time.append(new_list2[i] - new_list1[i])\n",
    "print(time)\n",
    "\n",
    "x = sum(time)/len(time)\n",
    "print(x)"
   ]
  }
 ],
 "metadata": {
  "kernelspec": {
   "display_name": "base",
   "language": "python",
   "name": "python3"
  },
  "language_info": {
   "codemirror_mode": {
    "name": "ipython",
    "version": 3
   },
   "file_extension": ".py",
   "mimetype": "text/x-python",
   "name": "python",
   "nbconvert_exporter": "python",
   "pygments_lexer": "ipython3",
   "version": "3.12.2"
  }
 },
 "nbformat": 4,
 "nbformat_minor": 2
}
