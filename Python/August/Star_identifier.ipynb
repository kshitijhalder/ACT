{
 "cells": [
  {
   "cell_type": "markdown",
   "metadata": {},
   "source": [
    "Modules needed for star idenentification and classification are:\n",
    "\n",
    "- star_id\n",
    "- star_class\n",
    "- star_features"
   ]
  },
  {
   "cell_type": "markdown",
   "metadata": {},
   "source": [
    "**Star Explorer - A Machine Learning Powered Guide for\n",
    "Students and Educators**"
   ]
  },
  {
   "cell_type": "markdown",
   "metadata": {},
   "source": [
    "**Objective:**\n",
    "\n",
    "* Create an interactive guide for students and educators to explore the night sky using Python machine learning.\n",
    "* Provide a comprehensive platform to learn about stars, constellations, and astronomical concepts.\n",
    "* Utilize real-world data and machine learning algorithms to enable users to identify stars, predict celestial events, and analyze astronomical phenomena.\n",
    "\n",
    "**Key Features:**\n",
    "\n",
    "1. **Star Identification Model:** Train a machine learning model using a dataset of star properties (e.g., magnitude, color, temperature) to predict the type of star based on user input.\n",
    "2. **Constellation Guide:** Develop an interactive map that allows users to explore constellations, learn about their history and mythology, and identify notable stars within each constellation.\n",
    "3. **Astronomical Event Predictor:** Utilize machine learning algorithms\n",
    "to predict celestial events like planetary alignments, solar eclipses, or meteor showers based on historical data and user input.\n",
    "4. **Star Chart Generator:** Create a tool that generates personalized star charts for users, taking into account their location, date, and time of year.\n",
    "5. **Education Module:** Develop an interactive module that provides educational content on various astronomical topics, including stellar evolution, the life cycle of stars, and more.\n",
    "\n",
    "**Python Machine Learning Libraries:**\n",
    "\n",
    "* **scikit-learn:** Utilize scikit-learn's machine learning algorithms to train models for star identification and other tasks.\n",
    "* **TensorFlow or PyTorch:** Employ these deep learning libraries to develop complex neural networks for predicting celestial events or analyzing astronomical data.\n",
    "* **Pandas and NumPy:** Use these libraries for data manipulation, analysis, and visualization.\n",
    "\n",
    "**Data Sources:**\n",
    "\n",
    "* **USNO-B1.0 Catalogue:** Utilize this comprehensive catalogue of star properties to train machine learning models.\n",
    "* **NASA's Exoplanet Archive:** Leverage this database of exoplanets to study the properties and behaviors of these distant worlds.\n",
    "* **Space-weather.com:** Use this website's archive of space weather data to predict celestial events like solar flares or coronal mass ejections.\n",
    "\n",
    "**Project Roadmap:**\n",
    "\n",
    "1. **Data Collection and Preprocessing (Weeks 1-4):**\n",
    "\t* Gather relevant datasets, preprocess the data, and create a unified framework for machine learning.\n",
    "2. **Model Development and Training (Weeks 5-8):**\n",
    "\t* Train machine learning models using scikit-learn or deep learning libraries like TensorFlow or PyTorch.\n",
    "3. **Implementation of Interactive Features (Weeks 9-12):**\n",
    "\t* Develop the interactive guide, constellation map, star chart generator, and education module.\n",
    "4. **Testing and Refining (Weeks 13-16):**\n",
    "\t* Test the project's various features, refine the models, and ensure a seamless user experience."
   ]
  },
  {
   "cell_type": "code",
   "execution_count": null,
   "metadata": {},
   "outputs": [],
   "source": [
    "# Interactive map to explore constellations\n",
    "\n",
    "import folium\n",
    "import pandas as pd\n",
    "import json\n",
    "import os\n",
    "\n",
    "# Load the data\n",
    "df = pd.read_csv('constellations.csv')\n",
    "\n",
    "# Create a map centered on the equator\n",
    "m = folium.Map(location=[0, 0], zoom_start=2)\n",
    "\n",
    "# Add the constellations to the map\n",
    "for i, row in df.iterrows():\n",
    "    # Create a GeoJSON object\n",
    "    geojson = json.loads(row['geojson'])\n",
    "    # Add the object to the map\n",
    "    folium.GeoJson(geojson, name=row['name']).add_to(m)\n",
    "    \n",
    "# Save the map\n",
    "m.save('constellations.html')\n",
    "\n",
    "# Open the map in a web browser\n",
    "os.system('open constellations.html')\n"
   ]
  },
  {
   "cell_type": "code",
   "execution_count": null,
   "metadata": {},
   "outputs": [],
   "source": [
    "import shutil\n",
    "import os\n",
    "import pandas as pd\n",
    "import numpy as np\n",
    "import tensorflow as tf\n",
    "from  tensorflow import keras\n",
    "import keras.utils as image\n",
    "from keras.preprocessing.image import ImageDataGenerator\n",
    "from tensorflow.keras.models import Sequential\n",
    "from tensorflow.keras.layers import Dense\n",
    "from tensorflow.keras.layers import Conv2D\n",
    "from tensorflow.keras.layers import MaxPooling2D\n",
    "from tensorflow.keras.layers import Flatten\n",
    "from tensorflow.keras.layers import Dropout\n",
    "\n",
    "def copy_image(source_path, destination_path):\n",
    "    try:\n",
    "        shutil.copy(source_path, destination_path)\n",
    "        print(\"Image copied successfully!\")\n",
    "    except FileNotFoundError:\n",
    "        print(\"Source file not found.\")\n",
    "    except PermissionError:\n",
    "        print(\"Permission denied. Make sure you have the necessary permissions.\")\n",
    "        \n",
    "datagen = ImageDataGenerator(\n",
    "    zca_whitening=True,\n",
    "    rotation_range=60,\n",
    "    width_shift_range=0.1,\n",
    "    height_shift_range=0.1,\n",
    "    shear_range=0.3,\n",
    "    zoom_range=[0.6,1.4],\n",
    "    channel_shift_range=0.0,\n",
    "    fill_mode='constant',\n",
    "    cval=0.0,\n",
    "    horizontal_flip=True,\n",
    "    vertical_flip=True,\n",
    "    rescale=1./255,\n",
    "    data_format=None,\n",
    "    validation_split=0.01,\n",
    "    interpolation_order=1,\n",
    "    dtype=None,\n",
    ")\n",
    "\n",
    "# Set the paths to the necessary directories and files\n",
    "data_folder = r\"C:\\Users\\Win10\\Desktop\\Constellation detector\\constellation_data\"\n",
    "train_folder = os.path.join(data_folder, \"train\")\n",
    "augmented_folder = os.path.join(data_folder, \"aug_data\")\n",
    "mapper_file = os.path.join(data_folder, \"mapper.xlsx\")\n",
    "mapper_df = pd.read_excel(mapper_file)\n",
    "\n",
    "# Create the augmented folder if it doesn't exist\n",
    "if not os.path.exists(augmented_folder):\n",
    "    os.makedirs(augmented_folder)\n",
    "\n",
    "# Iterate through each image in the training folder\n",
    "for filename in os.listdir(train_folder):\n",
    "    if filename.endswith(\".jpg\") or filename.endswith(\".png\"):\n",
    "        # Load the corresponding image\n",
    "        image_path = os.path.join(train_folder, filename)\n",
    "        constellation_label = mapper_df[mapper_df[\"Constellation Image file\"] == filename][\"Constellation name\"].values[0]\n",
    "\n",
    "    \n",
    "        # Create a folder for the augmented images of this constellation label if it doesn't exist\n",
    "        constellation_folder = os.path.join(augmented_folder, constellation_label)\n",
    "\n",
    "        if not os.path.exists(constellation_folder):\n",
    "            os.makedirs(constellation_folder)\n",
    "            new_image_path = os.path.join(constellation_folder, filename)\n",
    "            copy_image(image_path,new_image_path)\n",
    "        img = image.load_img(image_path,target_size=(300,300))\n",
    "        img = image.img_to_array(img)\n",
    "        padded_image = cv2.copyMakeBorder(img, 100, 100, 100, 100, cv2.BORDER_CONSTANT, value=(0, 0, 0))\n",
    "        \n",
    "        i=0\n",
    "        input_batch = padded_image.reshape(1,500,500,3)\n",
    "        for output in datagen.flow(input_batch,batch_size=1,\n",
    "                                   save_to_dir=constellation_folder):\n",
    "            i = i+1\n",
    "            if i == 1000:\n",
    "                break"
   ]
  },
  {
   "cell_type": "code",
   "execution_count": null,
   "metadata": {},
   "outputs": [
    {
     "name": "stdout",
     "output_type": "stream",
     "text": [
      "       t         x        y\n",
      "0  0.200 -0.000967  0.01426\n",
      "1  0.233 -0.003959  0.01486\n",
      "2  0.267 -0.010540  0.01456\n",
      "3  0.300 -0.017120  0.01306\n",
      "4  0.333 -0.023400  0.01216\n",
      "Filtered Extrema Points:\n",
      "Empty DataFrame\n",
      "Columns: [t, x, y]\n",
      "Index: []\n"
     ]
    }
   ],
   "source": []
  },
  {
   "cell_type": "code",
   "execution_count": null,
   "metadata": {},
   "outputs": [
    {
     "data": {
      "text/plain": [
       "['Sheet1']"
      ]
     },
     "execution_count": 24,
     "metadata": {},
     "output_type": "execute_result"
    }
   ],
   "source": []
  },
  {
   "cell_type": "code",
   "execution_count": null,
   "metadata": {},
   "outputs": [
    {
     "data": {
      "text/html": [
       "<div>\n",
       "<style scoped>\n",
       "    .dataframe tbody tr th:only-of-type {\n",
       "        vertical-align: middle;\n",
       "    }\n",
       "\n",
       "    .dataframe tbody tr th {\n",
       "        vertical-align: top;\n",
       "    }\n",
       "\n",
       "    .dataframe thead th {\n",
       "        text-align: right;\n",
       "    }\n",
       "</style>\n",
       "<table border=\"1\" class=\"dataframe\">\n",
       "  <thead>\n",
       "    <tr style=\"text-align: right;\">\n",
       "      <th></th>\n",
       "      <th>t</th>\n",
       "      <th>x</th>\n",
       "      <th>y</th>\n",
       "    </tr>\n",
       "  </thead>\n",
       "  <tbody>\n",
       "    <tr>\n",
       "      <th>0</th>\n",
       "      <td>0.200</td>\n",
       "      <td>-0.000967</td>\n",
       "      <td>0.01426</td>\n",
       "    </tr>\n",
       "    <tr>\n",
       "      <th>1</th>\n",
       "      <td>0.233</td>\n",
       "      <td>-0.003959</td>\n",
       "      <td>0.01486</td>\n",
       "    </tr>\n",
       "    <tr>\n",
       "      <th>2</th>\n",
       "      <td>0.267</td>\n",
       "      <td>-0.010540</td>\n",
       "      <td>0.01456</td>\n",
       "    </tr>\n",
       "    <tr>\n",
       "      <th>3</th>\n",
       "      <td>0.300</td>\n",
       "      <td>-0.017120</td>\n",
       "      <td>0.01306</td>\n",
       "    </tr>\n",
       "    <tr>\n",
       "      <th>4</th>\n",
       "      <td>0.333</td>\n",
       "      <td>-0.023400</td>\n",
       "      <td>0.01216</td>\n",
       "    </tr>\n",
       "  </tbody>\n",
       "</table>\n",
       "</div>"
      ],
      "text/plain": [
       "       t         x        y\n",
       "0  0.200 -0.000967  0.01426\n",
       "1  0.233 -0.003959  0.01486\n",
       "2  0.267 -0.010540  0.01456\n",
       "3  0.300 -0.017120  0.01306\n",
       "4  0.333 -0.023400  0.01216"
      ]
     },
     "execution_count": 25,
     "metadata": {},
     "output_type": "execute_result"
    }
   ],
   "source": []
  },
  {
   "cell_type": "code",
   "execution_count": null,
   "metadata": {},
   "outputs": [
    {
     "name": "stdout",
     "output_type": "stream",
     "text": [
      "25\n",
      "[4.133, 6.133, 8.133, 10.267, 12.167, 16.233, 16.7, 20.167, 22.233, 24.267, 26.267, 30.3, 31.133, 34.367, 38.4, 4.567, 6.467, 9.167, 11.533, 15.2, 16.667, 18.467, 23.267, 26.067, 31.1]\n",
      "[6.133, 8.133, 10.267, 12.167, 16.233, 16.7, 20.167, 22.233, 24.267, 26.267, 30.3, 31.133, 34.367, 38.4, 4.567, 6.467, 9.167, 11.533, 15.2, 16.667, 18.467, 23.267, 26.067, 31.1, 39.4]\n"
     ]
    }
   ],
   "source": []
  },
  {
   "cell_type": "code",
   "execution_count": null,
   "metadata": {},
   "outputs": [
    {
     "name": "stdout",
     "output_type": "stream",
     "text": [
      "[2.0, 1.9999999999999991, 2.1340000000000003, 1.9000000000000004, 4.066000000000001, 0.46699999999999875, 3.4670000000000023, 2.065999999999999, 2.033999999999999, 2.0, 4.033000000000001, 0.8329999999999984, 3.233999999999998, 4.033000000000001, -33.833, 1.8999999999999995, 2.7, 2.3659999999999997, 3.667, 1.4670000000000023, 1.7999999999999972, 4.800000000000001, 2.8000000000000007, 5.033000000000001, 8.299999999999997]\n",
      "1.41068\n"
     ]
    }
   ],
   "source": []
  }
 ],
 "metadata": {
  "kernelspec": {
   "display_name": "base",
   "language": "python",
   "name": "python3"
  },
  "language_info": {
   "codemirror_mode": {
    "name": "ipython",
    "version": 3
   },
   "file_extension": ".py",
   "mimetype": "text/x-python",
   "name": "python",
   "nbconvert_exporter": "python",
   "pygments_lexer": "ipython3",
   "version": "3.12.2"
  }
 },
 "nbformat": 4,
 "nbformat_minor": 2
}
