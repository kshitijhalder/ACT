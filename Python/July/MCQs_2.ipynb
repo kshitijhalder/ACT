{
 "cells": [
  {
   "cell_type": "code",
   "execution_count": 2,
   "metadata": {},
   "outputs": [
    {
     "name": "stdout",
     "output_type": "stream",
     "text": [
      "The key is not in the dictionary.\n"
     ]
    }
   ],
   "source": [
    "\"\"\" \n",
    "Date : 2024-07-08\n",
    "\"\"\"\n",
    "\n",
    "dictionary = {'A': 1, 'B': 2, 'C': 3, 'D': 4, 'E': 5}\n",
    "keys = dictionary.keys()\n",
    "\n",
    "u = input(\"Enter a key: \")\n",
    "if u in keys:\n",
    "    print(\"The key is in the dictionary.\")\n",
    "else: \n",
    "    print(\"The key is not in the dictionary.\")"
   ]
  },
  {
   "cell_type": "code",
   "execution_count": 20,
   "metadata": {},
   "outputs": [
    {
     "name": "stdout",
     "output_type": "stream",
     "text": [
      "Common elements:  [5]\n"
     ]
    }
   ],
   "source": [
    "list_1 = [1, 2, 3, 4, 5]\n",
    "list_2 = [5, 6, 7, 8, 9]\n",
    "\n",
    "#common = set(list_1) & set(list_2)\n",
    "common = [ i for i in list_1 if i in list_2]\n",
    "print(\"Common elements: \", common)\n"
   ]
  },
  {
   "cell_type": "code",
   "execution_count": 34,
   "metadata": {},
   "outputs": [
    {
     "name": "stdout",
     "output_type": "stream",
     "text": [
      "{'t': 2, 'h': 1, 'i': 2, 's': 2, 'a': 1, 'c': 1}\n"
     ]
    }
   ],
   "source": [
    "# find occurance of each letter in string and convert to dic\n",
    "\n",
    "user = input(\"Enter a string: \")\n",
    "#u = u.replace(\" \", \"\")\n",
    "#print(u)\n",
    "dic = {}\n",
    "\n",
    "for i in user:\n",
    "    if i in dic:\n",
    "        dic[i] += 1\n",
    "    elif i == \" \":\n",
    "        pass\n",
    "    else:\n",
    "        dic[i] = 1\n",
    "        \n",
    "print(dic)"
   ]
  },
  {
   "cell_type": "code",
   "execution_count": 37,
   "metadata": {},
   "outputs": [],
   "source": [
    "# open file\n",
    "\n",
    "file_1 = open(\"/Users/kshitijhalder/Desktop/ACT/Python/June/example.txt\", \"a\")\n",
    "file_2 = open(\"/Users/kshitijhalder/Desktop/ACT/Python/June/ACT.txt\", \"r\")\n",
    "\n",
    "# append file_2 to file_1:\n",
    "i = file_2.read()\n",
    "file_1.write(i)\n",
    "    \n",
    "file_1.close()\n",
    "file_2.close()"
   ]
  },
  {
   "cell_type": "code",
   "execution_count": 61,
   "metadata": {},
   "outputs": [
    {
     "name": "stdout",
     "output_type": "stream",
     "text": [
      "6\n",
      "2\n"
     ]
    }
   ],
   "source": [
    "# maximum frequency of a letter in a numpy array\n",
    "import numpy as np\n",
    "\n",
    "a = np.array([[1, 2, 2], [2, 2, 2], [2, 3, 4,]])\n",
    "\n",
    "# print(np.bincount(a).argmax())\n",
    "a = list(a)\n",
    "a = [j for i in a for j in i]\n",
    "print(a.count(2))\n",
    "print(max(a, key = a.count))"
   ]
  },
  {
   "cell_type": "code",
   "execution_count": 49,
   "metadata": {},
   "outputs": [
    {
     "data": {
      "text/plain": [
       "0"
      ]
     },
     "execution_count": 49,
     "metadata": {},
     "output_type": "execute_result"
    }
   ],
   "source": [
    "# Multiplication of two numbers without using * operator (using repetitive addition)\n",
    "\n",
    "number = int(input(\"Enter a number: \"))\n",
    "times = int(input(\"Enter the number of times: \"))\n",
    "\n",
    "def repeat(number, times):\n",
    "    if times == 0:\n",
    "        return 0\n",
    "    else:\n",
    "        return number + repeat(number, times-1)\n",
    "    \n",
    "repeat(number, times)"
   ]
  },
  {
   "cell_type": "code",
   "execution_count": 68,
   "metadata": {},
   "outputs": [
    {
     "name": "stdout",
     "output_type": "stream",
     "text": [
      "0\n",
      "1\n"
     ]
    }
   ],
   "source": [
    "# Fibonacci series\n",
    "\n",
    "def fib(n):\n",
    "    if n <= 1:\n",
    "        return n\n",
    "    else:\n",
    "        return fib(n-1) + fib(n-2)\n",
    "    \n",
    "n = int(input(\"Enter a number: \"))\n",
    "for i in range(n):\n",
    "    print(fib(i))"
   ]
  }
 ],
 "metadata": {
  "kernelspec": {
   "display_name": "base",
   "language": "python",
   "name": "python3"
  },
  "language_info": {
   "codemirror_mode": {
    "name": "ipython",
    "version": 3
   },
   "file_extension": ".py",
   "mimetype": "text/x-python",
   "name": "python",
   "nbconvert_exporter": "python",
   "pygments_lexer": "ipython3",
   "version": "3.12.2"
  }
 },
 "nbformat": 4,
 "nbformat_minor": 2
}
