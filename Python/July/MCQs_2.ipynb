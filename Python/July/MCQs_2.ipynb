{
 "cells": [
  {
   "cell_type": "code",
   "execution_count": 2,
   "metadata": {},
   "outputs": [
    {
     "name": "stdout",
     "output_type": "stream",
     "text": [
      "The key is not in the dictionary.\n"
     ]
    }
   ],
   "source": [
    "\"\"\" \n",
    "Date : 2024-07-08\n",
    "\"\"\"\n",
    "\n",
    "dictionary = {'A': 1, 'B': 2, 'C': 3, 'D': 4, 'E': 5}\n",
    "keys = dictionary.keys()\n",
    "\n",
    "u = input(\"Enter a key: \")\n",
    "if u in keys:\n",
    "    print(\"The key is in the dictionary.\")\n",
    "else: \n",
    "    print(\"The key is not in the dictionary.\")"
   ]
  },
  {
   "cell_type": "code",
   "execution_count": 20,
   "metadata": {},
   "outputs": [
    {
     "name": "stdout",
     "output_type": "stream",
     "text": [
      "Common elements:  [5]\n"
     ]
    }
   ],
   "source": [
    "list_1 = [1, 2, 3, 4, 5]\n",
    "list_2 = [5, 6, 7, 8, 9]\n",
    "\n",
    "#common = set(list_1) & set(list_2)\n",
    "common = [ i for i in list_1 if i in list_2]\n",
    "print(\"Common elements: \", common)\n"
   ]
  },
  {
   "cell_type": "code",
   "execution_count": 34,
   "metadata": {},
   "outputs": [
    {
     "name": "stdout",
     "output_type": "stream",
     "text": [
      "{'t': 2, 'h': 1, 'i': 2, 's': 2, 'a': 1, 'c': 1}\n"
     ]
    }
   ],
   "source": [
    "# find occurance of each letter in string and convert to dic\n",
    "\n",
    "user = input(\"Enter a string: \")\n",
    "#u = u.replace(\" \", \"\")\n",
    "#print(u)\n",
    "dic = {}\n",
    "\n",
    "for i in user:\n",
    "    if i in dic:\n",
    "        dic[i] += 1\n",
    "    elif i == \" \":\n",
    "        pass\n",
    "    else:\n",
    "        dic[i] = 1\n",
    "        \n",
    "print(dic)"
   ]
  },
  {
   "cell_type": "code",
   "execution_count": 37,
   "metadata": {},
   "outputs": [],
   "source": [
    "# open file\n",
    "\n",
    "file_1 = open(\"/Users/kshitijhalder/Desktop/ACT/Python/June/example.txt\", \"a\")\n",
    "file_2 = open(\"/Users/kshitijhalder/Desktop/ACT/Python/June/ACT.txt\", \"r\")\n",
    "\n",
    "# append file_2 to file_1:\n",
    "i = file_2.read()\n",
    "file_1.write(i)\n",
    "    \n",
    "file_1.close()\n",
    "file_2.close()"
   ]
  },
  {
   "cell_type": "code",
   "execution_count": 61,
   "metadata": {},
   "outputs": [
    {
     "name": "stdout",
     "output_type": "stream",
     "text": [
      "6\n",
      "2\n"
     ]
    }
   ],
   "source": [
    "# maximum frequency of a letter in a numpy array\n",
    "import numpy as np\n",
    "\n",
    "a = np.array([[1, 2, 2], [2, 2, 2], [2, 3, 4,]])\n",
    "\n",
    "# print(np.bincount(a).argmax())\n",
    "a = list(a)\n",
    "a = [j for i in a for j in i]\n",
    "print(a.count(2))\n",
    "print(max(a, key = a.count))"
   ]
  },
  {
   "cell_type": "code",
   "execution_count": 49,
   "metadata": {},
   "outputs": [
    {
     "data": {
      "text/plain": [
       "0"
      ]
     },
     "execution_count": 49,
     "metadata": {},
     "output_type": "execute_result"
    }
   ],
   "source": [
    "# Multiplication of two numbers without using * operator (using repetitive addition)\n",
    "\n",
    "number = int(input(\"Enter a number: \"))\n",
    "times = int(input(\"Enter the number of times: \"))\n",
    "\n",
    "def repeat(number, times):\n",
    "    if times == 0:\n",
    "        return 0\n",
    "    else:\n",
    "        return number + repeat(number, times-1)\n",
    "    \n",
    "repeat(number, times)"
   ]
  },
  {
   "cell_type": "code",
   "execution_count": 68,
   "metadata": {},
   "outputs": [
    {
     "name": "stdout",
     "output_type": "stream",
     "text": [
      "0\n",
      "1\n"
     ]
    }
   ],
   "source": [
    "# Fibonacci series\n",
    "\n",
    "def fib(n):\n",
    "    if n <= 1:\n",
    "        return n\n",
    "    else:\n",
    "        return fib(n-1) + fib(n-2)\n",
    "    \n",
    "n = int(input(\"Enter a number: \"))\n",
    "for i in range(n):\n",
    "    print(fib(i))"
   ]
  },
  {
   "cell_type": "code",
   "execution_count": 1,
   "metadata": {},
   "outputs": [
    {
     "name": "stdout",
     "output_type": "stream",
     "text": [
      "{'A': 3, 'B': 5, 'C': 3, 'D': 4}\n",
      "Counter({'B': 5, 'D': 4, 'A': 3, 'C': 3})\n",
      "<class 'collections.Counter'>\n",
      "{'A': 3, 'B': 5, 'C': 3, 'D': 4}\n"
     ]
    }
   ],
   "source": [
    "\"\"\" \n",
    "Date : 2024-07-09\n",
    "\"\"\"\n",
    "\n",
    "# Add the values of common keys\n",
    "\n",
    "dic_1 = {'A': 1, 'B': 2, 'C': 3}\n",
    "dic_2 = {'A': 2, 'B': 3, 'D': 4}\n",
    "\n",
    "# Initialize dic_3 as a new dictionary to store the result\n",
    "dic_3 = {}\n",
    "\n",
    "# Iterate over the keys in dic_1\n",
    "for key in dic_1:\n",
    "    if key in dic_2:\n",
    "        dic_3[key] = dic_1[key] + dic_2[key]\n",
    "    else:\n",
    "        dic_3[key] = dic_1[key]\n",
    "\n",
    "# Add keys from dic_2 that are not in dic_1\n",
    "for key in dic_2:\n",
    "    if key not in dic_1:\n",
    "        dic_3[key] = dic_2[key]\n",
    "\n",
    "print(dic_3)\n",
    "\n",
    "\"\"\" //////////////////////////////////////////////////////// \"\"\"\n",
    "\n",
    "from collections import Counter\n",
    "dic_1 = {'A': 1, 'B': 2, 'C': 3}\n",
    "dic_2 = {'A': 2, 'B': 3, 'D': 4}\n",
    "\n",
    "# Use Counter to add the values of common keys\n",
    "result = Counter(dic_1) + Counter(dic_2)\n",
    "print(result)\n",
    "print(type(result))\n",
    "print(dict(result))"
   ]
  },
  {
   "cell_type": "code",
   "execution_count": 17,
   "metadata": {},
   "outputs": [
    {
     "name": "stdout",
     "output_type": "stream",
     "text": [
      "6\n"
     ]
    }
   ],
   "source": [
    "# Open txt file and count the number of alphabets\n",
    "\n",
    "file = open(\"/Users/kshitijhalder/Desktop/ACT/Python/June/ACT.txt\", \"r\")\n",
    "\n",
    "file = file.read()\n",
    "file = file.replace(\" \", \"\").replace(\"\\n\", \"\")  \n",
    "\n",
    "# search the letter occurance in the file\n",
    "\n",
    "letter = input(\"Enter a letter: \")\n",
    "print(file.count(letter))"
   ]
  },
  {
   "cell_type": "code",
   "execution_count": 21,
   "metadata": {},
   "outputs": [
    {
     "name": "stdout",
     "output_type": "stream",
     "text": [
      "jemmo xosmf\n"
     ]
    }
   ],
   "source": [
    "# Replace consonant with next consonant\n",
    "\n",
    "def next_consonant(letter):\n",
    "    consonants = \"bcdfghjklmnpqrstvwxyz\"\n",
    "    for i in range(len(consonants)):\n",
    "        if letter == consonants[i]:\n",
    "            return consonants[i+1]\n",
    "    return letter\n",
    "\n",
    "word = input(\"Enter a word: \")\n",
    "new_word = \"\"\n",
    "for i in word:\n",
    "    new_word += next_consonant(i)\n",
    "    \n",
    "print(new_word)"
   ]
  },
  {
   "cell_type": "code",
   "execution_count": 25,
   "metadata": {},
   "outputs": [
    {
     "name": "stdout",
     "output_type": "stream",
     "text": [
      "[1, 5]\n"
     ]
    }
   ],
   "source": [
    "# Create new list of elements that occur more than one\n",
    "\n",
    "list_1 = [1, 2, 3, 4, 5, 5, 6, 7, 8, 9, 1]\n",
    "\n",
    "new = []\n",
    "\n",
    "if len(list_1) == len(set(list_1)):\n",
    "    print(\"No duplicates\")\n",
    "else:\n",
    "    for i in list_1:\n",
    "        if list_1.count(i) > 1 and i not in new:\n",
    "            new.append(i)\n",
    "        \n",
    "print(new)"
   ]
  },
  {
   "cell_type": "code",
   "execution_count": 27,
   "metadata": {},
   "outputs": [
    {
     "name": "stdout",
     "output_type": "stream",
     "text": [
      "dict_values([1, 2, 3, 4, 5])\n",
      "3.0\n"
     ]
    }
   ],
   "source": [
    "# Mean of values in dictionary\n",
    "import scipy.stats as stats\n",
    "\n",
    "dic = {'A': 1, 'B': 2, 'C': 3, 'D': 4, 'E': 5}\n",
    "values = dic.values()\n",
    "print(values)\n",
    "print(stats.describe(list(values)).mean)"
   ]
  },
  {
   "cell_type": "code",
   "execution_count": 28,
   "metadata": {},
   "outputs": [
    {
     "name": "stdout",
     "output_type": "stream",
     "text": [
      "[1, 3, 6, 10, 15]\n"
     ]
    }
   ],
   "source": [
    "# Find cumulative sum of a list\n",
    "\n",
    "list_1 = [1, 2, 3, 4, 5]\n",
    "cumulative_sum = []\n",
    "\n",
    "for i in range(len(list_1)):\n",
    "    cumulative_sum.append(sum(list_1[:i+1]))\n",
    "    \n",
    "print(cumulative_sum)"
   ]
  },
  {
   "cell_type": "code",
   "execution_count": 30,
   "metadata": {},
   "outputs": [
    {
     "name": "stdout",
     "output_type": "stream",
     "text": [
      "['A', 'B', 'C', 'D', 'E']\n",
      "[1, 2, 3, 4, 5]\n"
     ]
    }
   ],
   "source": [
    "# Sort dictionary by keys & values\n",
    "\n",
    "dic = {'E': 5, 'A': 1, 'D': 4, 'B': 2, 'C': 3}\n",
    "sorted_keys = sorted(dic.keys())\n",
    "sorted_values = sorted(dic.values())\n",
    "\n",
    "print(sorted_keys)\n",
    "print(sorted_values)"
   ]
  },
  {
   "cell_type": "code",
   "execution_count": 38,
   "metadata": {},
   "outputs": [
    {
     "name": "stdout",
     "output_type": "stream",
     "text": [
      "9\n"
     ]
    }
   ],
   "source": [
    "# Repetitive addition to multiply two numbers\n",
    "\n",
    "num = int(input(\"Enter a number: \"))\n",
    "times = int(input(\"Enter the number of times: \"))\n",
    "\n",
    "product = 0\n",
    "\n",
    "for i in range(times):\n",
    "    product += num\n",
    "    \n",
    "print(product)"
   ]
  },
  {
   "cell_type": "code",
   "execution_count": 42,
   "metadata": {},
   "outputs": [
    {
     "name": "stdout",
     "output_type": "stream",
     "text": [
      "False\n"
     ]
    }
   ],
   "source": [
    "# Return True if common item in two lists\n",
    "\n",
    "list_1 = [1, 2, 3, 4, 5]\n",
    "list_2 = [5, 6, 7, 8, 9]\n",
    "\n",
    "common = set(list_1) & set(list_2)\n",
    "print(bool(common))"
   ]
  },
  {
   "cell_type": "code",
   "execution_count": 52,
   "metadata": {},
   "outputs": [
    {
     "name": "stdout",
     "output_type": "stream",
     "text": [
      "75\n"
     ]
    },
    {
     "data": {
      "text/plain": [
       "True"
      ]
     },
     "execution_count": 52,
     "metadata": {},
     "output_type": "execute_result"
    }
   ],
   "source": [
    "# From random 1-100 number, check if number is divisible by 5\n",
    "\n",
    "from random import *\n",
    "\n",
    "def DivideByFive():\n",
    "    num = randint(1, 100)\n",
    "    print(num)\n",
    "    if num % 5 == 0:\n",
    "        return True\n",
    "    else:\n",
    "        return False\n",
    "    \n",
    "DivideByFive()"
   ]
  },
  {
   "cell_type": "code",
   "execution_count": 53,
   "metadata": {},
   "outputs": [],
   "source": [
    "# compute HCP \n",
    "\n",
    "def HCP(hand):\n",
    "    points = 0\n",
    "    for card in hand:\n",
    "        if card[0] == 'A':\n",
    "            points += 4\n",
    "        elif card[0] == 'K':\n",
    "            points += 3\n",
    "        elif card[0] == 'Q':\n",
    "            points += 2\n",
    "        elif card[0] == 'J':\n",
    "            points += 1\n",
    "    return points\n",
    "\n",
    "hand = ['AH', 'KH', 'QH', 'JH', '10H']"
   ]
  },
  {
   "cell_type": "code",
   "execution_count": 7,
   "metadata": {},
   "outputs": [
    {
     "name": "stdout",
     "output_type": "stream",
     "text": [
      "Hello Kshitij\n"
     ]
    }
   ],
   "source": [
    "# __Init__ method\n",
    "\n",
    "class acc:\n",
    "    def __init__(self, name, balance):\n",
    "        self.name= name\n",
    "        self.balance = balance\n",
    "    def greet(self):\n",
    "        return f\"Hello {self.name}\"\n",
    "Acc = acc(\"Kshitij\", 1000)\n",
    "print(Acc.greet())"
   ]
  },
  {
   "cell_type": "code",
   "execution_count": 10,
   "metadata": {},
   "outputs": [
    {
     "name": "stdout",
     "output_type": "stream",
     "text": [
      "111\n"
     ]
    }
   ],
   "source": [
    "class Acc:\n",
    "    # __init__ : init method is called when an object is created from the class and it allow the class to initialize the attributes of a class.\n",
    "    def __init__(self, id):\n",
    "        self.id = id\n",
    "        id = 555\n",
    "acc = Acc(111)\n",
    "print(acc.id)"
   ]
  },
  {
   "cell_type": "code",
   "execution_count": 6,
   "metadata": {},
   "outputs": [
    {
     "name": "stdout",
     "output_type": "stream",
     "text": [
      "5\n"
     ]
    }
   ],
   "source": [
    "import functools\n",
    "\n",
    "l = [1, 2, 4, 3, 5]\n",
    "m = functools.reduce(lambda x, y:x if x>y else y , l)\n",
    "\"\"\" \n",
    "1. Bubble Sort\n",
    "        It uses a comparison-based algorithm in which each pair of adjacent elements is compared and the elements are swapped if they are not in order.\n",
    "        eg. for loop, while loop, if condition, swap function, nested loop\n",
    "2. Selection Sort\n",
    "        It is a sorting algorithm that selects the smallest element from an unsorted list in each iteration and places that element at the beginning of the unsorted list.\n",
    "        eg. for loop, while loop, if condition, swap function, nested loop, lambda function\n",
    "3. Insertion Sort\n",
    "        It is a sorting algorithm that places an unsorted element at its suitable place in each iteration.\n",
    "        eg. for loop, while loop, if condition, swap function, nested loop\n",
    "4. Merge Sort\n",
    "        It is a sorting algorithm that is based on the principle of Divide and Conquer Algorithm.\n",
    "        eg. recursion, divide and conquer, merge function, nested loop\n",
    "5. Quick Sort\n",
    "        It is a sorting algorithm based on divide and conquer algorithm that picks an element as pivot and partitions the given array around the picked pivot.\n",
    "        eg. recursion, divide and conquer, partition function, nested loop\n",
    "6. Heap Sort\n",
    "        It is a comparison based sorting technique based on Binary Heap data structure. It is similar to selection sort where we first find the maximum element and place the maximum element at the end. We repeat the same process for remaining element.\n",
    "        eg. heapify function, swap function, nested loop\n",
    "7. Counting Sort\n",
    "        It is a sorting technique based on keys between a specific range. It works by counting the number of objects having distinct key values, then doing some arithmetic to calculate the position of each object in the output sequence.\n",
    "        eg. for loop, while loop, if condition, swap function, nested loop\n",
    "8. Radix Sort\n",
    "        It is a non-comparative integer sorting algorithm that sorts data with integer keys by grouping keys by the individual digits which share the same significant position and value.\n",
    "        eg. for loop, while loop, if condition, swap function, nested loop\n",
    "9. Bucket Sort\n",
    "        It is a sorting algorithm that divides the unsorted array elements into several groups called buckets. Each bucket is then sorted by using any sorting algorithm or recursively applying the same bucket algorithm.\n",
    "        eg. for loop, while loop, if condition, swap function, nested loop\n",
    "10. Shell Sort\n",
    "        It is a sorting algorithm that is an extension of insertion sort algorithm. This sorting algorithm is based on insertion sort algorithm. However, the main difference is that insertion sort compares elements with 1 index distance while shell sort compares elements with n/2 index distance.\n",
    "        eg. for loop, while loop, if condition, swap function, nested loop\n",
    "\"\"\"\n",
    "print(m)"
   ]
  },
  {
   "cell_type": "code",
   "execution_count": 1,
   "metadata": {},
   "outputs": [
    {
     "name": "stdout",
     "output_type": "stream",
     "text": [
      "None\n",
      "[3, 4, 5]\n"
     ]
    }
   ],
   "source": [
    "\"\"\" \n",
    "Date : 2024-07-18\n",
    "\"\"\"\n",
    "\n",
    "def increment_items(L, increment):\n",
    "    i = 0\n",
    "    while i < len(L):\n",
    "        L[i] = L[i] + increment\n",
    "        i += 1\n",
    "\n",
    "values = [1, 2, 3]\n",
    "print(increment_items(values, 2))\n",
    "print(values)"
   ]
  },
  {
   "cell_type": "code",
   "execution_count": 5,
   "metadata": {},
   "outputs": [
    {
     "name": "stdout",
     "output_type": "stream",
     "text": [
      "False\n",
      "True\n"
     ]
    }
   ],
   "source": [
    "print(all({0: 'A', 1: 'B', 2: 'C'}))\n",
    "print(any({0: 'A', 1: 'B', 2: 'C'}))"
   ]
  },
  {
   "cell_type": "code",
   "execution_count": 10,
   "metadata": {},
   "outputs": [
    {
     "name": "stdout",
     "output_type": "stream",
     "text": [
      "2 3 4 5 6 6 "
     ]
    }
   ],
   "source": [
    "myList = [1, 2, 3, 4, 5, 6]\n",
    "\n",
    "for i in range(1, 6):\n",
    "    myList[i-1] = myList[i]\n",
    "for i in range(0, 6):\n",
    "    print(myList[i], end = \" \")"
   ]
  }
 ],
 "metadata": {
  "kernelspec": {
   "display_name": "base",
   "language": "python",
   "name": "python3"
  },
  "language_info": {
   "codemirror_mode": {
    "name": "ipython",
    "version": 3
   },
   "file_extension": ".py",
   "mimetype": "text/x-python",
   "name": "python",
   "nbconvert_exporter": "python",
   "pygments_lexer": "ipython3",
   "version": "3.12.2"
  }
 },
 "nbformat": 4,
 "nbformat_minor": 2
}
