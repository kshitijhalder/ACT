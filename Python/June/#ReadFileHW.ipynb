{
 "cells": [
  {
   "cell_type": "markdown",
   "metadata": {},
   "source": [
    "Write a function in python to count the number of lines from a text file \"ACT.txt\" which is not starting with an alphabet \"T\""
   ]
  },
  {
   "cell_type": "code",
   "execution_count": 8,
   "metadata": {},
   "outputs": [
    {
     "name": "stdout",
     "output_type": "stream",
     "text": [
      "Number of lines not starting with 'T': 9\n"
     ]
    }
   ],
   "source": [
    "def count_lines_not_starting_with_T(file_path):\n",
    "    # Initialize a counter for lines not starting with 'T'\n",
    "    count = 0\n",
    "    \n",
    "    # Open the file in read mode\n",
    "    with open(file_path, 'r') as file:\n",
    "        # Iterate through each line in the file\n",
    "        for line in file:\n",
    "            if not line.startswith('T') and not line.startswith('t'):\n",
    "                # Increment the counter\n",
    "                count += 1\n",
    "    \n",
    "    # Return the count of lines not starting with 'T'\n",
    "    return count\n",
    "\n",
    "# Example usage\n",
    "file_path = \"ACT.txt\"\n",
    "print(f\"Number of lines not starting with 'T': {count_lines_not_starting_with_T(file_path)}\")"
   ]
  },
  {
   "cell_type": "markdown",
   "metadata": {},
   "source": [
    "2.\\\\ \\ Write a function display_words() in python to read lines from a text file \"ACT.txt\", and display those words, which are less than 4 characters."
   ]
  },
  {
   "cell_type": "code",
   "execution_count": 1,
   "metadata": {},
   "outputs": [
    {
     "name": "stdout",
     "output_type": "stream",
     "text": [
      "Het\n"
     ]
    }
   ],
   "source": [
    "def display_words(file_path):\n",
    "    \n",
    "    with open(file_path, 'r') as file:\n",
    "        for line in file:\n",
    "            # Split the line into words\n",
    "            words = line.split()\n",
    "            for word in words:\n",
    "                # Check if the length of the word is less than 4\n",
    "                if len(word) < 4:\n",
    "                    print(word)\n",
    "\n",
    "# Example usage\n",
    "file_path = \"ACT.txt\"\n",
    "display_words(file_path)"
   ]
  },
  {
   "cell_type": "markdown",
   "metadata": {},
   "source": [
    "3.\\\\ \\ Write a function in Python to count uppercase character in a text file."
   ]
  },
  {
   "cell_type": "code",
   "execution_count": 3,
   "metadata": {},
   "outputs": [
    {
     "name": "stdout",
     "output_type": "stream",
     "text": [
      "Number of uppercase characters: 5\n"
     ]
    }
   ],
   "source": [
    "def count_uppercase_characters(file_path):\n",
    "    # Initialize a counter for uppercase characters\n",
    "    count = 0\n",
    "    \n",
    "    with open(file_path, 'r') as file:\n",
    "        content = file.read()\n",
    "        for char in content:\n",
    "            # Check if the character is uppercase\n",
    "            if char.isupper():\n",
    "                count += 1\n",
    "\n",
    "    return count\n",
    "\n",
    "# Example usage\n",
    "file_path = \"ACT.txt\"\n",
    "print(f\"Number of uppercase characters: {count_uppercase_characters(file_path)}\")"
   ]
  },
  {
   "cell_type": "markdown",
   "metadata": {},
   "source": [
    "4. \\\\ \\ Write a python code to display the details of the mode when chosen. For example if \"r\" is chosen then read mode and its details should be shown. Do the same for a, a+, w, etc"
   ]
  },
  {
   "cell_type": "code",
   "execution_count": 4,
   "metadata": {},
   "outputs": [
    {
     "name": "stdout",
     "output_type": "stream",
     "text": [
      "Mode 'w': Write mode: Opens a file for writing only. Overwrites the file if the file exists. If the file does not exist, creates a new file for writing.\n"
     ]
    }
   ],
   "source": [
    "def display_file_mode_details(mode):\n",
    "    # Dictionary mapping file modes to their descriptions\n",
    "    mode_details = {\n",
    "        'r': \"Read mode: Opens a file for reading only.\",\n",
    "        'r+': \"Read/Write mode: Opens a file for both reading and writing.\",\n",
    "        'w': \"Write mode: Opens a file for writing only. Overwrites the file if the file exists. If the file does not exist, creates a new file for writing.\",\n",
    "        'w+': \"Read/Write mode: Opens a file for both writing and reading. Overwrites the existing file if the file exists. If the file does not exist, creates a new one for reading and writing.\",\n",
    "        'a': \"Append mode: Opens a file for appending. The file pointer is at the end of the file if the file exists. That is, the file is in the append mode. If the file does not exist, it creates a new file for writing.\",\n",
    "        'a+': \"Read/Append mode: Opens a file for both appending and reading. The file pointer is at the end of the file if the file exists. The file opens in the append mode. If the file does not exist, it creates a new file for reading and writing.\",\n",
    "        'x': \"Exclusive creation: Creates a new file. The operation fails if the file already exists.\",\n",
    "        'x+': \"Read/Write mode (exclusive creation): Creates a new file for reading and writing. The operation fails if the file already exists.\"\n",
    "    }\n",
    "\n",
    "    # Display the details of the chosen mode\n",
    "    details = mode_details.get(mode, \"Invalid mode: The mode you have entered is not recognized.\")\n",
    "    print(f\"Mode '{mode}': {details}\")\n",
    "\n",
    "# Example usage\n",
    "mode = input(\"Enter the file mode (e.g., 'r', 'w', 'a', 'r+', 'w+', 'a+', 'x', 'x+'): \")\n",
    "display_file_mode_details(mode)"
   ]
  },
  {
   "cell_type": "markdown",
   "metadata": {},
   "source": [
    "Email id, pass. Before @ should have 6 characters and .com/ .in at the end.\n",
    "Min 8 char in password.Should include nos., chars [upper and lower] & symbols."
   ]
  },
  {
   "cell_type": "code",
   "execution_count": 2,
   "metadata": {},
   "outputs": [
    {
     "name": "stdout",
     "output_type": "stream",
     "text": [
      "Email id: kshitij@gmail.com is valid\n",
      "Password: Ggsjsjs@1231 is valid\n",
      "Login successful\n",
      "Exiting the application...\n"
     ]
    }
   ],
   "source": [
    "import re\n",
    "import pandas as pd\n",
    "from getpass import getpass\n",
    "\n",
    "# Initialize an empty DataFrame\n",
    "data = pd.DataFrame(columns=['Email id', 'Password'])  \n",
    "\n",
    "def check_email_id(e_mail):\n",
    "    # Regular expression to validate email IDs\n",
    "    return bool(re.match(r'^[a-zA-Z]{6,}@[a-zA-Z]+\\.(com|in|org|net|int|edu|gov|mil)$', e_mail))\n",
    "\n",
    "def check_password(password):\n",
    "    # Regular expression to validate passwords (should contain at least 8 characters, one lowercase letter, one uppercase letter, one digit and one special character)\n",
    "    return bool(re.match(r'^(?=.*[a-z])(?=.*[A-Z])(?=.*\\d)(?=.*[@$!%*?&])[A-Za-z\\d@$!%*?&]{8,}$', password))\n",
    "\n",
    "def login(e_mail, password):\n",
    "    # Check if the email ID and password exist in the DataFrame\n",
    "    if e_mail in data['Email id'].values and password in data['Password'].values:\n",
    "        print(\"Login successful\")\n",
    "    else:\n",
    "        print(\"Invalid credentials. Please try again.\")\n",
    "\n",
    "# Main loop to create an account or log in/log out\n",
    "while True:\n",
    "    choice = input(\"Do you want to create an account or Log In/Log Out? (create/Login/Logout): \")\n",
    "    \n",
    "    if choice == 'create':   \n",
    "        while True:  \n",
    "            e_mail, password = input(\"Email id: \"), getpass(\"Password: \")\n",
    "            data.loc[len(data)] = [e_mail, password]  # Add new row to the DataFrame\n",
    "\n",
    "            # Validate email ID \n",
    "            id = check_email_id(e_mail)\n",
    "\n",
    "            if id is True:\n",
    "                print(f\"Email id: {e_mail} is valid\")     \n",
    "            else:\n",
    "                email_rules = {\n",
    "                    \"length\": lambda e_mail: not re.match(r'^[a-zA-Z]{6,}', e_mail),\n",
    "                    \"special_char\": lambda e_mail: not re.match(r'@[a-zA-Z]+', e_mail),\n",
    "                    \"domain\": lambda e_mail: not re.match(r'\\.(com|in|org|net|int|edu|gov|mil)$', e_mail)\n",
    "                }\n",
    "\n",
    "                for rule, condition in email_rules.items():\n",
    "                    if condition(e_mail):\n",
    "                        print(f\"ERROR: {rule.title()}\")\n",
    "\n",
    "                \n",
    "            # Validate password\n",
    "            pwd = check_password(password)\n",
    "            \n",
    "            if pwd is True:\n",
    "                print(f\"Password: {password} is valid\")\n",
    "            else:\n",
    "                password_rules = {\n",
    "                    \"length\": lambda password: len(password) < 8,\n",
    "                    \"lowercase\": lambda password: not re.search(\"[a-z]\", password),\n",
    "                    \"uppercase\": lambda password: not re.search(\"[A-Z]\", password),\n",
    "                    \"digit\": lambda password: not re.search(\"[0-9]\", password),\n",
    "                    \"special_char\": lambda password: not re.search(\"[.@$!%*?&]\", password)\n",
    "                }\n",
    "\n",
    "                for rule, condition in password_rules.items():\n",
    "                    if condition(password):\n",
    "                        print(f\"ERROR: Password should contain {rule}\")\n",
    "\n",
    "            \n",
    "            break\n",
    "    \n",
    "    elif choice.lower() in ['login', 'log in']:\n",
    "        while True:\n",
    "            e_mail, password = input(\"Email id: \"), getpass(\"Password: \")\n",
    "\n",
    "            login(e_mail, password)\n",
    "            break\n",
    "    elif choice.lower() in ['logout', 'log out']:\n",
    "        print(\"Exiting the application...\")\n",
    "        break        \n",
    "\n",
    "    else:\n",
    "        print(\"Invalid choice. Please choose create, Login/Log Out or exit.\")\n",
    "\n",
    "    cont = input(\"Do you want to continue? (yes/no): \")\n",
    "    \n",
    "    if cont.lower() != 'yes':\n",
    "        print(\"Exiting the application...\")\n",
    "        break\n"
   ]
  },
  {
   "cell_type": "markdown",
   "metadata": {},
   "source": [
    "            SCRAJJJJJJJJJ"
   ]
  },
  {
   "cell_type": "code",
   "execution_count": 3,
   "metadata": {},
   "outputs": [
    {
     "name": "stdout",
     "output_type": "stream",
     "text": [
      "Email id: kshitij@gmail.com is valid\n",
      "Password: Ggshsksk@1231 are valid\n",
      "Login successful\n"
     ]
    }
   ],
   "source": [
    "\n",
    "import re, os\n",
    "import pandas as pd\n",
    "from getpass import getpass\n",
    "\n",
    "data = pd.DataFrame(columns=['Email id', 'Password'])  # Initialize an empty DataFrame\n",
    "\n",
    "def check_email_id(e_mail):\n",
    "    RE_mail = re.match(r'^[a-zA-Z]{6,}@[a-zA-Z]+\\.(com|in|org|net|int|edu|gov|mil)$', e_mail)\n",
    "    if RE_mail:\n",
    "        return True\n",
    "    else:\n",
    "        return False\n",
    "    \n",
    "def check_password(password):\n",
    "    RE_pwd = re.match(r'^(?=.*[a-z])(?=.*[A-Z])(?=.*\\d)(?=.*[@$!%*?&])[A-Za-z\\d@$!%*?&]{8,}$', password)\n",
    "    if RE_pwd:\n",
    "        return True\n",
    "    else:\n",
    "        return False\n",
    "        \n",
    "def login(e_mail, password):\n",
    "    if e_mail in data['Email id'].values and password in data['Password'].values:\n",
    "        print(\"Login successful\")\n",
    "    else:\n",
    "        print(\"Invalid credentials. Please try again.\")\n",
    "\n",
    "while True:\n",
    "    choice = input(\"Do you want to create an account or Log In/Log Out? (create/Login/Logout): \")\n",
    "    \n",
    "    if choice == 'create':   \n",
    "        while True:  \n",
    "            e_mail = input(\"Email id: \")\n",
    "            password = getpass(\"Password: \")\n",
    "\n",
    "            data.loc[len(data)] = [e_mail, password]  # Add new row to the DataFrame\n",
    "\n",
    "            id = check_email_id(e_mail)\n",
    "            pwd = check_password(password)\n",
    "\n",
    "            if id is True:\n",
    "                print(f\"Email id: {e_mail} is valid\")   \n",
    "            else:\n",
    "                # Identify the error and print the appropriate message\n",
    "                if not re.match(r'^[a-zA-Z]{6,}', e_mail):\n",
    "                    print(\"ERROR: Email should contain atleast 6 alphabets before @\")\n",
    "                    continue\n",
    "                if not re.match(r'@[a-zA-Z]+', e_mail):\n",
    "                    print(\"ERROR: Email should contain only 1 special char '@'\")\n",
    "                    continue\n",
    "                if not re.match(r'\\.(com|in|org|net|int|edu|gov|mil)$', e_mail):\n",
    "                    print(\"ERROR: Email should end with official domain eg. .com, .in, .org\")\n",
    "                    continue\n",
    "                \n",
    "            if pwd is True:\n",
    "                print(f\"Password: {password} are valid\")\n",
    "                break\n",
    "            else:\n",
    "                # Identify the error in the password\n",
    "                if len(password) < 8:\n",
    "                    print(\"ERROR: Password should contain minimum 8 characters\")\n",
    "                    continue\n",
    "                if not re.search(\"[a-z]\", password):\n",
    "                    print(\"ERROR: Password should contain atleast 1 lowercase alphabet\")\n",
    "                    continue\n",
    "                if not re.search(\"[A-Z]\", password):\n",
    "                    print(\"ERROR: Password should contain atleast 1 uppercase alphabet\")\n",
    "                    continue\n",
    "                if not re.search(\"[0-9]\", password):\n",
    "                    print(\"ERROR: Password should contain atleast 1 digit\")\n",
    "                    continue\n",
    "                if not re.search(\"[.@$!%*?&]\", password):\n",
    "                    print(\"ERROR: Password should contain atleast 1 special character\")\n",
    "                    continue\n",
    "            \n",
    "            break\n",
    "    \n",
    "    elif choice.lower() in ['login', 'log in']:\n",
    "        while True:\n",
    "            e_mail = input(\"Email id: \")\n",
    "            password = getpass(\"Password: \")\n",
    "\n",
    "            if e_mail in data['Email id'].values and password in [i[1] for i in data.values]:\n",
    "                print(\"Login successful\")\n",
    "                break\n",
    "            else:\n",
    "                print(\"Invalid credentials. Please try again.\")\n",
    "    \n",
    "    elif choice.lower() in ['logout', 'log out']:\n",
    "        print(\"Logout successful\")\n",
    "\n",
    "    else:\n",
    "        print(\"Invalid choice. Please choose create, Login/Log Out or exit.\")\n",
    "\n",
    "    cont = input(\"Do you want to continue? (yes/no): \")\n",
    "    \n",
    "    if cont.lower() != 'yes':\n",
    "        break\n"
   ]
  },
  {
   "cell_type": "code",
   "execution_count": null,
   "metadata": {},
   "outputs": [
    {
     "name": "stdout",
     "output_type": "stream",
     "text": [
      "***\n",
      "<class 'str'>\n"
     ]
    }
   ],
   "source": [
    "import getpass\n",
    "\n",
    "a = getpass.getpass(\"Enter password: \")\n",
    "print(\"*\"*len(a))\n",
    "print(type(a))\n"
   ]
  }
 ],
 "metadata": {
  "kernelspec": {
   "display_name": "base",
   "language": "python",
   "name": "python3"
  },
  "language_info": {
   "codemirror_mode": {
    "name": "ipython",
    "version": 3
   },
   "file_extension": ".py",
   "mimetype": "text/x-python",
   "name": "python",
   "nbconvert_exporter": "python",
   "pygments_lexer": "ipython3",
   "version": "3.11.6"
  }
 },
 "nbformat": 4,
 "nbformat_minor": 2
}
