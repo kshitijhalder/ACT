{
 "cells": [
  {
   "cell_type": "markdown",
   "metadata": {},
   "source": [
    "Write a function in python to count the number of lines from a text file \"ACT.txt\" which is not starting with an alphabet \"T\""
   ]
  },
  {
   "cell_type": "code",
   "execution_count": 8,
   "metadata": {},
   "outputs": [
    {
     "name": "stdout",
     "output_type": "stream",
     "text": [
      "Number of lines not starting with 'T': 9\n"
     ]
    }
   ],
   "source": [
    "def count_lines_not_starting_with_T(file_path):\n",
    "    # Initialize a counter for lines not starting with 'T'\n",
    "    count = 0\n",
    "    \n",
    "    # Open the file in read mode\n",
    "    with open(file_path, 'r') as file:\n",
    "        # Iterate through each line in the file\n",
    "        for line in file:\n",
    "            if not line.startswith('T') and not line.startswith('t'):\n",
    "                # Increment the counter\n",
    "                count += 1\n",
    "    \n",
    "    # Return the count of lines not starting with 'T'\n",
    "    return count\n",
    "\n",
    "# Example usage\n",
    "file_path = \"ACT.txt\"\n",
    "print(f\"Number of lines not starting with 'T': {count_lines_not_starting_with_T(file_path)}\")"
   ]
  },
  {
   "cell_type": "markdown",
   "metadata": {},
   "source": [
    "2.\\\\ \\ Write a function display_words() in python to read lines from a text file \"ACT.txt\", and display those words, which are less than 4 characters."
   ]
  },
  {
   "cell_type": "code",
   "execution_count": 1,
   "metadata": {},
   "outputs": [
    {
     "name": "stdout",
     "output_type": "stream",
     "text": [
      "Het\n"
     ]
    }
   ],
   "source": [
    "def display_words(file_path):\n",
    "    \n",
    "    with open(file_path, 'r') as file:\n",
    "        for line in file:\n",
    "            # Split the line into words\n",
    "            words = line.split()\n",
    "            for word in words:\n",
    "                # Check if the length of the word is less than 4\n",
    "                if len(word) < 4:\n",
    "                    print(word)\n",
    "\n",
    "# Example usage\n",
    "file_path = \"ACT.txt\"\n",
    "display_words(file_path)"
   ]
  },
  {
   "cell_type": "markdown",
   "metadata": {},
   "source": [
    "3.\\\\ \\ Write a function in Python to count uppercase character in a text file."
   ]
  },
  {
   "cell_type": "code",
   "execution_count": 3,
   "metadata": {},
   "outputs": [
    {
     "name": "stdout",
     "output_type": "stream",
     "text": [
      "Number of uppercase characters: 5\n"
     ]
    }
   ],
   "source": [
    "def count_uppercase_characters(file_path):\n",
    "    # Initialize a counter for uppercase characters\n",
    "    count = 0\n",
    "    \n",
    "    with open(file_path, 'r') as file:\n",
    "        content = file.read()\n",
    "        for char in content:\n",
    "            # Check if the character is uppercase\n",
    "            if char.isupper():\n",
    "                count += 1\n",
    "\n",
    "    return count\n",
    "\n",
    "# Example usage\n",
    "file_path = \"ACT.txt\"\n",
    "print(f\"Number of uppercase characters: {count_uppercase_characters(file_path)}\")"
   ]
  },
  {
   "cell_type": "markdown",
   "metadata": {},
   "source": [
    "4. \\\\ \\ Write a python code to display the details of the mode when chosen. For example if \"r\" is chosen then read mode and its details should be shown. Do the same for a, a+, w, etc"
   ]
  },
  {
   "cell_type": "code",
   "execution_count": 4,
   "metadata": {},
   "outputs": [
    {
     "name": "stdout",
     "output_type": "stream",
     "text": [
      "Mode 'w': Write mode: Opens a file for writing only. Overwrites the file if the file exists. If the file does not exist, creates a new file for writing.\n"
     ]
    }
   ],
   "source": [
    "def display_file_mode_details(mode):\n",
    "    # Dictionary mapping file modes to their descriptions\n",
    "    mode_details = {\n",
    "        'r': \"Read mode: Opens a file for reading only.\",\n",
    "        'r+': \"Read/Write mode: Opens a file for both reading and writing.\",\n",
    "        'w': \"Write mode: Opens a file for writing only. Overwrites the file if the file exists. If the file does not exist, creates a new file for writing.\",\n",
    "        'w+': \"Read/Write mode: Opens a file for both writing and reading. Overwrites the existing file if the file exists. If the file does not exist, creates a new one for reading and writing.\",\n",
    "        'a': \"Append mode: Opens a file for appending. The file pointer is at the end of the file if the file exists. That is, the file is in the append mode. If the file does not exist, it creates a new file for writing.\",\n",
    "        'a+': \"Read/Append mode: Opens a file for both appending and reading. The file pointer is at the end of the file if the file exists. The file opens in the append mode. If the file does not exist, it creates a new file for reading and writing.\",\n",
    "        'x': \"Exclusive creation: Creates a new file. The operation fails if the file already exists.\",\n",
    "        'x+': \"Read/Write mode (exclusive creation): Creates a new file for reading and writing. The operation fails if the file already exists.\"\n",
    "    }\n",
    "\n",
    "    # Display the details of the chosen mode\n",
    "    details = mode_details.get(mode, \"Invalid mode: The mode you have entered is not recognized.\")\n",
    "    print(f\"Mode '{mode}': {details}\")\n",
    "\n",
    "# Example usage\n",
    "mode = input(\"Enter the file mode (e.g., 'r', 'w', 'a', 'r+', 'w+', 'a+', 'x', 'x+'): \")\n",
    "display_file_mode_details(mode)"
   ]
  },
  {
   "cell_type": "markdown",
   "metadata": {},
   "source": [
    "Email id, pass. Before @ should have 6 characters and .com/ .in at the end.\n",
    "Min 8 char in password.Should include nos., chars [upper and lower] & symbols."
   ]
  },
  {
   "cell_type": "code",
   "execution_count": 2,
   "metadata": {},
   "outputs": [
    {
     "name": "stdout",
     "output_type": "stream",
     "text": [
      "Account created for kshitij@gmail.com!\n",
      "Incorrect username or password. Try again!\n",
      "Logged out from kshitij@gmail.com's account!\n"
     ]
    }
   ],
   "source": [
    "import getpass\n",
    "import hashlib\n",
    "\n",
    "class Account:\n",
    "    def __init__(self, username, password):\n",
    "        self.username = username\n",
    "        self.password = hashlib.sha256(password.encode()).hexdigest()\n",
    "\n",
    "def create_account():\n",
    "    username = input(\"Enter a username: \")\n",
    "    password = getpass.getpass(\"Enter a password: \")\n",
    "    acc = Account(username, password)\n",
    "    print(f\"Account created for {username}!\")\n",
    "    return acc\n",
    "\n",
    "def login(acc):\n",
    "    username = input(\"Enter your username: \")\n",
    "    password = getpass.getpass(\"Enter your password: \")\n",
    "    if acc.username == username and acc.password == hashlib.sha256(password.encode()).hexdigest():\n",
    "        print(\"Login successful!\")\n",
    "        return True\n",
    "    else:\n",
    "        print(\"Incorrect username or password. Try again!\")\n",
    "        return False\n",
    "\n",
    "def logout(acc):\n",
    "    print(f\"Logged out from {acc.username}'s account!\")\n",
    "\n",
    "def main():\n",
    "    acc = create_account()\n",
    "    while True:\n",
    "        choice = input(\"Do you want to Log In (L) or Log Out (O)? \")\n",
    "        if choice.upper() == \"L\":\n",
    "            if login(acc):\n",
    "                break\n",
    "        elif choice.upper() == \"O\":\n",
    "            logout(acc)\n",
    "            return\n",
    "        else:\n",
    "            print(\"Invalid choice. Try again!\")\n",
    "\n",
    "if __name__ == \"__main__\":\n",
    "    main()\n"
   ]
  },
  {
   "cell_type": "code",
   "execution_count": 2,
   "metadata": {},
   "outputs": [
    {
     "name": "stdout",
     "output_type": "stream",
     "text": [
      "\n",
      "\n",
      "\t\t\t\t|Create Account - 1| \n",
      "\t\t\t\t|Sign in\t- 2| \n",
      "\n",
      "\n",
      "\u001b[H\u001b[2JUsername should contain only alphabets\n",
      "\u001b[H\u001b[2JUsername should contain only alphabets\n",
      "\u001b[H\u001b[2JUsername should contain only alphabets\n",
      "\u001b[H\u001b[2JUsername should contain only alphabets\n",
      "\u001b[H\u001b[2JUsername should contain only alphabets\n",
      "\u001b[H\u001b[2JUsername should contain only alphabets\n",
      "\u001b[H\u001b[2JUsername should contain only alphabets\n",
      "\u001b[H\u001b[2JUsername should contain only alphabets\n",
      "\u001b[H\u001b[2JUsername should contain only alphabets\n",
      "\u001b[H\u001b[2JUsername should contain only alphabets\n",
      "\u001b[H\u001b[2JUsername should contain only alphabets\n",
      "\u001b[H\u001b[2J"
     ]
    }
   ],
   "source": [
    "print(\"\\n\\n\\t\\t\\t\\t|Create Account - 1| \\n\\t\\t\\t\\t|Sign in\\t- 2| \\n\\n\")\n",
    "username = None\n",
    "password = None\n",
    "while True:\n",
    "    input_1 = int(input(\"Enter your choice: \"))\n",
    "    if input_1 == 1:\n",
    "        while True:\n",
    "            os.system('clear')\n",
    "            username = getpass(\"\\n\\n\\t\\t\\t\\t\\tEnter user name: \")\n",
    "            password = getpass(\"\\t\\t\\t\\t\\tEnter password: \")\n",
    "\n",
    "            id = check_email_id(username)\n",
    "            passw = check_password(password)\n",
    "\n",
    "            if id is False:\n",
    "                print(\"Username should contain only alphabets\")\n",
    "                continue\n",
    "\n",
    "            if passw is False:\n",
    "                print(\"Password should contain 1 uppercase, 1 special character, number and minimum 8 characters\")\n",
    "                continue\n",
    "\n",
    "            break\n",
    "\n",
    "        login_choice = input(\"\\n\\n\\tAccount created. Do you want to log in now? (yes/no): \")\n",
    "        if login_choice.lower() == 'yes':\n",
    "            login(username, password)\n",
    "\n",
    "    elif input_1 == 2:\n",
    "        login(username, password)\n",
    "    else:\n",
    "        print(\"\\n\\nInvalid choice\")\n",
    "    break\n",
    "\n",
    "\"\"\"\n",
    "# Max no. of live char in password should not exceed 20\n",
    "def limited_password_prompt(prompt):\n",
    "    x = True\n",
    "    while x:\n",
    "        password = []\n",
    "        for i in password:\n",
    "            password[i] = getpass(prompt)\n",
    "        if len(password) > 8:\n",
    "            x = False\n",
    "\"\"\""
   ]
  },
  {
   "cell_type": "code",
   "execution_count": null,
   "metadata": {},
   "outputs": [
    {
     "name": "stdout",
     "output_type": "stream",
     "text": [
      "***\n",
      "<class 'str'>\n"
     ]
    }
   ],
   "source": [
    "import getpass\n",
    "\n",
    "a = getpass.getpass(\"Enter password: \")\n",
    "print(\"*\"*len(a))\n",
    "print(type(a))\n"
   ]
  },
  {
   "cell_type": "code",
   "execution_count": null,
   "metadata": {},
   "outputs": [
    {
     "name": "stdout",
     "output_type": "stream",
     "text": [
      "This is a normal print statement.\n",
      "This is a getpass encrypted print statement.\n"
     ]
    }
   ],
   "source": [
    "# Define a custom print function that supports getpass encryption\n",
    "def custom_print(*args, **kwargs):\n",
    "    if getpass_enabled == True:\n",
    "        print(*args, **kwargs)\n",
    "    else:\n",
    "        print(*args)\n",
    "\n",
    "# Create a switch to turn on/off the getpass encryption in print statement\n",
    "getpass_enabled = True\n",
    "\n",
    "# Example usage\n",
    "custom_print(\"This is a normal print statement.\")\n",
    "\n",
    "# Disable getpass encryption in print statement\n",
    "getpass_enabled = False\n",
    "\n",
    "# Example usage\n",
    "custom_print(\"This is a getpass encrypted print statement.\")\n"
   ]
  },
  {
   "cell_type": "code",
   "execution_count": null,
   "metadata": {},
   "outputs": [
    {
     "name": "stdout",
     "output_type": "stream",
     "text": [
      "Password:\n",
      "\n",
      "\n",
      "\n",
      "\n",
      "\n",
      "\n",
      "                                                                                          \n"
     ]
    },
    {
     "ename": "KeyboardInterrupt",
     "evalue": "",
     "output_type": "error",
     "traceback": [
      "\u001b[0;31m---------------------------------------------------------------------------\u001b[0m",
      "\u001b[0;31mKeyboardInterrupt\u001b[0m                         Traceback (most recent call last)",
      "Cell \u001b[0;32mIn[18], line 25\u001b[0m\n\u001b[1;32m     22\u001b[0m     \u001b[38;5;28;01mreturn\u001b[39;00m prompt(\u001b[38;5;28;01mlambda\u001b[39;00m: prompt(prompt_text, is_password\u001b[38;5;241m=\u001b[39m\u001b[38;5;28;01mTrue\u001b[39;00m, key_bindings\u001b[38;5;241m=\u001b[39mbindings))\n\u001b[1;32m     24\u001b[0m \u001b[38;5;66;03m# Use the custom prompt function.\u001b[39;00m\n\u001b[0;32m---> 25\u001b[0m password \u001b[38;5;241m=\u001b[39m limited_password_prompt(\u001b[38;5;124m'\u001b[39m\u001b[38;5;124mPassword: \u001b[39m\u001b[38;5;124m'\u001b[39m, max_length\u001b[38;5;241m=\u001b[39m\u001b[38;5;241m20\u001b[39m)\n\u001b[1;32m     26\u001b[0m \u001b[38;5;28mprint\u001b[39m(\u001b[38;5;124m'\u001b[39m\u001b[38;5;124mPassword entered:\u001b[39m\u001b[38;5;124m'\u001b[39m, password)\n",
      "Cell \u001b[0;32mIn[18], line 22\u001b[0m, in \u001b[0;36mlimited_password_prompt\u001b[0;34m(prompt_text, max_length)\u001b[0m\n\u001b[1;32m     19\u001b[0m \u001b[38;5;28;01mdef\u001b[39;00m \u001b[38;5;21m_\u001b[39m(event):\n\u001b[1;32m     20\u001b[0m     event\u001b[38;5;241m.\u001b[39mapp\u001b[38;5;241m.\u001b[39mcurrent_buffer\u001b[38;5;241m.\u001b[39mdelete_before_cursor(count\u001b[38;5;241m=\u001b[39m\u001b[38;5;241m1\u001b[39m)\n\u001b[0;32m---> 22\u001b[0m \u001b[38;5;28;01mreturn\u001b[39;00m prompt(\u001b[38;5;28;01mlambda\u001b[39;00m: prompt(prompt_text, is_password\u001b[38;5;241m=\u001b[39m\u001b[38;5;28;01mTrue\u001b[39;00m, key_bindings\u001b[38;5;241m=\u001b[39mbindings))\n",
      "File \u001b[0;32m/opt/anaconda3/lib/python3.11/site-packages/prompt_toolkit/shortcuts/prompt.py:1416\u001b[0m, in \u001b[0;36mprompt\u001b[0;34m(message, history, editing_mode, refresh_interval, vi_mode, lexer, completer, complete_in_thread, is_password, key_bindings, bottom_toolbar, style, color_depth, cursor, include_default_pygments_style, style_transformation, swap_light_and_dark_colors, rprompt, multiline, prompt_continuation, wrap_lines, enable_history_search, search_ignore_case, complete_while_typing, validate_while_typing, complete_style, auto_suggest, validator, clipboard, mouse_support, input_processors, placeholder, reserve_space_for_menu, enable_system_prompt, enable_suspend, enable_open_in_editor, tempfile_suffix, tempfile, default, accept_default, pre_run, set_exception_handler, handle_sigint, in_thread, inputhook)\u001b[0m\n\u001b[1;32m   1412\u001b[0m \u001b[38;5;66;03m# The history is the only attribute that has to be passed to the\u001b[39;00m\n\u001b[1;32m   1413\u001b[0m \u001b[38;5;66;03m# `PromptSession`, it can't be passed into the `prompt()` method.\u001b[39;00m\n\u001b[1;32m   1414\u001b[0m session: PromptSession[\u001b[38;5;28mstr\u001b[39m] \u001b[38;5;241m=\u001b[39m PromptSession(history\u001b[38;5;241m=\u001b[39mhistory)\n\u001b[0;32m-> 1416\u001b[0m \u001b[38;5;28;01mreturn\u001b[39;00m session\u001b[38;5;241m.\u001b[39mprompt(\n\u001b[1;32m   1417\u001b[0m     message,\n\u001b[1;32m   1418\u001b[0m     editing_mode\u001b[38;5;241m=\u001b[39mediting_mode,\n\u001b[1;32m   1419\u001b[0m     refresh_interval\u001b[38;5;241m=\u001b[39mrefresh_interval,\n\u001b[1;32m   1420\u001b[0m     vi_mode\u001b[38;5;241m=\u001b[39mvi_mode,\n\u001b[1;32m   1421\u001b[0m     lexer\u001b[38;5;241m=\u001b[39mlexer,\n\u001b[1;32m   1422\u001b[0m     completer\u001b[38;5;241m=\u001b[39mcompleter,\n\u001b[1;32m   1423\u001b[0m     complete_in_thread\u001b[38;5;241m=\u001b[39mcomplete_in_thread,\n\u001b[1;32m   1424\u001b[0m     is_password\u001b[38;5;241m=\u001b[39mis_password,\n\u001b[1;32m   1425\u001b[0m     key_bindings\u001b[38;5;241m=\u001b[39mkey_bindings,\n\u001b[1;32m   1426\u001b[0m     bottom_toolbar\u001b[38;5;241m=\u001b[39mbottom_toolbar,\n\u001b[1;32m   1427\u001b[0m     style\u001b[38;5;241m=\u001b[39mstyle,\n\u001b[1;32m   1428\u001b[0m     color_depth\u001b[38;5;241m=\u001b[39mcolor_depth,\n\u001b[1;32m   1429\u001b[0m     cursor\u001b[38;5;241m=\u001b[39mcursor,\n\u001b[1;32m   1430\u001b[0m     include_default_pygments_style\u001b[38;5;241m=\u001b[39minclude_default_pygments_style,\n\u001b[1;32m   1431\u001b[0m     style_transformation\u001b[38;5;241m=\u001b[39mstyle_transformation,\n\u001b[1;32m   1432\u001b[0m     swap_light_and_dark_colors\u001b[38;5;241m=\u001b[39mswap_light_and_dark_colors,\n\u001b[1;32m   1433\u001b[0m     rprompt\u001b[38;5;241m=\u001b[39mrprompt,\n\u001b[1;32m   1434\u001b[0m     multiline\u001b[38;5;241m=\u001b[39mmultiline,\n\u001b[1;32m   1435\u001b[0m     prompt_continuation\u001b[38;5;241m=\u001b[39mprompt_continuation,\n\u001b[1;32m   1436\u001b[0m     wrap_lines\u001b[38;5;241m=\u001b[39mwrap_lines,\n\u001b[1;32m   1437\u001b[0m     enable_history_search\u001b[38;5;241m=\u001b[39menable_history_search,\n\u001b[1;32m   1438\u001b[0m     search_ignore_case\u001b[38;5;241m=\u001b[39msearch_ignore_case,\n\u001b[1;32m   1439\u001b[0m     complete_while_typing\u001b[38;5;241m=\u001b[39mcomplete_while_typing,\n\u001b[1;32m   1440\u001b[0m     validate_while_typing\u001b[38;5;241m=\u001b[39mvalidate_while_typing,\n\u001b[1;32m   1441\u001b[0m     complete_style\u001b[38;5;241m=\u001b[39mcomplete_style,\n\u001b[1;32m   1442\u001b[0m     auto_suggest\u001b[38;5;241m=\u001b[39mauto_suggest,\n\u001b[1;32m   1443\u001b[0m     validator\u001b[38;5;241m=\u001b[39mvalidator,\n\u001b[1;32m   1444\u001b[0m     clipboard\u001b[38;5;241m=\u001b[39mclipboard,\n\u001b[1;32m   1445\u001b[0m     mouse_support\u001b[38;5;241m=\u001b[39mmouse_support,\n\u001b[1;32m   1446\u001b[0m     input_processors\u001b[38;5;241m=\u001b[39minput_processors,\n\u001b[1;32m   1447\u001b[0m     placeholder\u001b[38;5;241m=\u001b[39mplaceholder,\n\u001b[1;32m   1448\u001b[0m     reserve_space_for_menu\u001b[38;5;241m=\u001b[39mreserve_space_for_menu,\n\u001b[1;32m   1449\u001b[0m     enable_system_prompt\u001b[38;5;241m=\u001b[39menable_system_prompt,\n\u001b[1;32m   1450\u001b[0m     enable_suspend\u001b[38;5;241m=\u001b[39menable_suspend,\n\u001b[1;32m   1451\u001b[0m     enable_open_in_editor\u001b[38;5;241m=\u001b[39menable_open_in_editor,\n\u001b[1;32m   1452\u001b[0m     tempfile_suffix\u001b[38;5;241m=\u001b[39mtempfile_suffix,\n\u001b[1;32m   1453\u001b[0m     tempfile\u001b[38;5;241m=\u001b[39mtempfile,\n\u001b[1;32m   1454\u001b[0m     default\u001b[38;5;241m=\u001b[39mdefault,\n\u001b[1;32m   1455\u001b[0m     accept_default\u001b[38;5;241m=\u001b[39maccept_default,\n\u001b[1;32m   1456\u001b[0m     pre_run\u001b[38;5;241m=\u001b[39mpre_run,\n\u001b[1;32m   1457\u001b[0m     set_exception_handler\u001b[38;5;241m=\u001b[39mset_exception_handler,\n\u001b[1;32m   1458\u001b[0m     handle_sigint\u001b[38;5;241m=\u001b[39mhandle_sigint,\n\u001b[1;32m   1459\u001b[0m     in_thread\u001b[38;5;241m=\u001b[39min_thread,\n\u001b[1;32m   1460\u001b[0m     inputhook\u001b[38;5;241m=\u001b[39minputhook,\n\u001b[1;32m   1461\u001b[0m )\n",
      "File \u001b[0;32m/opt/anaconda3/lib/python3.11/site-packages/prompt_toolkit/shortcuts/prompt.py:1026\u001b[0m, in \u001b[0;36mPromptSession.prompt\u001b[0;34m(self, message, editing_mode, refresh_interval, vi_mode, lexer, completer, complete_in_thread, is_password, key_bindings, bottom_toolbar, style, color_depth, cursor, include_default_pygments_style, style_transformation, swap_light_and_dark_colors, rprompt, multiline, prompt_continuation, wrap_lines, enable_history_search, search_ignore_case, complete_while_typing, validate_while_typing, complete_style, auto_suggest, validator, clipboard, mouse_support, input_processors, placeholder, reserve_space_for_menu, enable_system_prompt, enable_suspend, enable_open_in_editor, tempfile_suffix, tempfile, default, accept_default, pre_run, set_exception_handler, handle_sigint, in_thread, inputhook)\u001b[0m\n\u001b[1;32m   1023\u001b[0m     \u001b[38;5;28;01mwith\u001b[39;00m \u001b[38;5;28mself\u001b[39m\u001b[38;5;241m.\u001b[39m_dumb_prompt(\u001b[38;5;28mself\u001b[39m\u001b[38;5;241m.\u001b[39mmessage) \u001b[38;5;28;01mas\u001b[39;00m dump_app:\n\u001b[1;32m   1024\u001b[0m         \u001b[38;5;28;01mreturn\u001b[39;00m dump_app\u001b[38;5;241m.\u001b[39mrun(in_thread\u001b[38;5;241m=\u001b[39min_thread, handle_sigint\u001b[38;5;241m=\u001b[39mhandle_sigint)\n\u001b[0;32m-> 1026\u001b[0m \u001b[38;5;28;01mreturn\u001b[39;00m \u001b[38;5;28mself\u001b[39m\u001b[38;5;241m.\u001b[39mapp\u001b[38;5;241m.\u001b[39mrun(\n\u001b[1;32m   1027\u001b[0m     set_exception_handler\u001b[38;5;241m=\u001b[39mset_exception_handler,\n\u001b[1;32m   1028\u001b[0m     in_thread\u001b[38;5;241m=\u001b[39min_thread,\n\u001b[1;32m   1029\u001b[0m     handle_sigint\u001b[38;5;241m=\u001b[39mhandle_sigint,\n\u001b[1;32m   1030\u001b[0m     inputhook\u001b[38;5;241m=\u001b[39minputhook,\n\u001b[1;32m   1031\u001b[0m )\n",
      "File \u001b[0;32m/opt/anaconda3/lib/python3.11/site-packages/prompt_toolkit/application/application.py:1002\u001b[0m, in \u001b[0;36mApplication.run\u001b[0;34m(self, pre_run, set_exception_handler, handle_sigint, in_thread, inputhook)\u001b[0m\n\u001b[1;32m    998\u001b[0m         \u001b[38;5;28;01mreturn\u001b[39;00m loop\u001b[38;5;241m.\u001b[39mrun_until_complete(coro)\n\u001b[1;32m   1000\u001b[0m \u001b[38;5;28;01melse\u001b[39;00m:\n\u001b[1;32m   1001\u001b[0m     \u001b[38;5;66;03m# No loop installed. Run like usual.\u001b[39;00m\n\u001b[0;32m-> 1002\u001b[0m     \u001b[38;5;28;01mreturn\u001b[39;00m asyncio\u001b[38;5;241m.\u001b[39mrun(coro)\n",
      "File \u001b[0;32m/opt/anaconda3/lib/python3.11/site-packages/nest_asyncio.py:30\u001b[0m, in \u001b[0;36m_patch_asyncio.<locals>.run\u001b[0;34m(main, debug)\u001b[0m\n\u001b[1;32m     28\u001b[0m task \u001b[38;5;241m=\u001b[39m asyncio\u001b[38;5;241m.\u001b[39mensure_future(main)\n\u001b[1;32m     29\u001b[0m \u001b[38;5;28;01mtry\u001b[39;00m:\n\u001b[0;32m---> 30\u001b[0m     \u001b[38;5;28;01mreturn\u001b[39;00m loop\u001b[38;5;241m.\u001b[39mrun_until_complete(task)\n\u001b[1;32m     31\u001b[0m \u001b[38;5;28;01mfinally\u001b[39;00m:\n\u001b[1;32m     32\u001b[0m     \u001b[38;5;28;01mif\u001b[39;00m \u001b[38;5;129;01mnot\u001b[39;00m task\u001b[38;5;241m.\u001b[39mdone():\n",
      "File \u001b[0;32m/opt/anaconda3/lib/python3.11/site-packages/nest_asyncio.py:92\u001b[0m, in \u001b[0;36m_patch_loop.<locals>.run_until_complete\u001b[0;34m(self, future)\u001b[0m\n\u001b[1;32m     90\u001b[0m     f\u001b[38;5;241m.\u001b[39m_log_destroy_pending \u001b[38;5;241m=\u001b[39m \u001b[38;5;28;01mFalse\u001b[39;00m\n\u001b[1;32m     91\u001b[0m \u001b[38;5;28;01mwhile\u001b[39;00m \u001b[38;5;129;01mnot\u001b[39;00m f\u001b[38;5;241m.\u001b[39mdone():\n\u001b[0;32m---> 92\u001b[0m     \u001b[38;5;28mself\u001b[39m\u001b[38;5;241m.\u001b[39m_run_once()\n\u001b[1;32m     93\u001b[0m     \u001b[38;5;28;01mif\u001b[39;00m \u001b[38;5;28mself\u001b[39m\u001b[38;5;241m.\u001b[39m_stopping:\n\u001b[1;32m     94\u001b[0m         \u001b[38;5;28;01mbreak\u001b[39;00m\n",
      "File \u001b[0;32m/opt/anaconda3/lib/python3.11/site-packages/nest_asyncio.py:133\u001b[0m, in \u001b[0;36m_patch_loop.<locals>._run_once\u001b[0;34m(self)\u001b[0m\n\u001b[1;32m    130\u001b[0m curr_task \u001b[38;5;241m=\u001b[39m curr_tasks\u001b[38;5;241m.\u001b[39mpop(\u001b[38;5;28mself\u001b[39m, \u001b[38;5;28;01mNone\u001b[39;00m)\n\u001b[1;32m    132\u001b[0m \u001b[38;5;28;01mtry\u001b[39;00m:\n\u001b[0;32m--> 133\u001b[0m     handle\u001b[38;5;241m.\u001b[39m_run()\n\u001b[1;32m    134\u001b[0m \u001b[38;5;28;01mfinally\u001b[39;00m:\n\u001b[1;32m    135\u001b[0m     \u001b[38;5;66;03m# restore the current task\u001b[39;00m\n\u001b[1;32m    136\u001b[0m     \u001b[38;5;28;01mif\u001b[39;00m curr_task \u001b[38;5;129;01mis\u001b[39;00m \u001b[38;5;129;01mnot\u001b[39;00m \u001b[38;5;28;01mNone\u001b[39;00m:\n",
      "File \u001b[0;32m/opt/anaconda3/lib/python3.11/asyncio/events.py:80\u001b[0m, in \u001b[0;36mHandle._run\u001b[0;34m(self)\u001b[0m\n\u001b[1;32m     78\u001b[0m \u001b[38;5;28;01mdef\u001b[39;00m \u001b[38;5;21m_run\u001b[39m(\u001b[38;5;28mself\u001b[39m):\n\u001b[1;32m     79\u001b[0m     \u001b[38;5;28;01mtry\u001b[39;00m:\n\u001b[0;32m---> 80\u001b[0m         \u001b[38;5;28mself\u001b[39m\u001b[38;5;241m.\u001b[39m_context\u001b[38;5;241m.\u001b[39mrun(\u001b[38;5;28mself\u001b[39m\u001b[38;5;241m.\u001b[39m_callback, \u001b[38;5;241m*\u001b[39m\u001b[38;5;28mself\u001b[39m\u001b[38;5;241m.\u001b[39m_args)\n\u001b[1;32m     81\u001b[0m     \u001b[38;5;28;01mexcept\u001b[39;00m (\u001b[38;5;167;01mSystemExit\u001b[39;00m, \u001b[38;5;167;01mKeyboardInterrupt\u001b[39;00m):\n\u001b[1;32m     82\u001b[0m         \u001b[38;5;28;01mraise\u001b[39;00m\n",
      "File \u001b[0;32m/opt/anaconda3/lib/python3.11/asyncio/tasks.py:360\u001b[0m, in \u001b[0;36mTask.__wakeup\u001b[0;34m(self, future)\u001b[0m\n\u001b[1;32m    352\u001b[0m     \u001b[38;5;28mself\u001b[39m\u001b[38;5;241m.\u001b[39m__step(exc)\n\u001b[1;32m    353\u001b[0m \u001b[38;5;28;01melse\u001b[39;00m:\n\u001b[1;32m    354\u001b[0m     \u001b[38;5;66;03m# Don't pass the value of `future.result()` explicitly,\u001b[39;00m\n\u001b[1;32m    355\u001b[0m     \u001b[38;5;66;03m# as `Future.__iter__` and `Future.__await__` don't need it.\u001b[39;00m\n\u001b[0;32m   (...)\u001b[0m\n\u001b[1;32m    358\u001b[0m     \u001b[38;5;66;03m# instead of `__next__()`, which is slower for futures\u001b[39;00m\n\u001b[1;32m    359\u001b[0m     \u001b[38;5;66;03m# that return non-generator iterators from their `__iter__`.\u001b[39;00m\n\u001b[0;32m--> 360\u001b[0m     \u001b[38;5;28mself\u001b[39m\u001b[38;5;241m.\u001b[39m__step()\n\u001b[1;32m    361\u001b[0m \u001b[38;5;28mself\u001b[39m \u001b[38;5;241m=\u001b[39m \u001b[38;5;28;01mNone\u001b[39;00m\n",
      "File \u001b[0;32m/opt/anaconda3/lib/python3.11/asyncio/tasks.py:277\u001b[0m, in \u001b[0;36mTask.__step\u001b[0;34m(***failed resolving arguments***)\u001b[0m\n\u001b[1;32m    273\u001b[0m \u001b[38;5;28;01mtry\u001b[39;00m:\n\u001b[1;32m    274\u001b[0m     \u001b[38;5;28;01mif\u001b[39;00m exc \u001b[38;5;129;01mis\u001b[39;00m \u001b[38;5;28;01mNone\u001b[39;00m:\n\u001b[1;32m    275\u001b[0m         \u001b[38;5;66;03m# We use the `send` method directly, because coroutines\u001b[39;00m\n\u001b[1;32m    276\u001b[0m         \u001b[38;5;66;03m# don't have `__iter__` and `__next__` methods.\u001b[39;00m\n\u001b[0;32m--> 277\u001b[0m         result \u001b[38;5;241m=\u001b[39m coro\u001b[38;5;241m.\u001b[39msend(\u001b[38;5;28;01mNone\u001b[39;00m)\n\u001b[1;32m    278\u001b[0m     \u001b[38;5;28;01melse\u001b[39;00m:\n\u001b[1;32m    279\u001b[0m         result \u001b[38;5;241m=\u001b[39m coro\u001b[38;5;241m.\u001b[39mthrow(exc)\n",
      "File \u001b[0;32m/opt/anaconda3/lib/python3.11/site-packages/prompt_toolkit/application/application.py:886\u001b[0m, in \u001b[0;36mApplication.run_async\u001b[0;34m(self, pre_run, set_exception_handler, handle_sigint, slow_callback_duration)\u001b[0m\n\u001b[1;32m    883\u001b[0m f \u001b[38;5;241m=\u001b[39m stack\u001b[38;5;241m.\u001b[39menter_context(create_future(loop))\n\u001b[1;32m    885\u001b[0m \u001b[38;5;28;01mtry\u001b[39;00m:\n\u001b[0;32m--> 886\u001b[0m     \u001b[38;5;28;01mreturn\u001b[39;00m \u001b[38;5;28;01mawait\u001b[39;00m _run_async(f)\n\u001b[1;32m    887\u001b[0m \u001b[38;5;28;01mfinally\u001b[39;00m:\n\u001b[1;32m    888\u001b[0m     \u001b[38;5;66;03m# Wait for the background tasks to be done. This needs to\u001b[39;00m\n\u001b[1;32m    889\u001b[0m     \u001b[38;5;66;03m# go in the finally! If `_run_async` raises\u001b[39;00m\n\u001b[1;32m    890\u001b[0m     \u001b[38;5;66;03m# `KeyboardInterrupt`, we still want to wait for the\u001b[39;00m\n\u001b[1;32m    891\u001b[0m     \u001b[38;5;66;03m# background tasks.\u001b[39;00m\n\u001b[1;32m    892\u001b[0m     \u001b[38;5;28;01mawait\u001b[39;00m \u001b[38;5;28mself\u001b[39m\u001b[38;5;241m.\u001b[39mcancel_and_wait_for_background_tasks()\n",
      "File \u001b[0;32m/opt/anaconda3/lib/python3.11/site-packages/prompt_toolkit/application/application.py:739\u001b[0m, in \u001b[0;36mApplication.run_async.<locals>._run_async\u001b[0;34m(f)\u001b[0m\n\u001b[1;32m    734\u001b[0m \u001b[38;5;28;01mwith\u001b[39;00m \u001b[38;5;28mself\u001b[39m\u001b[38;5;241m.\u001b[39minput\u001b[38;5;241m.\u001b[39mraw_mode(), \u001b[38;5;28mself\u001b[39m\u001b[38;5;241m.\u001b[39minput\u001b[38;5;241m.\u001b[39mattach(\n\u001b[1;32m    735\u001b[0m     read_from_input_in_context\n\u001b[1;32m    736\u001b[0m ), attach_winch_signal_handler(\u001b[38;5;28mself\u001b[39m\u001b[38;5;241m.\u001b[39m_on_resize):\n\u001b[1;32m    737\u001b[0m     \u001b[38;5;66;03m# Draw UI.\u001b[39;00m\n\u001b[1;32m    738\u001b[0m     \u001b[38;5;28mself\u001b[39m\u001b[38;5;241m.\u001b[39m_request_absolute_cursor_position()\n\u001b[0;32m--> 739\u001b[0m     \u001b[38;5;28mself\u001b[39m\u001b[38;5;241m.\u001b[39m_redraw()\n\u001b[1;32m    740\u001b[0m     \u001b[38;5;28mself\u001b[39m\u001b[38;5;241m.\u001b[39m_start_auto_refresh_task()\n\u001b[1;32m    742\u001b[0m     \u001b[38;5;28mself\u001b[39m\u001b[38;5;241m.\u001b[39mcreate_background_task(\u001b[38;5;28mself\u001b[39m\u001b[38;5;241m.\u001b[39m_poll_output_size())\n",
      "File \u001b[0;32m/opt/anaconda3/lib/python3.11/site-packages/prompt_toolkit/application/application.py:543\u001b[0m, in \u001b[0;36mApplication._redraw\u001b[0;34m(self, render_as_done)\u001b[0m\n\u001b[1;32m    535\u001b[0m \u001b[38;5;66;03m# NOTE: We want to make sure this Application is the active one. The\u001b[39;00m\n\u001b[1;32m    536\u001b[0m \u001b[38;5;66;03m#       invalidate function is often called from a context where this\u001b[39;00m\n\u001b[1;32m    537\u001b[0m \u001b[38;5;66;03m#       application is not the active one. (Like the\u001b[39;00m\n\u001b[0;32m   (...)\u001b[0m\n\u001b[1;32m    540\u001b[0m \u001b[38;5;66;03m#       prevent RuntimeErrors. (The rendering is not supposed to change\u001b[39;00m\n\u001b[1;32m    541\u001b[0m \u001b[38;5;66;03m#       any context variables.)\u001b[39;00m\n\u001b[1;32m    542\u001b[0m \u001b[38;5;28;01mif\u001b[39;00m \u001b[38;5;28mself\u001b[39m\u001b[38;5;241m.\u001b[39mcontext \u001b[38;5;129;01mis\u001b[39;00m \u001b[38;5;129;01mnot\u001b[39;00m \u001b[38;5;28;01mNone\u001b[39;00m:\n\u001b[0;32m--> 543\u001b[0m     \u001b[38;5;28mself\u001b[39m\u001b[38;5;241m.\u001b[39mcontext\u001b[38;5;241m.\u001b[39mcopy()\u001b[38;5;241m.\u001b[39mrun(run_in_context)\n",
      "File \u001b[0;32m/opt/anaconda3/lib/python3.11/site-packages/prompt_toolkit/application/application.py:526\u001b[0m, in \u001b[0;36mApplication._redraw.<locals>.run_in_context\u001b[0;34m()\u001b[0m\n\u001b[1;32m    524\u001b[0m         \u001b[38;5;28mself\u001b[39m\u001b[38;5;241m.\u001b[39mrenderer\u001b[38;5;241m.\u001b[39mrender(\u001b[38;5;28mself\u001b[39m, \u001b[38;5;28mself\u001b[39m\u001b[38;5;241m.\u001b[39mlayout, is_done\u001b[38;5;241m=\u001b[39mrender_as_done)\n\u001b[1;32m    525\u001b[0m \u001b[38;5;28;01melse\u001b[39;00m:\n\u001b[0;32m--> 526\u001b[0m     \u001b[38;5;28mself\u001b[39m\u001b[38;5;241m.\u001b[39mrenderer\u001b[38;5;241m.\u001b[39mrender(\u001b[38;5;28mself\u001b[39m, \u001b[38;5;28mself\u001b[39m\u001b[38;5;241m.\u001b[39mlayout)\n\u001b[1;32m    528\u001b[0m \u001b[38;5;28mself\u001b[39m\u001b[38;5;241m.\u001b[39mlayout\u001b[38;5;241m.\u001b[39mupdate_parents_relations()\n\u001b[1;32m    530\u001b[0m \u001b[38;5;66;03m# Fire render event.\u001b[39;00m\n",
      "File \u001b[0;32m/opt/anaconda3/lib/python3.11/site-packages/prompt_toolkit/renderer.py:640\u001b[0m, in \u001b[0;36mRenderer.render\u001b[0;34m(self, app, layout, is_done)\u001b[0m\n\u001b[1;32m    635\u001b[0m \u001b[38;5;28;01melse\u001b[39;00m:\n\u001b[1;32m    636\u001b[0m     last_height \u001b[38;5;241m=\u001b[39m \u001b[38;5;28mself\u001b[39m\u001b[38;5;241m.\u001b[39m_last_screen\u001b[38;5;241m.\u001b[39mheight \u001b[38;5;28;01mif\u001b[39;00m \u001b[38;5;28mself\u001b[39m\u001b[38;5;241m.\u001b[39m_last_screen \u001b[38;5;28;01melse\u001b[39;00m \u001b[38;5;241m0\u001b[39m\n\u001b[1;32m    637\u001b[0m     height \u001b[38;5;241m=\u001b[39m \u001b[38;5;28mmax\u001b[39m(\n\u001b[1;32m    638\u001b[0m         \u001b[38;5;28mself\u001b[39m\u001b[38;5;241m.\u001b[39m_min_available_height,\n\u001b[1;32m    639\u001b[0m         last_height,\n\u001b[0;32m--> 640\u001b[0m         layout\u001b[38;5;241m.\u001b[39mcontainer\u001b[38;5;241m.\u001b[39mpreferred_height(size\u001b[38;5;241m.\u001b[39mcolumns, size\u001b[38;5;241m.\u001b[39mrows)\u001b[38;5;241m.\u001b[39mpreferred,\n\u001b[1;32m    641\u001b[0m     )\n\u001b[1;32m    643\u001b[0m height \u001b[38;5;241m=\u001b[39m \u001b[38;5;28mmin\u001b[39m(height, size\u001b[38;5;241m.\u001b[39mrows)\n\u001b[1;32m    645\u001b[0m \u001b[38;5;66;03m# When the size changes, don't consider the previous screen.\u001b[39;00m\n",
      "File \u001b[0;32m/opt/anaconda3/lib/python3.11/site-packages/prompt_toolkit/layout/containers.py:318\u001b[0m, in \u001b[0;36mHSplit.preferred_height\u001b[0;34m(self, width, max_available_height)\u001b[0m\n\u001b[1;32m    315\u001b[0m \u001b[38;5;28;01mif\u001b[39;00m \u001b[38;5;28mself\u001b[39m\u001b[38;5;241m.\u001b[39mheight \u001b[38;5;129;01mis\u001b[39;00m \u001b[38;5;129;01mnot\u001b[39;00m \u001b[38;5;28;01mNone\u001b[39;00m:\n\u001b[1;32m    316\u001b[0m     \u001b[38;5;28;01mreturn\u001b[39;00m to_dimension(\u001b[38;5;28mself\u001b[39m\u001b[38;5;241m.\u001b[39mheight)\n\u001b[0;32m--> 318\u001b[0m dimensions \u001b[38;5;241m=\u001b[39m [\n\u001b[1;32m    319\u001b[0m     c\u001b[38;5;241m.\u001b[39mpreferred_height(width, max_available_height) \u001b[38;5;28;01mfor\u001b[39;00m c \u001b[38;5;129;01min\u001b[39;00m \u001b[38;5;28mself\u001b[39m\u001b[38;5;241m.\u001b[39m_all_children\n\u001b[1;32m    320\u001b[0m ]\n\u001b[1;32m    321\u001b[0m \u001b[38;5;28;01mreturn\u001b[39;00m sum_layout_dimensions(dimensions)\n",
      "File \u001b[0;32m/opt/anaconda3/lib/python3.11/site-packages/prompt_toolkit/layout/containers.py:319\u001b[0m, in \u001b[0;36m<listcomp>\u001b[0;34m(.0)\u001b[0m\n\u001b[1;32m    315\u001b[0m \u001b[38;5;28;01mif\u001b[39;00m \u001b[38;5;28mself\u001b[39m\u001b[38;5;241m.\u001b[39mheight \u001b[38;5;129;01mis\u001b[39;00m \u001b[38;5;129;01mnot\u001b[39;00m \u001b[38;5;28;01mNone\u001b[39;00m:\n\u001b[1;32m    316\u001b[0m     \u001b[38;5;28;01mreturn\u001b[39;00m to_dimension(\u001b[38;5;28mself\u001b[39m\u001b[38;5;241m.\u001b[39mheight)\n\u001b[1;32m    318\u001b[0m dimensions \u001b[38;5;241m=\u001b[39m [\n\u001b[0;32m--> 319\u001b[0m     c\u001b[38;5;241m.\u001b[39mpreferred_height(width, max_available_height) \u001b[38;5;28;01mfor\u001b[39;00m c \u001b[38;5;129;01min\u001b[39;00m \u001b[38;5;28mself\u001b[39m\u001b[38;5;241m.\u001b[39m_all_children\n\u001b[1;32m    320\u001b[0m ]\n\u001b[1;32m    321\u001b[0m \u001b[38;5;28;01mreturn\u001b[39;00m sum_layout_dimensions(dimensions)\n",
      "File \u001b[0;32m/opt/anaconda3/lib/python3.11/site-packages/prompt_toolkit/layout/containers.py:786\u001b[0m, in \u001b[0;36mFloatContainer.preferred_height\u001b[0;34m(self, width, max_available_height)\u001b[0m\n\u001b[1;32m    780\u001b[0m \u001b[38;5;28;01mdef\u001b[39;00m \u001b[38;5;21mpreferred_height\u001b[39m(\u001b[38;5;28mself\u001b[39m, width: \u001b[38;5;28mint\u001b[39m, max_available_height: \u001b[38;5;28mint\u001b[39m) \u001b[38;5;241m-\u001b[39m\u001b[38;5;241m>\u001b[39m Dimension:\n\u001b[1;32m    781\u001b[0m \u001b[38;5;250m    \u001b[39m\u001b[38;5;124;03m\"\"\"\u001b[39;00m\n\u001b[1;32m    782\u001b[0m \u001b[38;5;124;03m    Return the preferred height of the float container.\u001b[39;00m\n\u001b[1;32m    783\u001b[0m \u001b[38;5;124;03m    (We don't care about the height of the floats, they should always fit\u001b[39;00m\n\u001b[1;32m    784\u001b[0m \u001b[38;5;124;03m    into the dimensions provided by the container.)\u001b[39;00m\n\u001b[1;32m    785\u001b[0m \u001b[38;5;124;03m    \"\"\"\u001b[39;00m\n\u001b[0;32m--> 786\u001b[0m     \u001b[38;5;28;01mreturn\u001b[39;00m \u001b[38;5;28mself\u001b[39m\u001b[38;5;241m.\u001b[39mcontent\u001b[38;5;241m.\u001b[39mpreferred_height(width, max_available_height)\n",
      "File \u001b[0;32m/opt/anaconda3/lib/python3.11/site-packages/prompt_toolkit/layout/containers.py:318\u001b[0m, in \u001b[0;36mHSplit.preferred_height\u001b[0;34m(self, width, max_available_height)\u001b[0m\n\u001b[1;32m    315\u001b[0m \u001b[38;5;28;01mif\u001b[39;00m \u001b[38;5;28mself\u001b[39m\u001b[38;5;241m.\u001b[39mheight \u001b[38;5;129;01mis\u001b[39;00m \u001b[38;5;129;01mnot\u001b[39;00m \u001b[38;5;28;01mNone\u001b[39;00m:\n\u001b[1;32m    316\u001b[0m     \u001b[38;5;28;01mreturn\u001b[39;00m to_dimension(\u001b[38;5;28mself\u001b[39m\u001b[38;5;241m.\u001b[39mheight)\n\u001b[0;32m--> 318\u001b[0m dimensions \u001b[38;5;241m=\u001b[39m [\n\u001b[1;32m    319\u001b[0m     c\u001b[38;5;241m.\u001b[39mpreferred_height(width, max_available_height) \u001b[38;5;28;01mfor\u001b[39;00m c \u001b[38;5;129;01min\u001b[39;00m \u001b[38;5;28mself\u001b[39m\u001b[38;5;241m.\u001b[39m_all_children\n\u001b[1;32m    320\u001b[0m ]\n\u001b[1;32m    321\u001b[0m \u001b[38;5;28;01mreturn\u001b[39;00m sum_layout_dimensions(dimensions)\n",
      "File \u001b[0;32m/opt/anaconda3/lib/python3.11/site-packages/prompt_toolkit/layout/containers.py:319\u001b[0m, in \u001b[0;36m<listcomp>\u001b[0;34m(.0)\u001b[0m\n\u001b[1;32m    315\u001b[0m \u001b[38;5;28;01mif\u001b[39;00m \u001b[38;5;28mself\u001b[39m\u001b[38;5;241m.\u001b[39mheight \u001b[38;5;129;01mis\u001b[39;00m \u001b[38;5;129;01mnot\u001b[39;00m \u001b[38;5;28;01mNone\u001b[39;00m:\n\u001b[1;32m    316\u001b[0m     \u001b[38;5;28;01mreturn\u001b[39;00m to_dimension(\u001b[38;5;28mself\u001b[39m\u001b[38;5;241m.\u001b[39mheight)\n\u001b[1;32m    318\u001b[0m dimensions \u001b[38;5;241m=\u001b[39m [\n\u001b[0;32m--> 319\u001b[0m     c\u001b[38;5;241m.\u001b[39mpreferred_height(width, max_available_height) \u001b[38;5;28;01mfor\u001b[39;00m c \u001b[38;5;129;01min\u001b[39;00m \u001b[38;5;28mself\u001b[39m\u001b[38;5;241m.\u001b[39m_all_children\n\u001b[1;32m    320\u001b[0m ]\n\u001b[1;32m    321\u001b[0m \u001b[38;5;28;01mreturn\u001b[39;00m sum_layout_dimensions(dimensions)\n",
      "File \u001b[0;32m/opt/anaconda3/lib/python3.11/site-packages/prompt_toolkit/layout/containers.py:2628\u001b[0m, in \u001b[0;36mConditionalContainer.preferred_height\u001b[0;34m(self, width, max_available_height)\u001b[0m\n\u001b[1;32m   2627\u001b[0m \u001b[38;5;28;01mdef\u001b[39;00m \u001b[38;5;21mpreferred_height\u001b[39m(\u001b[38;5;28mself\u001b[39m, width: \u001b[38;5;28mint\u001b[39m, max_available_height: \u001b[38;5;28mint\u001b[39m) \u001b[38;5;241m-\u001b[39m\u001b[38;5;241m>\u001b[39m Dimension:\n\u001b[0;32m-> 2628\u001b[0m     \u001b[38;5;28;01mif\u001b[39;00m \u001b[38;5;28mself\u001b[39m\u001b[38;5;241m.\u001b[39mfilter():\n\u001b[1;32m   2629\u001b[0m         \u001b[38;5;28;01mreturn\u001b[39;00m \u001b[38;5;28mself\u001b[39m\u001b[38;5;241m.\u001b[39mcontent\u001b[38;5;241m.\u001b[39mpreferred_height(width, max_available_height)\n\u001b[1;32m   2630\u001b[0m     \u001b[38;5;28;01melse\u001b[39;00m:\n",
      "File \u001b[0;32m/opt/anaconda3/lib/python3.11/site-packages/prompt_toolkit/filters/base.py:248\u001b[0m, in \u001b[0;36mCondition.__call__\u001b[0;34m(self)\u001b[0m\n\u001b[1;32m    247\u001b[0m \u001b[38;5;28;01mdef\u001b[39;00m \u001b[38;5;21m__call__\u001b[39m(\u001b[38;5;28mself\u001b[39m) \u001b[38;5;241m-\u001b[39m\u001b[38;5;241m>\u001b[39m \u001b[38;5;28mbool\u001b[39m:\n\u001b[0;32m--> 248\u001b[0m     \u001b[38;5;28;01mreturn\u001b[39;00m \u001b[38;5;28mself\u001b[39m\u001b[38;5;241m.\u001b[39mfunc()\n",
      "File \u001b[0;32m/opt/anaconda3/lib/python3.11/site-packages/prompt_toolkit/shortcuts/prompt.py:160\u001b[0m, in \u001b[0;36m_split_multiline_prompt.<locals>.has_before_fragments\u001b[0;34m()\u001b[0m\n\u001b[1;32m    159\u001b[0m \u001b[38;5;28;01mdef\u001b[39;00m \u001b[38;5;21mhas_before_fragments\u001b[39m() \u001b[38;5;241m-\u001b[39m\u001b[38;5;241m>\u001b[39m \u001b[38;5;28mbool\u001b[39m:\n\u001b[0;32m--> 160\u001b[0m     \u001b[38;5;28;01mfor\u001b[39;00m fragment, char, \u001b[38;5;241m*\u001b[39m_ \u001b[38;5;129;01min\u001b[39;00m get_prompt_text():\n\u001b[1;32m    161\u001b[0m         \u001b[38;5;28;01mif\u001b[39;00m \u001b[38;5;124m\"\u001b[39m\u001b[38;5;130;01m\\n\u001b[39;00m\u001b[38;5;124m\"\u001b[39m \u001b[38;5;129;01min\u001b[39;00m char:\n\u001b[1;32m    162\u001b[0m             \u001b[38;5;28;01mreturn\u001b[39;00m \u001b[38;5;28;01mTrue\u001b[39;00m\n",
      "File \u001b[0;32m/opt/anaconda3/lib/python3.11/site-packages/prompt_toolkit/shortcuts/prompt.py:1271\u001b[0m, in \u001b[0;36mPromptSession._get_prompt\u001b[0;34m(self)\u001b[0m\n\u001b[1;32m   1270\u001b[0m \u001b[38;5;28;01mdef\u001b[39;00m \u001b[38;5;21m_get_prompt\u001b[39m(\u001b[38;5;28mself\u001b[39m) \u001b[38;5;241m-\u001b[39m\u001b[38;5;241m>\u001b[39m StyleAndTextTuples:\n\u001b[0;32m-> 1271\u001b[0m     \u001b[38;5;28;01mreturn\u001b[39;00m to_formatted_text(\u001b[38;5;28mself\u001b[39m\u001b[38;5;241m.\u001b[39mmessage, style\u001b[38;5;241m=\u001b[39m\u001b[38;5;124m\"\u001b[39m\u001b[38;5;124mclass:prompt\u001b[39m\u001b[38;5;124m\"\u001b[39m)\n",
      "File \u001b[0;32m/opt/anaconda3/lib/python3.11/site-packages/prompt_toolkit/formatted_text/base.py:83\u001b[0m, in \u001b[0;36mto_formatted_text\u001b[0;34m(value, style, auto_convert)\u001b[0m\n\u001b[1;32m     81\u001b[0m     result \u001b[38;5;241m=\u001b[39m cast(\u001b[38;5;124m\"\u001b[39m\u001b[38;5;124mMagicFormattedText\u001b[39m\u001b[38;5;124m\"\u001b[39m, value)\u001b[38;5;241m.\u001b[39m__pt_formatted_text__()\n\u001b[1;32m     82\u001b[0m \u001b[38;5;28;01melif\u001b[39;00m \u001b[38;5;28mcallable\u001b[39m(value):\n\u001b[0;32m---> 83\u001b[0m     \u001b[38;5;28;01mreturn\u001b[39;00m to_formatted_text(value(), style\u001b[38;5;241m=\u001b[39mstyle)\n\u001b[1;32m     84\u001b[0m \u001b[38;5;28;01melif\u001b[39;00m auto_convert:\n\u001b[1;32m     85\u001b[0m     result \u001b[38;5;241m=\u001b[39m [(\u001b[38;5;124m\"\u001b[39m\u001b[38;5;124m\"\u001b[39m, \u001b[38;5;124mf\u001b[39m\u001b[38;5;124m\"\u001b[39m\u001b[38;5;132;01m{\u001b[39;00mvalue\u001b[38;5;132;01m}\u001b[39;00m\u001b[38;5;124m\"\u001b[39m)]\n",
      "Cell \u001b[0;32mIn[18], line 22\u001b[0m, in \u001b[0;36mlimited_password_prompt.<locals>.<lambda>\u001b[0;34m()\u001b[0m\n\u001b[1;32m     19\u001b[0m \u001b[38;5;28;01mdef\u001b[39;00m \u001b[38;5;21m_\u001b[39m(event):\n\u001b[1;32m     20\u001b[0m     event\u001b[38;5;241m.\u001b[39mapp\u001b[38;5;241m.\u001b[39mcurrent_buffer\u001b[38;5;241m.\u001b[39mdelete_before_cursor(count\u001b[38;5;241m=\u001b[39m\u001b[38;5;241m1\u001b[39m)\n\u001b[0;32m---> 22\u001b[0m \u001b[38;5;28;01mreturn\u001b[39;00m prompt(\u001b[38;5;28;01mlambda\u001b[39;00m: prompt(prompt_text, is_password\u001b[38;5;241m=\u001b[39m\u001b[38;5;28;01mTrue\u001b[39;00m, key_bindings\u001b[38;5;241m=\u001b[39mbindings))\n",
      "File \u001b[0;32m/opt/anaconda3/lib/python3.11/site-packages/prompt_toolkit/shortcuts/prompt.py:1416\u001b[0m, in \u001b[0;36mprompt\u001b[0;34m(message, history, editing_mode, refresh_interval, vi_mode, lexer, completer, complete_in_thread, is_password, key_bindings, bottom_toolbar, style, color_depth, cursor, include_default_pygments_style, style_transformation, swap_light_and_dark_colors, rprompt, multiline, prompt_continuation, wrap_lines, enable_history_search, search_ignore_case, complete_while_typing, validate_while_typing, complete_style, auto_suggest, validator, clipboard, mouse_support, input_processors, placeholder, reserve_space_for_menu, enable_system_prompt, enable_suspend, enable_open_in_editor, tempfile_suffix, tempfile, default, accept_default, pre_run, set_exception_handler, handle_sigint, in_thread, inputhook)\u001b[0m\n\u001b[1;32m   1412\u001b[0m \u001b[38;5;66;03m# The history is the only attribute that has to be passed to the\u001b[39;00m\n\u001b[1;32m   1413\u001b[0m \u001b[38;5;66;03m# `PromptSession`, it can't be passed into the `prompt()` method.\u001b[39;00m\n\u001b[1;32m   1414\u001b[0m session: PromptSession[\u001b[38;5;28mstr\u001b[39m] \u001b[38;5;241m=\u001b[39m PromptSession(history\u001b[38;5;241m=\u001b[39mhistory)\n\u001b[0;32m-> 1416\u001b[0m \u001b[38;5;28;01mreturn\u001b[39;00m session\u001b[38;5;241m.\u001b[39mprompt(\n\u001b[1;32m   1417\u001b[0m     message,\n\u001b[1;32m   1418\u001b[0m     editing_mode\u001b[38;5;241m=\u001b[39mediting_mode,\n\u001b[1;32m   1419\u001b[0m     refresh_interval\u001b[38;5;241m=\u001b[39mrefresh_interval,\n\u001b[1;32m   1420\u001b[0m     vi_mode\u001b[38;5;241m=\u001b[39mvi_mode,\n\u001b[1;32m   1421\u001b[0m     lexer\u001b[38;5;241m=\u001b[39mlexer,\n\u001b[1;32m   1422\u001b[0m     completer\u001b[38;5;241m=\u001b[39mcompleter,\n\u001b[1;32m   1423\u001b[0m     complete_in_thread\u001b[38;5;241m=\u001b[39mcomplete_in_thread,\n\u001b[1;32m   1424\u001b[0m     is_password\u001b[38;5;241m=\u001b[39mis_password,\n\u001b[1;32m   1425\u001b[0m     key_bindings\u001b[38;5;241m=\u001b[39mkey_bindings,\n\u001b[1;32m   1426\u001b[0m     bottom_toolbar\u001b[38;5;241m=\u001b[39mbottom_toolbar,\n\u001b[1;32m   1427\u001b[0m     style\u001b[38;5;241m=\u001b[39mstyle,\n\u001b[1;32m   1428\u001b[0m     color_depth\u001b[38;5;241m=\u001b[39mcolor_depth,\n\u001b[1;32m   1429\u001b[0m     cursor\u001b[38;5;241m=\u001b[39mcursor,\n\u001b[1;32m   1430\u001b[0m     include_default_pygments_style\u001b[38;5;241m=\u001b[39minclude_default_pygments_style,\n\u001b[1;32m   1431\u001b[0m     style_transformation\u001b[38;5;241m=\u001b[39mstyle_transformation,\n\u001b[1;32m   1432\u001b[0m     swap_light_and_dark_colors\u001b[38;5;241m=\u001b[39mswap_light_and_dark_colors,\n\u001b[1;32m   1433\u001b[0m     rprompt\u001b[38;5;241m=\u001b[39mrprompt,\n\u001b[1;32m   1434\u001b[0m     multiline\u001b[38;5;241m=\u001b[39mmultiline,\n\u001b[1;32m   1435\u001b[0m     prompt_continuation\u001b[38;5;241m=\u001b[39mprompt_continuation,\n\u001b[1;32m   1436\u001b[0m     wrap_lines\u001b[38;5;241m=\u001b[39mwrap_lines,\n\u001b[1;32m   1437\u001b[0m     enable_history_search\u001b[38;5;241m=\u001b[39menable_history_search,\n\u001b[1;32m   1438\u001b[0m     search_ignore_case\u001b[38;5;241m=\u001b[39msearch_ignore_case,\n\u001b[1;32m   1439\u001b[0m     complete_while_typing\u001b[38;5;241m=\u001b[39mcomplete_while_typing,\n\u001b[1;32m   1440\u001b[0m     validate_while_typing\u001b[38;5;241m=\u001b[39mvalidate_while_typing,\n\u001b[1;32m   1441\u001b[0m     complete_style\u001b[38;5;241m=\u001b[39mcomplete_style,\n\u001b[1;32m   1442\u001b[0m     auto_suggest\u001b[38;5;241m=\u001b[39mauto_suggest,\n\u001b[1;32m   1443\u001b[0m     validator\u001b[38;5;241m=\u001b[39mvalidator,\n\u001b[1;32m   1444\u001b[0m     clipboard\u001b[38;5;241m=\u001b[39mclipboard,\n\u001b[1;32m   1445\u001b[0m     mouse_support\u001b[38;5;241m=\u001b[39mmouse_support,\n\u001b[1;32m   1446\u001b[0m     input_processors\u001b[38;5;241m=\u001b[39minput_processors,\n\u001b[1;32m   1447\u001b[0m     placeholder\u001b[38;5;241m=\u001b[39mplaceholder,\n\u001b[1;32m   1448\u001b[0m     reserve_space_for_menu\u001b[38;5;241m=\u001b[39mreserve_space_for_menu,\n\u001b[1;32m   1449\u001b[0m     enable_system_prompt\u001b[38;5;241m=\u001b[39menable_system_prompt,\n\u001b[1;32m   1450\u001b[0m     enable_suspend\u001b[38;5;241m=\u001b[39menable_suspend,\n\u001b[1;32m   1451\u001b[0m     enable_open_in_editor\u001b[38;5;241m=\u001b[39menable_open_in_editor,\n\u001b[1;32m   1452\u001b[0m     tempfile_suffix\u001b[38;5;241m=\u001b[39mtempfile_suffix,\n\u001b[1;32m   1453\u001b[0m     tempfile\u001b[38;5;241m=\u001b[39mtempfile,\n\u001b[1;32m   1454\u001b[0m     default\u001b[38;5;241m=\u001b[39mdefault,\n\u001b[1;32m   1455\u001b[0m     accept_default\u001b[38;5;241m=\u001b[39maccept_default,\n\u001b[1;32m   1456\u001b[0m     pre_run\u001b[38;5;241m=\u001b[39mpre_run,\n\u001b[1;32m   1457\u001b[0m     set_exception_handler\u001b[38;5;241m=\u001b[39mset_exception_handler,\n\u001b[1;32m   1458\u001b[0m     handle_sigint\u001b[38;5;241m=\u001b[39mhandle_sigint,\n\u001b[1;32m   1459\u001b[0m     in_thread\u001b[38;5;241m=\u001b[39min_thread,\n\u001b[1;32m   1460\u001b[0m     inputhook\u001b[38;5;241m=\u001b[39minputhook,\n\u001b[1;32m   1461\u001b[0m )\n",
      "File \u001b[0;32m/opt/anaconda3/lib/python3.11/site-packages/prompt_toolkit/shortcuts/prompt.py:1026\u001b[0m, in \u001b[0;36mPromptSession.prompt\u001b[0;34m(self, message, editing_mode, refresh_interval, vi_mode, lexer, completer, complete_in_thread, is_password, key_bindings, bottom_toolbar, style, color_depth, cursor, include_default_pygments_style, style_transformation, swap_light_and_dark_colors, rprompt, multiline, prompt_continuation, wrap_lines, enable_history_search, search_ignore_case, complete_while_typing, validate_while_typing, complete_style, auto_suggest, validator, clipboard, mouse_support, input_processors, placeholder, reserve_space_for_menu, enable_system_prompt, enable_suspend, enable_open_in_editor, tempfile_suffix, tempfile, default, accept_default, pre_run, set_exception_handler, handle_sigint, in_thread, inputhook)\u001b[0m\n\u001b[1;32m   1023\u001b[0m     \u001b[38;5;28;01mwith\u001b[39;00m \u001b[38;5;28mself\u001b[39m\u001b[38;5;241m.\u001b[39m_dumb_prompt(\u001b[38;5;28mself\u001b[39m\u001b[38;5;241m.\u001b[39mmessage) \u001b[38;5;28;01mas\u001b[39;00m dump_app:\n\u001b[1;32m   1024\u001b[0m         \u001b[38;5;28;01mreturn\u001b[39;00m dump_app\u001b[38;5;241m.\u001b[39mrun(in_thread\u001b[38;5;241m=\u001b[39min_thread, handle_sigint\u001b[38;5;241m=\u001b[39mhandle_sigint)\n\u001b[0;32m-> 1026\u001b[0m \u001b[38;5;28;01mreturn\u001b[39;00m \u001b[38;5;28mself\u001b[39m\u001b[38;5;241m.\u001b[39mapp\u001b[38;5;241m.\u001b[39mrun(\n\u001b[1;32m   1027\u001b[0m     set_exception_handler\u001b[38;5;241m=\u001b[39mset_exception_handler,\n\u001b[1;32m   1028\u001b[0m     in_thread\u001b[38;5;241m=\u001b[39min_thread,\n\u001b[1;32m   1029\u001b[0m     handle_sigint\u001b[38;5;241m=\u001b[39mhandle_sigint,\n\u001b[1;32m   1030\u001b[0m     inputhook\u001b[38;5;241m=\u001b[39minputhook,\n\u001b[1;32m   1031\u001b[0m )\n",
      "File \u001b[0;32m/opt/anaconda3/lib/python3.11/site-packages/prompt_toolkit/application/application.py:1002\u001b[0m, in \u001b[0;36mApplication.run\u001b[0;34m(self, pre_run, set_exception_handler, handle_sigint, in_thread, inputhook)\u001b[0m\n\u001b[1;32m    998\u001b[0m         \u001b[38;5;28;01mreturn\u001b[39;00m loop\u001b[38;5;241m.\u001b[39mrun_until_complete(coro)\n\u001b[1;32m   1000\u001b[0m \u001b[38;5;28;01melse\u001b[39;00m:\n\u001b[1;32m   1001\u001b[0m     \u001b[38;5;66;03m# No loop installed. Run like usual.\u001b[39;00m\n\u001b[0;32m-> 1002\u001b[0m     \u001b[38;5;28;01mreturn\u001b[39;00m asyncio\u001b[38;5;241m.\u001b[39mrun(coro)\n",
      "File \u001b[0;32m/opt/anaconda3/lib/python3.11/site-packages/nest_asyncio.py:30\u001b[0m, in \u001b[0;36m_patch_asyncio.<locals>.run\u001b[0;34m(main, debug)\u001b[0m\n\u001b[1;32m     28\u001b[0m task \u001b[38;5;241m=\u001b[39m asyncio\u001b[38;5;241m.\u001b[39mensure_future(main)\n\u001b[1;32m     29\u001b[0m \u001b[38;5;28;01mtry\u001b[39;00m:\n\u001b[0;32m---> 30\u001b[0m     \u001b[38;5;28;01mreturn\u001b[39;00m loop\u001b[38;5;241m.\u001b[39mrun_until_complete(task)\n\u001b[1;32m     31\u001b[0m \u001b[38;5;28;01mfinally\u001b[39;00m:\n\u001b[1;32m     32\u001b[0m     \u001b[38;5;28;01mif\u001b[39;00m \u001b[38;5;129;01mnot\u001b[39;00m task\u001b[38;5;241m.\u001b[39mdone():\n",
      "File \u001b[0;32m/opt/anaconda3/lib/python3.11/site-packages/nest_asyncio.py:92\u001b[0m, in \u001b[0;36m_patch_loop.<locals>.run_until_complete\u001b[0;34m(self, future)\u001b[0m\n\u001b[1;32m     90\u001b[0m     f\u001b[38;5;241m.\u001b[39m_log_destroy_pending \u001b[38;5;241m=\u001b[39m \u001b[38;5;28;01mFalse\u001b[39;00m\n\u001b[1;32m     91\u001b[0m \u001b[38;5;28;01mwhile\u001b[39;00m \u001b[38;5;129;01mnot\u001b[39;00m f\u001b[38;5;241m.\u001b[39mdone():\n\u001b[0;32m---> 92\u001b[0m     \u001b[38;5;28mself\u001b[39m\u001b[38;5;241m.\u001b[39m_run_once()\n\u001b[1;32m     93\u001b[0m     \u001b[38;5;28;01mif\u001b[39;00m \u001b[38;5;28mself\u001b[39m\u001b[38;5;241m.\u001b[39m_stopping:\n\u001b[1;32m     94\u001b[0m         \u001b[38;5;28;01mbreak\u001b[39;00m\n",
      "File \u001b[0;32m/opt/anaconda3/lib/python3.11/site-packages/nest_asyncio.py:133\u001b[0m, in \u001b[0;36m_patch_loop.<locals>._run_once\u001b[0;34m(self)\u001b[0m\n\u001b[1;32m    130\u001b[0m curr_task \u001b[38;5;241m=\u001b[39m curr_tasks\u001b[38;5;241m.\u001b[39mpop(\u001b[38;5;28mself\u001b[39m, \u001b[38;5;28;01mNone\u001b[39;00m)\n\u001b[1;32m    132\u001b[0m \u001b[38;5;28;01mtry\u001b[39;00m:\n\u001b[0;32m--> 133\u001b[0m     handle\u001b[38;5;241m.\u001b[39m_run()\n\u001b[1;32m    134\u001b[0m \u001b[38;5;28;01mfinally\u001b[39;00m:\n\u001b[1;32m    135\u001b[0m     \u001b[38;5;66;03m# restore the current task\u001b[39;00m\n\u001b[1;32m    136\u001b[0m     \u001b[38;5;28;01mif\u001b[39;00m curr_task \u001b[38;5;129;01mis\u001b[39;00m \u001b[38;5;129;01mnot\u001b[39;00m \u001b[38;5;28;01mNone\u001b[39;00m:\n",
      "File \u001b[0;32m/opt/anaconda3/lib/python3.11/asyncio/events.py:80\u001b[0m, in \u001b[0;36mHandle._run\u001b[0;34m(self)\u001b[0m\n\u001b[1;32m     78\u001b[0m \u001b[38;5;28;01mdef\u001b[39;00m \u001b[38;5;21m_run\u001b[39m(\u001b[38;5;28mself\u001b[39m):\n\u001b[1;32m     79\u001b[0m     \u001b[38;5;28;01mtry\u001b[39;00m:\n\u001b[0;32m---> 80\u001b[0m         \u001b[38;5;28mself\u001b[39m\u001b[38;5;241m.\u001b[39m_context\u001b[38;5;241m.\u001b[39mrun(\u001b[38;5;28mself\u001b[39m\u001b[38;5;241m.\u001b[39m_callback, \u001b[38;5;241m*\u001b[39m\u001b[38;5;28mself\u001b[39m\u001b[38;5;241m.\u001b[39m_args)\n\u001b[1;32m     81\u001b[0m     \u001b[38;5;28;01mexcept\u001b[39;00m (\u001b[38;5;167;01mSystemExit\u001b[39;00m, \u001b[38;5;167;01mKeyboardInterrupt\u001b[39;00m):\n\u001b[1;32m     82\u001b[0m         \u001b[38;5;28;01mraise\u001b[39;00m\n",
      "File \u001b[0;32m/opt/anaconda3/lib/python3.11/asyncio/tasks.py:360\u001b[0m, in \u001b[0;36mTask.__wakeup\u001b[0;34m(self, future)\u001b[0m\n\u001b[1;32m    352\u001b[0m     \u001b[38;5;28mself\u001b[39m\u001b[38;5;241m.\u001b[39m__step(exc)\n\u001b[1;32m    353\u001b[0m \u001b[38;5;28;01melse\u001b[39;00m:\n\u001b[1;32m    354\u001b[0m     \u001b[38;5;66;03m# Don't pass the value of `future.result()` explicitly,\u001b[39;00m\n\u001b[1;32m    355\u001b[0m     \u001b[38;5;66;03m# as `Future.__iter__` and `Future.__await__` don't need it.\u001b[39;00m\n\u001b[0;32m   (...)\u001b[0m\n\u001b[1;32m    358\u001b[0m     \u001b[38;5;66;03m# instead of `__next__()`, which is slower for futures\u001b[39;00m\n\u001b[1;32m    359\u001b[0m     \u001b[38;5;66;03m# that return non-generator iterators from their `__iter__`.\u001b[39;00m\n\u001b[0;32m--> 360\u001b[0m     \u001b[38;5;28mself\u001b[39m\u001b[38;5;241m.\u001b[39m__step()\n\u001b[1;32m    361\u001b[0m \u001b[38;5;28mself\u001b[39m \u001b[38;5;241m=\u001b[39m \u001b[38;5;28;01mNone\u001b[39;00m\n",
      "File \u001b[0;32m/opt/anaconda3/lib/python3.11/asyncio/tasks.py:277\u001b[0m, in \u001b[0;36mTask.__step\u001b[0;34m(***failed resolving arguments***)\u001b[0m\n\u001b[1;32m    273\u001b[0m \u001b[38;5;28;01mtry\u001b[39;00m:\n\u001b[1;32m    274\u001b[0m     \u001b[38;5;28;01mif\u001b[39;00m exc \u001b[38;5;129;01mis\u001b[39;00m \u001b[38;5;28;01mNone\u001b[39;00m:\n\u001b[1;32m    275\u001b[0m         \u001b[38;5;66;03m# We use the `send` method directly, because coroutines\u001b[39;00m\n\u001b[1;32m    276\u001b[0m         \u001b[38;5;66;03m# don't have `__iter__` and `__next__` methods.\u001b[39;00m\n\u001b[0;32m--> 277\u001b[0m         result \u001b[38;5;241m=\u001b[39m coro\u001b[38;5;241m.\u001b[39msend(\u001b[38;5;28;01mNone\u001b[39;00m)\n\u001b[1;32m    278\u001b[0m     \u001b[38;5;28;01melse\u001b[39;00m:\n\u001b[1;32m    279\u001b[0m         result \u001b[38;5;241m=\u001b[39m coro\u001b[38;5;241m.\u001b[39mthrow(exc)\n",
      "File \u001b[0;32m/opt/anaconda3/lib/python3.11/site-packages/prompt_toolkit/application/application.py:886\u001b[0m, in \u001b[0;36mApplication.run_async\u001b[0;34m(self, pre_run, set_exception_handler, handle_sigint, slow_callback_duration)\u001b[0m\n\u001b[1;32m    883\u001b[0m f \u001b[38;5;241m=\u001b[39m stack\u001b[38;5;241m.\u001b[39menter_context(create_future(loop))\n\u001b[1;32m    885\u001b[0m \u001b[38;5;28;01mtry\u001b[39;00m:\n\u001b[0;32m--> 886\u001b[0m     \u001b[38;5;28;01mreturn\u001b[39;00m \u001b[38;5;28;01mawait\u001b[39;00m _run_async(f)\n\u001b[1;32m    887\u001b[0m \u001b[38;5;28;01mfinally\u001b[39;00m:\n\u001b[1;32m    888\u001b[0m     \u001b[38;5;66;03m# Wait for the background tasks to be done. This needs to\u001b[39;00m\n\u001b[1;32m    889\u001b[0m     \u001b[38;5;66;03m# go in the finally! If `_run_async` raises\u001b[39;00m\n\u001b[1;32m    890\u001b[0m     \u001b[38;5;66;03m# `KeyboardInterrupt`, we still want to wait for the\u001b[39;00m\n\u001b[1;32m    891\u001b[0m     \u001b[38;5;66;03m# background tasks.\u001b[39;00m\n\u001b[1;32m    892\u001b[0m     \u001b[38;5;28;01mawait\u001b[39;00m \u001b[38;5;28mself\u001b[39m\u001b[38;5;241m.\u001b[39mcancel_and_wait_for_background_tasks()\n",
      "File \u001b[0;32m/opt/anaconda3/lib/python3.11/site-packages/prompt_toolkit/application/application.py:746\u001b[0m, in \u001b[0;36mApplication.run_async.<locals>._run_async\u001b[0;34m(f)\u001b[0m\n\u001b[1;32m    744\u001b[0m \u001b[38;5;66;03m# Wait for UI to finish.\u001b[39;00m\n\u001b[1;32m    745\u001b[0m \u001b[38;5;28;01mtry\u001b[39;00m:\n\u001b[0;32m--> 746\u001b[0m     result \u001b[38;5;241m=\u001b[39m \u001b[38;5;28;01mawait\u001b[39;00m f\n\u001b[1;32m    747\u001b[0m \u001b[38;5;28;01mfinally\u001b[39;00m:\n\u001b[1;32m    748\u001b[0m     \u001b[38;5;66;03m# In any case, when the application finishes.\u001b[39;00m\n\u001b[1;32m    749\u001b[0m     \u001b[38;5;66;03m# (Successful, or because of an error.)\u001b[39;00m\n\u001b[1;32m    750\u001b[0m     \u001b[38;5;28;01mtry\u001b[39;00m:\n",
      "File \u001b[0;32m/opt/anaconda3/lib/python3.11/asyncio/futures.py:287\u001b[0m, in \u001b[0;36mFuture.__await__\u001b[0;34m(self)\u001b[0m\n\u001b[1;32m    285\u001b[0m \u001b[38;5;28;01mif\u001b[39;00m \u001b[38;5;129;01mnot\u001b[39;00m \u001b[38;5;28mself\u001b[39m\u001b[38;5;241m.\u001b[39mdone():\n\u001b[1;32m    286\u001b[0m     \u001b[38;5;28mself\u001b[39m\u001b[38;5;241m.\u001b[39m_asyncio_future_blocking \u001b[38;5;241m=\u001b[39m \u001b[38;5;28;01mTrue\u001b[39;00m\n\u001b[0;32m--> 287\u001b[0m     \u001b[38;5;28;01myield\u001b[39;00m \u001b[38;5;28mself\u001b[39m  \u001b[38;5;66;03m# This tells Task to wait for completion.\u001b[39;00m\n\u001b[1;32m    288\u001b[0m \u001b[38;5;28;01mif\u001b[39;00m \u001b[38;5;129;01mnot\u001b[39;00m \u001b[38;5;28mself\u001b[39m\u001b[38;5;241m.\u001b[39mdone():\n\u001b[1;32m    289\u001b[0m     \u001b[38;5;28;01mraise\u001b[39;00m \u001b[38;5;167;01mRuntimeError\u001b[39;00m(\u001b[38;5;124m\"\u001b[39m\u001b[38;5;124mawait wasn\u001b[39m\u001b[38;5;124m'\u001b[39m\u001b[38;5;124mt used with future\u001b[39m\u001b[38;5;124m\"\u001b[39m)\n",
      "File \u001b[0;32m/opt/anaconda3/lib/python3.11/asyncio/tasks.py:349\u001b[0m, in \u001b[0;36mTask.__wakeup\u001b[0;34m(self, future)\u001b[0m\n\u001b[1;32m    347\u001b[0m \u001b[38;5;28;01mdef\u001b[39;00m \u001b[38;5;21m__wakeup\u001b[39m(\u001b[38;5;28mself\u001b[39m, future):\n\u001b[1;32m    348\u001b[0m     \u001b[38;5;28;01mtry\u001b[39;00m:\n\u001b[0;32m--> 349\u001b[0m         future\u001b[38;5;241m.\u001b[39mresult()\n\u001b[1;32m    350\u001b[0m     \u001b[38;5;28;01mexcept\u001b[39;00m \u001b[38;5;167;01mBaseException\u001b[39;00m \u001b[38;5;28;01mas\u001b[39;00m exc:\n\u001b[1;32m    351\u001b[0m         \u001b[38;5;66;03m# This may also be a cancellation.\u001b[39;00m\n\u001b[1;32m    352\u001b[0m         \u001b[38;5;28mself\u001b[39m\u001b[38;5;241m.\u001b[39m__step(exc)\n",
      "File \u001b[0;32m/opt/anaconda3/lib/python3.11/asyncio/futures.py:203\u001b[0m, in \u001b[0;36mFuture.result\u001b[0;34m(self)\u001b[0m\n\u001b[1;32m    201\u001b[0m \u001b[38;5;28mself\u001b[39m\u001b[38;5;241m.\u001b[39m__log_traceback \u001b[38;5;241m=\u001b[39m \u001b[38;5;28;01mFalse\u001b[39;00m\n\u001b[1;32m    202\u001b[0m \u001b[38;5;28;01mif\u001b[39;00m \u001b[38;5;28mself\u001b[39m\u001b[38;5;241m.\u001b[39m_exception \u001b[38;5;129;01mis\u001b[39;00m \u001b[38;5;129;01mnot\u001b[39;00m \u001b[38;5;28;01mNone\u001b[39;00m:\n\u001b[0;32m--> 203\u001b[0m     \u001b[38;5;28;01mraise\u001b[39;00m \u001b[38;5;28mself\u001b[39m\u001b[38;5;241m.\u001b[39m_exception\u001b[38;5;241m.\u001b[39mwith_traceback(\u001b[38;5;28mself\u001b[39m\u001b[38;5;241m.\u001b[39m_exception_tb)\n\u001b[1;32m    204\u001b[0m \u001b[38;5;28;01mreturn\u001b[39;00m \u001b[38;5;28mself\u001b[39m\u001b[38;5;241m.\u001b[39m_result\n",
      "\u001b[0;31mKeyboardInterrupt\u001b[0m: "
     ]
    }
   ],
   "source": [
    "from prompt_toolkit import prompt\n",
    "from prompt_toolkit.input import create_input\n",
    "from prompt_toolkit.key_binding import KeyBindings\n",
    "from prompt_toolkit.keys import Keys\n",
    "def limited_password_prompt(prompt_text, max_length=20):\n",
    "    # Create a key binding registry.\n",
    "    bindings = KeyBindings()\n",
    "\n",
    "    # Handler to limit input length.\n",
    "    bindings.add(Keys.Any)\n",
    "    def _(event):\n",
    "        buffer = event.app.current_buffer\n",
    "        if len(buffer.text) >= max_length:\n",
    "            # Prevent adding more characters if max_length is reached.\n",
    "            event.app.current_buffer.delete_before_cursor(count=0)\n",
    "\n",
    "    # Handler for backspace to work normally.\n",
    "    bindings.add('backspace')\n",
    "    def _(event):\n",
    "        event.app.current_buffer.delete_before_cursor(count=1)\n",
    "\n",
    "    return prompt(lambda: prompt(prompt_text, is_password=True, key_bindings=bindings))\n",
    "\n",
    "# Use the custom prompt function.\n",
    "password = limited_password_prompt('Password: ', max_length=20)\n",
    "print('Password entered:', password)"
   ]
  }
 ],
 "metadata": {
  "kernelspec": {
   "display_name": "base",
   "language": "python",
   "name": "python3"
  },
  "language_info": {
   "codemirror_mode": {
    "name": "ipython",
    "version": 3
   },
   "file_extension": ".py",
   "mimetype": "text/x-python",
   "name": "python",
   "nbconvert_exporter": "python",
   "pygments_lexer": "ipython3",
   "version": "3.11.6"
  }
 },
 "nbformat": 4,
 "nbformat_minor": 2
}
