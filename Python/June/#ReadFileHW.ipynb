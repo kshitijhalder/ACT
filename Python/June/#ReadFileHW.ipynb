{
 "cells": [
  {
   "cell_type": "markdown",
   "metadata": {},
   "source": [
    "Write a function in python to count the number of lines from a text file \"ACT.txt\" which is not starting with an alphabet \"T\""
   ]
  },
  {
   "cell_type": "code",
   "execution_count": 8,
   "metadata": {},
   "outputs": [
    {
     "name": "stdout",
     "output_type": "stream",
     "text": [
      "Number of lines not starting with 'T': 9\n"
     ]
    }
   ],
   "source": [
    "def count_lines_not_starting_with_T(file_path):\n",
    "    # Initialize a counter for lines not starting with 'T'\n",
    "    count = 0\n",
    "    \n",
    "    # Open the file in read mode\n",
    "    with open(file_path, 'r') as file:\n",
    "        # Iterate through each line in the file\n",
    "        for line in file:\n",
    "            if not line.startswith('T') and not line.startswith('t'):\n",
    "                # Increment the counter\n",
    "                count += 1\n",
    "    \n",
    "    # Return the count of lines not starting with 'T'\n",
    "    return count\n",
    "\n",
    "# Example usage\n",
    "file_path = \"ACT.txt\"\n",
    "print(f\"Number of lines not starting with 'T': {count_lines_not_starting_with_T(file_path)}\")"
   ]
  },
  {
   "cell_type": "markdown",
   "metadata": {},
   "source": [
    "2.\\\\ \\ Write a function display_words() in python to read lines from a text file \"ACT.txt\", and display those words, which are less than 4 characters."
   ]
  },
  {
   "cell_type": "code",
   "execution_count": 9,
   "metadata": {},
   "outputs": [
    {
     "name": "stdout",
     "output_type": "stream",
     "text": [
      "Het\n"
     ]
    }
   ],
   "source": [
    "def display_words(file_path):\n",
    "    \n",
    "    with open(file_path, 'r') as file:\n",
    "        for line in file:\n",
    "            # Split the line into words\n",
    "            words = line.split()\n",
    "            for word in words:\n",
    "                # Check if the length of the word is less than 4\n",
    "                if len(word) < 4:\n",
    "                    print(word)\n",
    "\n",
    "# Example usage\n",
    "file_path = \"ACT.txt\"\n",
    "display_words(file_path)"
   ]
  },
  {
   "cell_type": "markdown",
   "metadata": {},
   "source": [
    "3.\\\\ \\ Write a function in Python to count uppercase character in a text file."
   ]
  },
  {
   "cell_type": "code",
   "execution_count": 10,
   "metadata": {},
   "outputs": [
    {
     "name": "stdout",
     "output_type": "stream",
     "text": [
      "Number of uppercase characters: 5\n"
     ]
    }
   ],
   "source": [
    "def count_uppercase_characters(file_path):\n",
    "    # Initialize a counter for uppercase characters\n",
    "    count = 0\n",
    "    \n",
    "    with open(file_path, 'r') as file:\n",
    "        content = file.read()\n",
    "        for char in content:\n",
    "            # Check if the character is uppercase\n",
    "            if char.isupper():\n",
    "                count += 1\n",
    "\n",
    "    return count\n",
    "\n",
    "# Example usage\n",
    "file_path = \"ACT.txt\"\n",
    "print(f\"Number of uppercase characters: {count_uppercase_characters(file_path)}\")"
   ]
  },
  {
   "cell_type": "markdown",
   "metadata": {},
   "source": [
    "4. \\\\ \\ Write a python code to display the details of the mode when chosen. For example if \"r\" is chosen then read mode and its details should be shown. Do the same for a, a+, w, etc"
   ]
  },
  {
   "cell_type": "code",
   "execution_count": 11,
   "metadata": {},
   "outputs": [
    {
     "name": "stdout",
     "output_type": "stream",
     "text": [
      "Mode 'r': Read mode: Opens a file for reading only.\n"
     ]
    }
   ],
   "source": [
    "def display_file_mode_details(mode):\n",
    "    # Dictionary mapping file modes to their descriptions\n",
    "    mode_details = {\n",
    "        'r': \"Read mode: Opens a file for reading only.\",\n",
    "        'r+': \"Read/Write mode: Opens a file for both reading and writing.\",\n",
    "        'w': \"Write mode: Opens a file for writing only. Overwrites the file if the file exists. If the file does not exist, creates a new file for writing.\",\n",
    "        'w+': \"Read/Write mode: Opens a file for both writing and reading. Overwrites the existing file if the file exists. If the file does not exist, creates a new one for reading and writing.\",\n",
    "        'a': \"Append mode: Opens a file for appending. The file pointer is at the end of the file if the file exists. That is, the file is in the append mode. If the file does not exist, it creates a new file for writing.\",\n",
    "        'a+': \"Read/Append mode: Opens a file for both appending and reading. The file pointer is at the end of the file if the file exists. The file opens in the append mode. If the file does not exist, it creates a new file for reading and writing.\",\n",
    "        'x': \"Exclusive creation: Creates a new file. The operation fails if the file already exists.\",\n",
    "        'x+': \"Read/Write mode (exclusive creation): Creates a new file for reading and writing. The operation fails if the file already exists.\"\n",
    "    }\n",
    "\n",
    "    # Display the details of the chosen mode\n",
    "    details = mode_details.get(mode, \"Invalid mode: The mode you have entered is not recognized.\")\n",
    "    print(f\"Mode '{mode}': {details}\")\n",
    "\n",
    "# Example usage\n",
    "mode = input(\"Enter the file mode (e.g., 'r', 'w', 'a', 'r+', 'w+', 'a+', 'x', 'x+'): \")\n",
    "display_file_mode_details(mode)"
   ]
  }
 ],
 "metadata": {
  "kernelspec": {
   "display_name": "base",
   "language": "python",
   "name": "python3"
  },
  "language_info": {
   "codemirror_mode": {
    "name": "ipython",
    "version": 3
   },
   "file_extension": ".py",
   "mimetype": "text/x-python",
   "name": "python",
   "nbconvert_exporter": "python",
   "pygments_lexer": "ipython3",
   "version": "3.11.9"
  }
 },
 "nbformat": 4,
 "nbformat_minor": 2
}
