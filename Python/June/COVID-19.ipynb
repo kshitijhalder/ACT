{
 "cells": [
  {
   "cell_type": "markdown",
   "metadata": {},
   "source": [
    "COVID - 19 Classifier\n",
    "\n",
    "Date : 4-6-2024"
   ]
  },
  {
   "cell_type": "code",
   "execution_count": 1,
   "metadata": {},
   "outputs": [
    {
     "ename": "ModuleNotFoundError",
     "evalue": "No module named 'pandas'",
     "output_type": "error",
     "traceback": [
      "\u001b[0;31m---------------------------------------------------------------------------\u001b[0m",
      "\u001b[0;31mModuleNotFoundError\u001b[0m                       Traceback (most recent call last)",
      "Cell \u001b[0;32mIn[1], line 1\u001b[0m\n\u001b[0;32m----> 1\u001b[0m \u001b[38;5;28;01mimport\u001b[39;00m \u001b[38;5;21;01mpandas\u001b[39;00m \u001b[38;5;28;01mas\u001b[39;00m \u001b[38;5;21;01mpd\u001b[39;00m\n\u001b[1;32m      2\u001b[0m \u001b[38;5;28;01mimport\u001b[39;00m \u001b[38;5;21;01mnumpy\u001b[39;00m \u001b[38;5;28;01mas\u001b[39;00m \u001b[38;5;21;01mnp\u001b[39;00m\n\u001b[1;32m      3\u001b[0m \u001b[38;5;28;01mimport\u001b[39;00m \u001b[38;5;21;01mseaborn\u001b[39;00m \u001b[38;5;28;01mas\u001b[39;00m \u001b[38;5;21;01msns\u001b[39;00m\n",
      "\u001b[0;31mModuleNotFoundError\u001b[0m: No module named 'pandas'"
     ]
    }
   ],
   "source": [
    "\n",
    "import pandas as pd\n",
    "import numpy as np\n",
    "import seaborn as sns\n",
    "from sklearn.metrics import confusion_matrix\n",
    "from sklearn.preprocessing import LabelEncoder\n",
    "from sklearn.tree import DecisionTreeClassifier\n",
    "from sklearn.preprocessing import StandardScaler\n",
    "from sklearn.ensemble import RandomForestClassifier\n",
    "from sklearn.neighbors import KNeighborsClassifier\n",
    "from sklearn.svm import SVC\n",
    "from sklearn.model_selection import train_test_split\n",
    "import sklearn.metrics\n",
    "import joblib\n",
    "import matplotlib.pyplot as plt\n",
    "\n",
    "# read the CSV file\n",
    "features = pd.read_csv('/Users/kshitijhalder/Desktop/ACT/Python/June/large_data.csv')    # 44453 entries                        #reading the file\n",
    "print(features.shape)\n",
    "features = features.rename(columns={'TYPE' : 'class'})  #renaming the result column\n",
    "colnames=features.columns\n",
    "  # Label Encoding refers to converting the labels into numeric form so as to convert it \n",
    "  # into the machine-readable form. \n",
    "  # Machine learning algorithms can then decide in a better way on how those labels must be operated\n",
    "label_encoder = LabelEncoder()                               \n",
    "features['class']= label_encoder.fit_transform(features['class']) #performing label encoding in the given column\n",
    "labels = features.pop('class')  #removing the class column from the features table\n",
    "keys = label_encoder.classes_  \n",
    "values = label_encoder.transform(label_encoder.classes_)\n",
    "dictionary = dict(zip(keys, values)) #storing the converted column entries as (key,value) pairs\n",
    "print(\"Dictionary :\",dictionary)\n",
    "X_train, X_test, y_train, y_test = train_test_split(features, labels, test_size=0.20,random_state=5)  #splitting the dataset into train and test set\n",
    "scaler = StandardScaler()\n",
    "scaler.fit(X_train)\n",
    "X_train = scaler.transform(X_train) \n",
    "X_test = scaler.transform(X_test)\n",
    "  \n",
    "# K-Nearest Neighbors Classifier\n",
    "KNNclassifier = KNeighborsClassifier(n_neighbors=5)  # 5 nearest neighbors\n",
    "KNNclassifier.fit(X_train, y_train)  #training\n",
    "filename = 'knn_model.sav'\n",
    "joblib.dump(KNNclassifier, filename)  #save the model\n",
    "y_pred = KNNclassifier.predict(X_test)  #predict on test set\n",
    "accuracyKNN = sklearn.metrics.accuracy_score(y_test, y_pred) #accuracy\n",
    "print(sklearn.metrics.confusion_matrix(y_test,y_pred))  #confusion matrix\n",
    "print(sklearn.metrics.classification_report(y_test,y_pred))  #classification report\n",
    "\n",
    "# Heatmap for K-Nearest Neighbors Classifier\n",
    "\n",
    "cm = confusion_matrix(y_test, y_pred)\n",
    "sns.heatmap(cm, annot=True, xticklabels=dictionary.keys(), yticklabels=dictionary.keys(), cmap='pink')\n",
    "plt.title('K-Nearest Neighbors Classifier')\n",
    "plt.show()\n",
    "\n",
    "# Random Forest Classifier\n",
    "RFclassifier = RandomForestClassifier(n_estimators = 10, criterion = 'entropy', random_state = 42) # 10 decision trees used in this classifier\n",
    "RFclassifier.fit(X_train, y_train)  #training  \n",
    "filename = 'rf_model.sav'\n",
    "joblib.dump(RFclassifier, filename)  #save the model\n",
    "y_pred = RFclassifier.predict(X_test) #predict on test set\n",
    "accuracyRF = sklearn.metrics.accuracy_score(y_test, y_pred)\n",
    "print(sklearn.metrics.confusion_matrix(y_test,y_pred))\n",
    "print(sklearn.metrics.classification_report(y_test,y_pred))\n",
    "\n",
    "\n",
    "# Heatmap for Random Forest Classifier\n",
    "\n",
    "cm = confusion_matrix(y_test, y_pred)\n",
    "sns.heatmap(cm, annot=True, xticklabels=dictionary.keys(), yticklabels=dictionary.keys(), cmap='PuBu')\n",
    "plt.title('Random Forest Classifier')\n",
    "plt.show()\n",
    "\n",
    "# Decision Tree Classifier\n",
    "\n",
    "DTclassifier = DecisionTreeClassifier(criterion = 'entropy', random_state = 0)\n",
    "DTclassifier.fit(X_train, y_train)\n",
    "filename = 'dt_model.sav'\n",
    "joblib.dump(DTclassifier, filename)\n",
    "y_pred = DTclassifier.predict(X_test)\n",
    "accuracyDT = sklearn.metrics.accuracy_score(y_test, y_pred)\n",
    "print(sklearn.metrics.confusion_matrix(y_test,y_pred))\n",
    "print(sklearn.metrics.classification_report(y_test,y_pred))\n",
    "\n",
    "# Heatmap for Decision Tree Classifier\n",
    "\n",
    "cm = confusion_matrix(y_test, y_pred)\n",
    "sns.heatmap(cm, annot=True, xticklabels=dictionary.keys(), yticklabels=dictionary.keys(), cmap='YlGn' )\n",
    "plt.title('Decision Tree Classifier')\n",
    "plt.show()\n",
    "\n",
    "\n",
    "# Find if someone has COVID-19 or not"
   ]
  },
  {
   "cell_type": "markdown",
   "metadata": {},
   "source": [
    "NON - TOPIC QUESTIONS\n",
    "\n",
    "Date : 5:6:2024"
   ]
  },
  {
   "cell_type": "code",
   "execution_count": 2,
   "metadata": {},
   "outputs": [
    {
     "name": "stdout",
     "output_type": "stream",
     "text": [
      "The result is:  8\n"
     ]
    }
   ],
   "source": [
    "# 1. Find the power of a number using a recursive function\n",
    "\n",
    "def power(base, exp):\n",
    "    if exp == 0:\n",
    "        return 1\n",
    "    else:\n",
    "        return base * power(base, exp - 1)\n",
    "\n",
    "base = int(input(\"Enter the base: \"))\n",
    "exp = int(input(\"Enter the exponent: \"))\n",
    "print(\"The result is: \", power(base, exp))"
   ]
  },
  {
   "cell_type": "code",
   "execution_count": 1,
   "metadata": {},
   "outputs": [
    {
     "name": "stdout",
     "output_type": "stream",
     "text": [
      "65\n",
      "A\n",
      "The new string is:  4\n"
     ]
    }
   ],
   "source": [
    "print(ord('A'))  # Output: 65\n",
    "print(chr(65))  # Output: 'A'\n",
    "\n",
    "# 2. If a character in a string is consonant change it to the next character\n",
    "\n",
    "def change_consonant(s):\n",
    "    vowels = 'aeiou'\n",
    "    new_str = ''\n",
    "    for char in s:\n",
    "        if char.isalpha() and char.lower() not in vowels:\n",
    "            new_str += chr(ord(char) + 1)\n",
    "        else:\n",
    "            new_str += char\n",
    "    return new_str\n",
    "\n",
    "s = input(\"Enter a string: \")\n",
    "print(\"The new string is: \", change_consonant(s))\n"
   ]
  }
 ],
 "metadata": {
  "kernelspec": {
   "display_name": "base",
   "language": "python",
   "name": "python3"
  },
  "language_info": {
   "codemirror_mode": {
    "name": "ipython",
    "version": 3
   },
   "file_extension": ".py",
   "mimetype": "text/x-python",
   "name": "python",
   "nbconvert_exporter": "python",
   "pygments_lexer": "ipython3",
   "version": "3.12.3"
  }
 },
 "nbformat": 4,
 "nbformat_minor": 2
}
