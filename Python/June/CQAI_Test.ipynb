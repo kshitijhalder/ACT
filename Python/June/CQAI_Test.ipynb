{
 "cells": [
  {
   "cell_type": "code",
   "execution_count": 1,
   "metadata": {},
   "outputs": [
    {
     "name": "stdout",
     "output_type": "stream",
     "text": [
      "[4, 16]\n"
     ]
    }
   ],
   "source": [
    "numbers = [1, 2, 3, 4, 5]\n",
    "squared = [n**2 for n in numbers if n % 2 == 0]\n",
    "print(squared)"
   ]
  },
  {
   "cell_type": "code",
   "execution_count": 2,
   "metadata": {},
   "outputs": [
    {
     "name": "stdout",
     "output_type": "stream",
     "text": [
      "Python\n"
     ]
    }
   ],
   "source": [
    "student_info = {\n",
    "    'zainab': { 'age' : [24, {'major': 'Python'} ] },\n",
    "    'aqib': { 'age' : 22, 'major': 'Mathematics' }\n",
    "}\n",
    "print(student_info['zainab']['age'][1]['major'])"
   ]
  },
  {
   "cell_type": "code",
   "execution_count": 3,
   "metadata": {},
   "outputs": [
    {
     "name": "stdout",
     "output_type": "stream",
     "text": [
      "[0, [4, 5]]\n"
     ]
    }
   ],
   "source": [
    "def func(my_list):\n",
    "    my_list.append([4, 5])\n",
    "my_list = [1, 2, 3]\n",
    "my_list = [0]\n",
    "func(my_list)\n",
    "print(my_list)"
   ]
  },
  {
   "cell_type": "code",
   "execution_count": 4,
   "metadata": {},
   "outputs": [
    {
     "name": "stdout",
     "output_type": "stream",
     "text": [
      "None\n"
     ]
    }
   ],
   "source": [
    "def first_character(phrase):\n",
    "    if type(phrase) == str:\n",
    "        character = phrase[0]\n",
    "    else:\n",
    "        print(\"Given phrase is not a string\")\n",
    "get_character = first_character(\"Python is exciting\")\n",
    "print(get_character)"
   ]
  },
  {
   "cell_type": "code",
   "execution_count": 5,
   "metadata": {},
   "outputs": [
    {
     "name": "stdout",
     "output_type": "stream",
     "text": [
      "Hello, CQAI\n"
     ]
    }
   ],
   "source": [
    "class MyClass:\n",
    "    def __init__(self, name):\n",
    "        self.name = name\n",
    "    def greet(self):\n",
    "        return f\"Hello, {self.name}\"\n",
    "obj = MyClass(\"CQAI\")\n",
    "print(obj.greet( ) )"
   ]
  },
  {
   "cell_type": "markdown",
   "metadata": {},
   "source": [
    "Write a function list_to_dict that:\n",
    "- Takes a list of strings.\n",
    "- Returns a dictionary where the keys are the strings and the values are the lengths of those strings."
   ]
  },
  {
   "cell_type": "code",
   "execution_count": 6,
   "metadata": {},
   "outputs": [
    {
     "name": "stdout",
     "output_type": "stream",
     "text": [
      "{'apple': 5, 'banana': 6, 'cherry': 6}\n"
     ]
    }
   ],
   "source": [
    "def list_to_dict(strings):\n",
    "    return {s: len(s) for s in strings}\n",
    "\n",
    "strings = ['apple', 'banana', 'cherry']\n",
    "print(list_to_dict(strings))"
   ]
  },
  {
   "cell_type": "markdown",
   "metadata": {},
   "source": [
    "Given a list of integers, write a function filter_and_square that:\n",
    "- Filters out all odd numbers.\n",
    "- Squares the remaining even numbers.\n",
    "- Returns a nested list where each inner list contains the original number and its square.\n",
    "input_list = [1, 2, 3, 4, 5, 6]\n",
    "output = filter_and_square(input_list)\n",
    "\n",
    "Expected output: [ [2, 4], [4, 16], [6, 36] ]"
   ]
  },
  {
   "cell_type": "code",
   "execution_count": 7,
   "metadata": {},
   "outputs": [
    {
     "name": "stdout",
     "output_type": "stream",
     "text": [
      "[[2, 4], [4, 16], [6, 36]]\n"
     ]
    }
   ],
   "source": [
    "def filter_and_square(numbers):\n",
    "    return [[n, n**2] for n in numbers if n % 2 == 0]\n",
    "\n",
    "input_list = [1, 2, 3, 4, 5, 6]\n",
    "print(filter_and_square(input_list))"
   ]
  },
  {
   "cell_type": "markdown",
   "metadata": {},
   "source": [
    "Write a function update_inventory(inventory, updates) that takes two arguments:\n",
    "- inventory: A dictionary where keys are product names (strings) and values are current stock quantities (integers).\n",
    "- updates: A list of tuples where the first element is a product name (string) and the second element is an integer representing the stock change (positive for adding, negative for removing).\n",
    "\n",
    "Here is some sample data and illustration of what the updates should look like:\n",
    "\n",
    "Data:\n",
    "- Initial inventory: {\"Apples\": 10, \"Bananas\": 5, \"Oranges\": 3}\n",
    "- Updates: [(\"Apples\", 2), (\"Bananas\", -1), (\"Grapes\", 4)] (Add 2 apples, remove 1 banana, add 4 grapes)\n",
    "\n",
    "- Return: The updated inventory dictionary reflecting the stock changes."
   ]
  },
  {
   "cell_type": "code",
   "execution_count": 8,
   "metadata": {},
   "outputs": [
    {
     "name": "stdout",
     "output_type": "stream",
     "text": [
      "{'Apples': 12, 'Bananas': 4, 'Oranges': 3, 'Grapes': 4}\n"
     ]
    }
   ],
   "source": [
    "def update_inventory(inventory, updates):\n",
    "    for product, change in updates:\n",
    "        inventory[product] = inventory.get(product, 0) + change\n",
    "    return inventory\n",
    "\n",
    "initial_inventory = {\"Apples\": 10, \"Bananas\": 5, \"Oranges\": 3}\n",
    "updates = [(\"Apples\", 2), (\"Bananas\", -1), (\"Grapes\", 4)]\n",
    "print(update_inventory(initial_inventory, updates))"
   ]
  },
  {
   "cell_type": "markdown",
   "metadata": {},
   "source": [
    "You're working for a restaurant and need to analyze their menu prices. You have a list of menu items stored as dictionaries with keys \"name\" (string) and \"price\" (float).\n",
    "\n",
    "\n",
    "Write a function calculate_average_price(menu) that takes the list of menu items as input and returns the average price of all items on the menu (rounded to two decimal places).\n",
    "Write another function find_cheapest_item(menu) that takes the menu list as input and returns the dictionary representing the menu item with the lowest price."
   ]
  },
  {
   "cell_type": "code",
   "execution_count": 9,
   "metadata": {},
   "outputs": [
    {
     "name": "stdout",
     "output_type": "stream",
     "text": [
      "Avg price:  15.31\n",
      "Cheapest item:  {'name': 'Salad', 'price': 8.5}\n"
     ]
    }
   ],
   "source": [
    "menu_items = [\n",
    "    { \"name\" : \"Pizza\", \"price\" : 12.99},\n",
    "    { \"name\" : \"Salad\", \"price\" : 8.50},\n",
    "    { \"name\" : \"Steak\", \"price\" : 25.00},\n",
    "    { \"name\" : \"Pasta\", \"price\" : 14.75},\n",
    "]\n",
    "\n",
    "def calculate_average_price(menu):\n",
    "    total_price = sum(item[\"price\"] for item in menu)\n",
    "    return round(total_price / len(menu), 2)\n",
    "\n",
    "def find_cheapest_item(menu):\n",
    "    return min(menu, key=lambda item: item[\"price\"])\n",
    "\n",
    "print(\"Avg price: \",calculate_average_price(menu_items))\n",
    "print(\"Cheapest item: \",find_cheapest_item(menu_items))"
   ]
  },
  {
   "cell_type": "markdown",
   "metadata": {},
   "source": [
    "Write the code to create a Pandas dataframe from the following dictionary:\n",
    "\n",
    "data = {'col_1': [3, 2, 1, 0], 'col_2': ['a', 'b', 'c', 'd']}\n",
    "\n",
    "And print the dataframe. Make sure you include all the required imports.\n",
    "\n",
    "\n",
    "Now, add a new column called col_3 to this DataFrame where the values are [100, 200, 300, 400]. Print the updated DataFrame.\n",
    "\n",
    "\n",
    "Filter the DataFrame to include only rows where col_1 is greater than 20. Print the filtered dataframe"
   ]
  },
  {
   "cell_type": "code",
   "execution_count": 10,
   "metadata": {},
   "outputs": [
    {
     "name": "stdout",
     "output_type": "stream",
     "text": [
      "Original DataFrame:\n",
      "   col_1 col_2\n",
      "0      3     a\n",
      "1      2     b\n",
      "2      1     c\n",
      "3      0     d\n",
      "\n",
      "Updated DataFrame:\n",
      "   col_1 col_2  col_3\n",
      "0      3     a    100\n",
      "1      2     b    200\n",
      "2      1     c    300\n",
      "3      0     d    400\n"
     ]
    }
   ],
   "source": [
    "import pandas as pd\n",
    "\n",
    "data = {'col_1': [3, 2, 1, 0], 'col_2': ['a', 'b', 'c', 'd']}\n",
    "\n",
    "print(\"Original DataFrame:\")\n",
    "df = pd.DataFrame(data)\n",
    "print(df)\n",
    "\n",
    "df['col_3'] = [100, 200, 300, 400]\n",
    "print(\"\\nUpdated DataFrame:\")\n",
    "print(df)"
   ]
  },
  {
   "cell_type": "markdown",
   "metadata": {},
   "source": [
    "What will be the output of the following NumPy code?"
   ]
  },
  {
   "cell_type": "code",
   "execution_count": 11,
   "metadata": {},
   "outputs": [
    {
     "name": "stdout",
     "output_type": "stream",
     "text": [
      "[[ 1  4  9 16]\n",
      " [ 5 12 21 32]]\n"
     ]
    }
   ],
   "source": [
    "import numpy as np\n",
    "a = np.array([1, 2, 3, 4])\n",
    "b = np.array([[1, 2, 3, 4], [5, 6, 7, 8]])\n",
    "c = b * a\n",
    "print(c)"
   ]
  },
  {
   "cell_type": "code",
   "execution_count": 2,
   "metadata": {},
   "outputs": [
    {
     "name": "stdout",
     "output_type": "stream",
     "text": [
      "{'a': 1, 'b': 2, 'c': 3, 'd': 3}\n"
     ]
    }
   ],
   "source": [
    "dict = { \"a\":1, \"b\":2, \"c\":3 }\n",
    "dict.update({\"d\":3})\n",
    "print(dict)"
   ]
  }
 ],
 "metadata": {
  "kernelspec": {
   "display_name": "base",
   "language": "python",
   "name": "python3"
  },
  "language_info": {
   "codemirror_mode": {
    "name": "ipython",
    "version": 3
   },
   "file_extension": ".py",
   "mimetype": "text/x-python",
   "name": "python",
   "nbconvert_exporter": "python",
   "pygments_lexer": "ipython3",
   "version": "3.12.8"
  }
 },
 "nbformat": 4,
 "nbformat_minor": 2
}
