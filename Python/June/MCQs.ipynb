{
 "cells": [
  {
   "cell_type": "code",
   "execution_count": 3,
   "metadata": {},
   "outputs": [
    {
     "name": "stdout",
     "output_type": "stream",
     "text": [
      "50\n"
     ]
    }
   ],
   "source": [
    "\"\"\" \n",
    "Date : 2024-06-26\n",
    "July 2022, Model Paper - I\n",
    "\"\"\"\n",
    "\n",
    "x = 50\n",
    "def func(x):\n",
    "    x = 2\n",
    "func(x)\n",
    "print(x)"
   ]
  },
  {
   "cell_type": "code",
   "execution_count": 4,
   "metadata": {},
   "outputs": [
    {
     "name": "stdout",
     "output_type": "stream",
     "text": [
      "456   \n",
      "000456\n",
      "456.000000\n"
     ]
    }
   ],
   "source": [
    "\"\"\" \n",
    "Date : 2024-06-27\n",
    "July 2022, Model Paper - II\n",
    "\"\"\"\n",
    "\n",
    "x = 456\n",
    "print(\"%-06d\"%x)\n",
    "print(\"%06d\"%x)\n",
    "print(\"%f\"%x)"
   ]
  },
  {
   "cell_type": "code",
   "execution_count": 5,
   "metadata": {},
   "outputs": [
    {
     "name": "stdout",
     "output_type": "stream",
     "text": [
      "45.40\n"
     ]
    }
   ],
   "source": [
    "x = 45.395939\n",
    "print(\"%1.2f\"%x)"
   ]
  },
  {
   "cell_type": "code",
   "execution_count": 6,
   "metadata": {},
   "outputs": [
    {
     "name": "stdout",
     "output_type": "stream",
     "text": [
      "(2.23606797749979+2j)\n",
      "<class 'complex'>\n"
     ]
    }
   ],
   "source": [
    "# Complex no.\n",
    "i = 5**(1/2)\n",
    "a = i + 2j\n",
    "print(a)\n",
    "print(type(a))"
   ]
  },
  {
   "cell_type": "code",
   "execution_count": 7,
   "metadata": {},
   "outputs": [
    {
     "name": "stdout",
     "output_type": "stream",
     "text": [
      "False\n",
      "3 2\n",
      "4370896736\n",
      "4370896704\n"
     ]
    },
    {
     "data": {
      "text/plain": [
       "False"
      ]
     },
     "execution_count": 7,
     "metadata": {},
     "output_type": "execute_result"
    }
   ],
   "source": [
    "x= 3\n",
    "y= 2\n",
    "#x=y\n",
    "h = bool(x is y)\n",
    "print(h)\n",
    "print(x,y)\n",
    "print(id(x))\n",
    "print(id(y))\n",
    "\n",
    "id(x) == id(y)"
   ]
  },
  {
   "cell_type": "code",
   "execution_count": 8,
   "metadata": {},
   "outputs": [
    {
     "ename": "NameError",
     "evalue": "name 'o' is not defined",
     "output_type": "error",
     "traceback": [
      "\u001b[0;31m---------------------------------------------------------------------------\u001b[0m",
      "\u001b[0;31mNameError\u001b[0m                                 Traceback (most recent call last)",
      "Cell \u001b[0;32mIn[8], line 2\u001b[0m\n\u001b[1;32m      1\u001b[0m l \u001b[38;5;241m=\u001b[39m \u001b[38;5;28mlist\u001b[39m(\u001b[38;5;124m'\u001b[39m\u001b[38;5;124mHello\u001b[39m\u001b[38;5;124m'\u001b[39m)\n\u001b[0;32m----> 2\u001b[0m \u001b[38;5;28mprint\u001b[39m(\u001b[38;5;124mf\u001b[39m\u001b[38;5;124m'\u001b[39m\u001b[38;5;124mfirst=\u001b[39m\u001b[38;5;132;01m{\u001b[39;00m\u001b[43mo\u001b[49m[\u001b[38;5;241m0\u001b[39m]\u001b[38;5;132;01m}\u001b[39;00m\u001b[38;5;124m,third=\u001b[39m\u001b[38;5;132;01m{\u001b[39;00mo[\u001b[38;5;241m2\u001b[39m]\u001b[38;5;132;01m}\u001b[39;00m\u001b[38;5;124m'\u001b[39m\u001b[38;5;241m.\u001b[39mformat(l))\n",
      "\u001b[0;31mNameError\u001b[0m: name 'o' is not defined"
     ]
    }
   ],
   "source": [
    "l = list('Hello')\n",
    "print(f'first={o[0]},third={o[2]}'.format(l))"
   ]
  },
  {
   "cell_type": "code",
   "execution_count": 58,
   "metadata": {},
   "outputs": [
    {
     "name": "stdout",
     "output_type": "stream",
     "text": [
      "This is ACT and it is an \n"
     ]
    }
   ],
   "source": [
    "print(\"This is {} and it is an \".format(\"ACT\", \"10s\"))"
   ]
  },
  {
   "cell_type": "code",
   "execution_count": null,
   "metadata": {},
   "outputs": [
    {
     "name": "stdout",
     "output_type": "stream",
     "text": [
      "9\n"
     ]
    }
   ],
   "source": [
    "i = 5\n",
    "j = 4\n",
    "print(i.__add__(j))"
   ]
  },
  {
   "cell_type": "code",
   "execution_count": 13,
   "metadata": {},
   "outputs": [
    {
     "name": "stdout",
     "output_type": "stream",
     "text": [
      "(2+3j)\n",
      "dict_keys([1, 2, 3])\n",
      "dict_values(['A', 'B', 'C'])\n"
     ]
    }
   ],
   "source": [
    "a = {1:'A',2:'B',3:'C'}\n",
    "print(a.get(5,2+3j))\n",
    "print(a.keys())\n",
    "print(a.values())"
   ]
  },
  {
   "cell_type": "code",
   "execution_count": 34,
   "metadata": {},
   "outputs": [
    {
     "name": "stdout",
     "output_type": "stream",
     "text": [
      "frozenset({2, 3, 4, 5})\n",
      "{1}\n"
     ]
    }
   ],
   "source": [
    "a = {1,2,3}\n",
    "b = frozenset([2,3,4,5])\n",
    "print(b)\n",
    "print(a-b)"
   ]
  },
  {
   "cell_type": "code",
   "execution_count": 17,
   "metadata": {},
   "outputs": [
    {
     "name": "stdout",
     "output_type": "stream",
     "text": [
      "33\n"
     ]
    }
   ],
   "source": [
    "print(0xA + 0xB + 0xC)"
   ]
  },
  {
   "cell_type": "code",
   "execution_count": 29,
   "metadata": {},
   "outputs": [
    {
     "name": "stdout",
     "output_type": "stream",
     "text": [
      "Welcome   # 111#924.66\n"
     ]
    }
   ],
   "source": [
    "print(format(\"Welcome\", \"10s\"),end='#')\n",
    "print(format(111, \"4d\"),end='#')\n",
    "print(format(924.656, \"3.2f\"))"
   ]
  },
  {
   "cell_type": "code",
   "execution_count": 65,
   "metadata": {},
   "outputs": [
    {
     "name": "stdout",
     "output_type": "stream",
     "text": [
      "74\n",
      "0.032585065282054626\n",
      "74\n",
      "0.032585065282054626\n"
     ]
    }
   ],
   "source": [
    "import random\n",
    "\n",
    "# Initialize the random number generator with a specific seed\n",
    "random.seed(10)\n",
    "\n",
    "# Generate some random numbers\n",
    "print(random.randint(1, 100))\n",
    "print(random.random())\n",
    "\n",
    "# Re-seed the generator\n",
    "random.seed(10)\n",
    "\n",
    "# Generate the same random numbers as before\n",
    "print(random.randint(1, 100))\n",
    "print(random.random())"
   ]
  },
  {
   "cell_type": "code",
   "execution_count": 72,
   "metadata": {},
   "outputs": [
    {
     "name": "stdout",
     "output_type": "stream",
     "text": [
      "0\n",
      "0\n"
     ]
    }
   ],
   "source": [
    "\"\"\" \n",
    "Date : 2024-06-28\n",
    "July 2022, Model Paper - I\n",
    "\"\"\"\n",
    "x,y,z = 2, 2, 2\n",
    "print((x**y)%z)\n",
    "print(pow(x,y,z))"
   ]
  },
  {
   "cell_type": "code",
   "execution_count": 73,
   "metadata": {},
   "outputs": [
    {
     "ename": "SyntaxError",
     "evalue": "name 'x' is parameter and global (3548852276.py, line 2)",
     "output_type": "error",
     "traceback": [
      "\u001b[0;36m  Cell \u001b[0;32mIn[73], line 2\u001b[0;36m\u001b[0m\n\u001b[0;31m    global x\u001b[0m\n\u001b[0m    ^\u001b[0m\n\u001b[0;31mSyntaxError\u001b[0m\u001b[0;31m:\u001b[0m name 'x' is parameter and global\n"
     ]
    }
   ],
   "source": [
    "def f1(x):\n",
    "    global x\n",
    "    x+=1\n",
    "    print(x)\n",
    "f1(5)\n",
    "print(\"hello\")"
   ]
  },
  {
   "cell_type": "code",
   "execution_count": 75,
   "metadata": {},
   "outputs": [
    {
     "name": "stdout",
     "output_type": "stream",
     "text": [
      "[3, 4, 2]\n"
     ]
    }
   ],
   "source": [
    "def f1(a,b=[]):\n",
    "    b.append(a)\n",
    "    return b\n",
    "\n",
    "print(f1(2,[3,4]))"
   ]
  },
  {
   "cell_type": "code",
   "execution_count": 25,
   "metadata": {},
   "outputs": [
    {
     "name": "stdout",
     "output_type": "stream",
     "text": [
      "<class 'dict'>\n",
      "{'__name__': '__main__', '__doc__': 'Automatically created module for IPython interactive environment', '__package__': None, '__loader__': None, '__spec__': None, '__builtin__': <module 'builtins' (built-in)>, '__builtins__': <module 'builtins' (built-in)>, '_ih': ['', '# Getcwd()\\n\\nimport os\\nprint(os.getcwd())', \"print('abbzxyzxzxzbb'.count('abb',10,1))\", \"print('abbzxyzxzxzbb'.count('abb',-10,1))\", \"print('abbzxyzxzxzbb'.count('abb',-10,1))\", \"print('abbzxyzxzxzbb'.count('abb',-10,-1))\", \"print('abbzxyzxzxzbb'.count('abb',-10,-1))\", \"print('abbzxyzxzxzbb'.count('abb',-10,-1))\", \"print('abbzxyzxzxzbb'.count('abb',-10,-1))\", 'import pandas as pd\\n\\n# dropna \\ndata = pd.Series([1, None, 3, None, 5])\\nprint(data.dropna())', \"import pandas as pd\\n\\n# dropna \\ndata = pd.DataFrame({'A':[1,2,3,4,5],'B':[1,2,3,4,5],'C':[1,2,3,4,5]})\\nprint(data.dropna())\", \"import pandas as pd\\n\\n# dropna \\ndata = pd.DataFrame({'A':[1,'A',3,4,5],'B':[1,2,3,4,5],'C':[1,2,3,4,5]})\\nprint(data.dropna())\", \"import pandas as pd\\n\\n# dropna \\ndata = pd.DataFrame({'A':[1,'A',3,4,5],'B':[1,2,3,4,5],'C':[1,2,3,4,5]})\\nprint(data.dropna())\", \"import pandas as pd\\n\\n# dropna \\ndata = pd.DataFrame({'A':[1,'Ab',3,4,5],'B':[1,2,3,4,5],'C':[1,2,3,4,5]})\\nprint(data.dropna())\", \"import pandas as pd\\n\\n# dropna \\ndata = pd.DataFrame({'A':[1,'Abjhadsksbd',3,4,5],'B':[1,2,3,4,5],'C':[1,2,3,4,5]})\\nprint(data.dropna())\", \"import pandas as pd\\n\\n# dropna \\ndata = pd.DataFrame({'A':[1,0xA,3,4,5],'B':[1,2,3,4,5],'C':[1,2,3,4,5]})\\nprint(data.dropna())\", \"import pandas as pd\\n\\n# dropna \\ndata = pd.DataFrame({'A':[1,0xA,3,4,5],'B':[1,2,3,4,5],'C':[1,2,3,4,5]})\\nprint(data)\", \"import pandas as pd\\n\\n# dropna \\ndata = pd.DataFrame({'A':[1,0xA,3,4,5],'B':[1,2,3,4,5],'C':[1,2,3,4,5]})\\nprint(data)\", \"import pandas as pd\\n\\n# dropna \\ndata = pd.DataFrame({'A':[1,0xA,3,4,5],'B':[1,2,3,4,5],'C':[1,2,3,4,5]})\\nprint(data)\", 'print(type(int))', 'print(type(type(int)))', 'print(type(type(int)))', 'print(type(type(int)))', 'print(\"Hello       {0!r} and {0!s}\".format(\\'ACT\\',\\'bin\\'))', 'a = globals()\\nb = locals()\\nprint(a)\\nprint(type(b))', 'a = globals()\\nb = locals()\\nprint(type(a))\\nprint(b)'], '_oh': {}, '_dh': [PosixPath('/Users/kshitijhalder/Desktop/ACT/Python/June')], 'In': ['', '# Getcwd()\\n\\nimport os\\nprint(os.getcwd())', \"print('abbzxyzxzxzbb'.count('abb',10,1))\", \"print('abbzxyzxzxzbb'.count('abb',-10,1))\", \"print('abbzxyzxzxzbb'.count('abb',-10,1))\", \"print('abbzxyzxzxzbb'.count('abb',-10,-1))\", \"print('abbzxyzxzxzbb'.count('abb',-10,-1))\", \"print('abbzxyzxzxzbb'.count('abb',-10,-1))\", \"print('abbzxyzxzxzbb'.count('abb',-10,-1))\", 'import pandas as pd\\n\\n# dropna \\ndata = pd.Series([1, None, 3, None, 5])\\nprint(data.dropna())', \"import pandas as pd\\n\\n# dropna \\ndata = pd.DataFrame({'A':[1,2,3,4,5],'B':[1,2,3,4,5],'C':[1,2,3,4,5]})\\nprint(data.dropna())\", \"import pandas as pd\\n\\n# dropna \\ndata = pd.DataFrame({'A':[1,'A',3,4,5],'B':[1,2,3,4,5],'C':[1,2,3,4,5]})\\nprint(data.dropna())\", \"import pandas as pd\\n\\n# dropna \\ndata = pd.DataFrame({'A':[1,'A',3,4,5],'B':[1,2,3,4,5],'C':[1,2,3,4,5]})\\nprint(data.dropna())\", \"import pandas as pd\\n\\n# dropna \\ndata = pd.DataFrame({'A':[1,'Ab',3,4,5],'B':[1,2,3,4,5],'C':[1,2,3,4,5]})\\nprint(data.dropna())\", \"import pandas as pd\\n\\n# dropna \\ndata = pd.DataFrame({'A':[1,'Abjhadsksbd',3,4,5],'B':[1,2,3,4,5],'C':[1,2,3,4,5]})\\nprint(data.dropna())\", \"import pandas as pd\\n\\n# dropna \\ndata = pd.DataFrame({'A':[1,0xA,3,4,5],'B':[1,2,3,4,5],'C':[1,2,3,4,5]})\\nprint(data.dropna())\", \"import pandas as pd\\n\\n# dropna \\ndata = pd.DataFrame({'A':[1,0xA,3,4,5],'B':[1,2,3,4,5],'C':[1,2,3,4,5]})\\nprint(data)\", \"import pandas as pd\\n\\n# dropna \\ndata = pd.DataFrame({'A':[1,0xA,3,4,5],'B':[1,2,3,4,5],'C':[1,2,3,4,5]})\\nprint(data)\", \"import pandas as pd\\n\\n# dropna \\ndata = pd.DataFrame({'A':[1,0xA,3,4,5],'B':[1,2,3,4,5],'C':[1,2,3,4,5]})\\nprint(data)\", 'print(type(int))', 'print(type(type(int)))', 'print(type(type(int)))', 'print(type(type(int)))', 'print(\"Hello       {0!r} and {0!s}\".format(\\'ACT\\',\\'bin\\'))', 'a = globals()\\nb = locals()\\nprint(a)\\nprint(type(b))', 'a = globals()\\nb = locals()\\nprint(type(a))\\nprint(b)'], 'Out': {}, 'get_ipython': <bound method InteractiveShell.get_ipython of <ipykernel.zmqshell.ZMQInteractiveShell object at 0x104522720>>, 'exit': <IPython.core.autocall.ZMQExitAutocall object at 0x1043f6510>, 'quit': <IPython.core.autocall.ZMQExitAutocall object at 0x1043f6510>, 'open': <function open at 0x102fbfce0>, '_': '', '__': '', '___': '', '__vsc_ipynb_file__': '/Users/kshitijhalder/Desktop/ACT/Python/June/MCQs.ipynb', '_i': 'a = globals()\\nb = locals()\\nprint(a)\\nprint(type(b))', '_ii': 'print(\"Hello       {0!r} and {0!s}\".format(\\'ACT\\',\\'bin\\'))', '_iii': 'print(type(type(int)))', '_i1': '# Getcwd()\\n\\nimport os\\nprint(os.getcwd())', 'os': <module 'os' (frozen)>, '_i2': \"print('abbzxyzxzxzbb'.count('abb',10,1))\", '_i3': \"print('abbzxyzxzxzbb'.count('abb',-10,1))\", '_i4': \"print('abbzxyzxzxzbb'.count('abb',-10,1))\", '_i5': \"print('abbzxyzxzxzbb'.count('abb',-10,-1))\", '_i6': \"print('abbzxyzxzxzbb'.count('abb',-10,-1))\", '_i7': \"print('abbzxyzxzxzbb'.count('abb',-10,-1))\", '_i8': \"print('abbzxyzxzxzbb'.count('abb',-10,-1))\", '_i9': 'import pandas as pd\\n\\n# dropna \\ndata = pd.Series([1, None, 3, None, 5])\\nprint(data.dropna())', 'pd': <module 'pandas' from '/opt/miniconda3/lib/python3.12/site-packages/pandas/__init__.py'>, 'data':     A  B  C\n",
      "0   1  1  1\n",
      "1  10  2  2\n",
      "2   3  3  3\n",
      "3   4  4  4\n",
      "4   5  5  5, '_i10': \"import pandas as pd\\n\\n# dropna \\ndata = pd.DataFrame({'A':[1,2,3,4,5],'B':[1,2,3,4,5],'C':[1,2,3,4,5]})\\nprint(data.dropna())\", '_i11': \"import pandas as pd\\n\\n# dropna \\ndata = pd.DataFrame({'A':[1,'A',3,4,5],'B':[1,2,3,4,5],'C':[1,2,3,4,5]})\\nprint(data.dropna())\", '_i12': \"import pandas as pd\\n\\n# dropna \\ndata = pd.DataFrame({'A':[1,'A',3,4,5],'B':[1,2,3,4,5],'C':[1,2,3,4,5]})\\nprint(data.dropna())\", '_i13': \"import pandas as pd\\n\\n# dropna \\ndata = pd.DataFrame({'A':[1,'Ab',3,4,5],'B':[1,2,3,4,5],'C':[1,2,3,4,5]})\\nprint(data.dropna())\", '_i14': \"import pandas as pd\\n\\n# dropna \\ndata = pd.DataFrame({'A':[1,'Abjhadsksbd',3,4,5],'B':[1,2,3,4,5],'C':[1,2,3,4,5]})\\nprint(data.dropna())\", '_i15': \"import pandas as pd\\n\\n# dropna \\ndata = pd.DataFrame({'A':[1,0xA,3,4,5],'B':[1,2,3,4,5],'C':[1,2,3,4,5]})\\nprint(data.dropna())\", '_i16': \"import pandas as pd\\n\\n# dropna \\ndata = pd.DataFrame({'A':[1,0xA,3,4,5],'B':[1,2,3,4,5],'C':[1,2,3,4,5]})\\nprint(data)\", '_i17': \"import pandas as pd\\n\\n# dropna \\ndata = pd.DataFrame({'A':[1,0xA,3,4,5],'B':[1,2,3,4,5],'C':[1,2,3,4,5]})\\nprint(data)\", '_i18': \"import pandas as pd\\n\\n# dropna \\ndata = pd.DataFrame({'A':[1,0xA,3,4,5],'B':[1,2,3,4,5],'C':[1,2,3,4,5]})\\nprint(data)\", '_i19': 'print(type(int))', '_i20': 'print(type(type(int)))', '_i21': 'print(type(type(int)))', '_i22': 'print(type(type(int)))', '_i23': 'print(\"Hello       {0!r} and {0!s}\".format(\\'ACT\\',\\'bin\\'))', '_i24': 'a = globals()\\nb = locals()\\nprint(a)\\nprint(type(b))', 'a': {...}, 'b': {...}, '_i25': 'a = globals()\\nb = locals()\\nprint(type(a))\\nprint(b)'}\n"
     ]
    }
   ],
   "source": [
    "a = globals()\n",
    "b = locals()\n",
    "print(type(a))\n",
    "print(type(b))"
   ]
  },
  {
   "cell_type": "code",
   "execution_count": 1,
   "metadata": {},
   "outputs": [
    {
     "name": "stdout",
     "output_type": "stream",
     "text": [
      "An error occurred\n"
     ]
    }
   ],
   "source": [
    "\"\"\" \n",
    "Date : 2024-06-29\n",
    "July 2022, Model Paper - II\n",
    "\"\"\"\n",
    "\n",
    "# Raise keyword\n",
    "try:\n",
    "    raise Exception(\"An error occurred\")\n",
    "except Exception as e:\n",
    "    print(e)\n",
    "\n",
    "# Raise keyword\n",
    "try:\n",
    "    raise Exception(\"An error occurred\")\n",
    "except Exception as e:\n",
    "    print(e)\n",
    "else:\n",
    "    print(\"No error\")\n",
    "finally:\n",
    "    print(\"This is always executed\")\n",
    "    "
   ]
  },
  {
   "cell_type": "code",
   "execution_count": 30,
   "metadata": {},
   "outputs": [
    {
     "name": "stdout",
     "output_type": "stream",
     "text": [
      "/Users/kshitijhalder/Desktop/ACT/Python/June\n",
      "['PySide6.pyc', 'PySide6.py', 'Toggle.py', 'ACT.txt', 'modules_used.txt', 'SciPy.ipynb', '4&5 Star.ipynb', 'Stonks.ipynb', '.DS_Store', 'large_data.csv', 'qrcode.png', 'ReadFileHW.ipynb', 'CQAI_Test.ipynb', 'Kshitij.png', 'rf_model.sav', 'AppleStocks.xlsx', 'weatherAUS.csv', 'RainPrediction.ipynb', 'kshitij_qr_code.png', 'Toggle.ipynb', 'install.sh', 'MCQs.ipynb', 'COVID-19.ipynb', 'dt_model.sav', 'COVID-19.py', 'Het.png', 'het_qr_code.png', 'knn_model.sav', 'google.png', 'Acc_Creation.py']\n",
      "False\n",
      "True\n",
      "False\n",
      "os.stat_result(st_mode=16877, st_ino=23829, st_dev=16777232, st_nlink=5, st_uid=0, st_gid=80, st_size=160, st_atime=1716305678, st_mtime=1716305646, st_ctime=1716305646)\n",
      "160\n",
      "4&5 Star.ipynb\n",
      "ACT.txt\n",
      "Acc_Creation.py\n",
      "AppleStocks.xlsx\n",
      "COVID-19.ipynb\n",
      "COVID-19.py\n",
      "CQAI_Test.ipynb\n",
      "Het.png\n",
      "Kshitij.png\n",
      "MCQs.ipynb\n",
      "PySide6.py\n",
      "PySide6.pyc\n",
      "RainPrediction.ipynb\n",
      "ReadFileHW.ipynb\n",
      "SciPy.ipynb\n",
      "Stonks.ipynb\n",
      "Toggle.ipynb\n",
      "Toggle.py\n",
      "dt_model.sav\n",
      "google.png\n",
      "het_qr_code.png\n",
      "install.sh\n",
      "knn_model.sav\n",
      "kshitij_qr_code.png\n",
      "large_data.csv\n",
      "modules_used.txt\n",
      "qrcode.png\n",
      "rf_model.sav\n",
      "weatherAUS.csv\n",
      "0\n",
      "[]\n"
     ]
    }
   ],
   "source": [
    "# Getcwd() = get current working directory\n",
    "\n",
    "import os\n",
    "print(os.getcwd())  \n",
    "# Listdir() = list all the files and directories in the specified directory\n",
    "print(os.listdir())\n",
    "# exists() = check if a file exists\n",
    "print(os.path.exists(\"C:/Users/\"))\n",
    "# isdir() = check if a path is a directory\n",
    "print(os.path.isdir(\"/Users/\"))\n",
    "# isfile() = check if a path is a file\n",
    "print(os.path.isfile(\"C:/Users/\"))\n",
    "# stat() = get the status of a file\n",
    "print(os.stat(\"/Users/\"))\n",
    "# getsize() = get the size of a file\n",
    "print(os.path.getsize(\"/Users/\"))\n",
    "# mkdir() = create a directory\n",
    "#print(os.mkdir(\"/Users/kshitijhalder/Desktop/ACT/Python/June1\"))\n",
    "print(os.system(\"ls\"))\n",
    "print(os.listdir(\"/Users/kshitijhalder/Desktop/ACT/Python/June1\"))\n"
   ]
  },
  {
   "cell_type": "code",
   "execution_count": 8,
   "metadata": {},
   "outputs": [
    {
     "name": "stdout",
     "output_type": "stream",
     "text": [
      "0\n"
     ]
    }
   ],
   "source": [
    "print('abbzxyzxzxzbb'.count('abb',-10,-1))"
   ]
  },
  {
   "cell_type": "code",
   "execution_count": 69,
   "metadata": {},
   "outputs": [
    {
     "name": "stdout",
     "output_type": "stream",
     "text": [
      "     A  B  C\n",
      "0  1.0  1  1\n",
      "2  3.0  3  3\n",
      "3  4.0  4  4\n",
      "4  5.0  5  5\n"
     ]
    }
   ],
   "source": [
    "import pandas as pd\n",
    "import numpy as np\n",
    "\n",
    "# dropna = Drop not a number\n",
    "data = pd.DataFrame({'A':[1,np.nan,3,4,5],'B':[1,2,3,4,5],'C':[1,2,3,4,5]})\n",
    "print(data.dropna())"
   ]
  },
  {
   "cell_type": "code",
   "execution_count": 22,
   "metadata": {},
   "outputs": [
    {
     "name": "stdout",
     "output_type": "stream",
     "text": [
      "<class 'type'>\n"
     ]
    }
   ],
   "source": [
    "print(type(type(int)))"
   ]
  },
  {
   "cell_type": "code",
   "execution_count": 52,
   "metadata": {},
   "outputs": [
    {
     "name": "stdout",
     "output_type": "stream",
     "text": [
      "'ACT', 1\n",
      "[\"'ACT'\", ' 1']\n"
     ]
    }
   ],
   "source": [
    "a =\"{0!r}, {1!s}\".format('ACT',1)\n",
    "print(a)\n",
    "b = a.split(',')\n",
    "print(b)"
   ]
  },
  {
   "cell_type": "code",
   "execution_count": 53,
   "metadata": {},
   "outputs": [
    {
     "ename": "SyntaxError",
     "evalue": "Missing parentheses in call to 'print'. Did you mean print(...)? (327493513.py, line 3)",
     "output_type": "error",
     "traceback": [
      "\u001b[0;36m  Cell \u001b[0;32mIn[53], line 3\u001b[0;36m\u001b[0m\n\u001b[0;31m    print i\u001b[0m\n\u001b[0m    ^\u001b[0m\n\u001b[0;31mSyntaxError\u001b[0m\u001b[0;31m:\u001b[0m Missing parentheses in call to 'print'. Did you mean print(...)?\n"
     ]
    }
   ],
   "source": [
    "i = 0\n",
    "while i < 3:\n",
    "    print i\n",
    "    i ++\n",
    "print i+1"
   ]
  },
  {
   "cell_type": "code",
   "execution_count": 1,
   "metadata": {},
   "outputs": [],
   "source": [
    "x = 'Nigga'\n",
    "\n",
    "assert x.isalpha()\n"
   ]
  },
  {
   "cell_type": "code",
   "execution_count": 4,
   "metadata": {},
   "outputs": [
    {
     "data": {
      "text/plain": [
       "<function datetime.now(tz=None)>"
      ]
     },
     "execution_count": 4,
     "metadata": {},
     "output_type": "execute_result"
    }
   ],
   "source": [
    "import datetime \n",
    "datetime.datetime.now"
   ]
  },
  {
   "cell_type": "code",
   "execution_count": 5,
   "metadata": {},
   "outputs": [
    {
     "name": "stdout",
     "output_type": "stream",
     "text": [
      "[0, 1, 4, 9, 16]\n"
     ]
    }
   ],
   "source": [
    "s = [x**2 for x in range(5)]\n",
    "print(s)"
   ]
  },
  {
   "cell_type": "code",
   "execution_count": 6,
   "metadata": {},
   "outputs": [
    {
     "name": "stdout",
     "output_type": "stream",
     "text": [
      "13\n"
     ]
    }
   ],
   "source": [
    "s = \"Where is the cat?\" \n",
    "result = s.find(\"cat\") \n",
    "print(result)"
   ]
  },
  {
   "cell_type": "code",
   "execution_count": 7,
   "metadata": {},
   "outputs": [
    {
     "name": "stdout",
     "output_type": "stream",
     "text": [
      "Python is fun\n"
     ]
    }
   ],
   "source": [
    "words = [\"Python\", \"is\", \"fun\"] \n",
    "result = \" \".join(words) \n",
    "print(result)"
   ]
  },
  {
   "cell_type": "code",
   "execution_count": 8,
   "metadata": {},
   "outputs": [
    {
     "name": "stdout",
     "output_type": "stream",
     "text": [
      "15\n"
     ]
    }
   ],
   "source": [
    "x = 5\n",
    "y = 10 \n",
    "result = eval('x + y') \n",
    "print(result)"
   ]
  },
  {
   "cell_type": "code",
   "execution_count": 9,
   "metadata": {},
   "outputs": [
    {
     "name": "stdout",
     "output_type": "stream",
     "text": [
      "float64\n"
     ]
    }
   ],
   "source": [
    "import numpy as np \n",
    "arr = np.arange(5, dtype=float) \n",
    "print(arr.dtype)"
   ]
  },
  {
   "cell_type": "code",
   "execution_count": 10,
   "metadata": {},
   "outputs": [
    {
     "name": "stdout",
     "output_type": "stream",
     "text": [
      "6\n"
     ]
    }
   ],
   "source": [
    "a = 1 \n",
    "b = 2 \n",
    "c = 3 \n",
    "my_tuple = a, b, c \n",
    "x, y, z = my_tuple \n",
    "print(x + y + z)"
   ]
  },
  {
   "cell_type": "code",
   "execution_count": 11,
   "metadata": {},
   "outputs": [
    {
     "name": "stdout",
     "output_type": "stream",
     "text": [
      "two\n"
     ]
    }
   ],
   "source": [
    "# pop and popitem in dic\n",
    "\n",
    "a = { 1: 'one', 2: 'two', 3: 'three' }\n",
    "b = a.pop(2)\n",
    "print(b)\n",
    "b.popitem()\n",
    "print(b)"
   ]
  },
  {
   "cell_type": "code",
   "execution_count": 12,
   "metadata": {},
   "outputs": [
    {
     "name": "stdout",
     "output_type": "stream",
     "text": [
      "Hello, World!\n",
      "Hello, World!\n",
      "Hello, World!\n"
     ]
    }
   ],
   "source": [
    "count = 0 \n",
    "while count < 3: \n",
    " print(\"Hello, World!\") \n",
    " count += 1"
   ]
  },
  {
   "cell_type": "code",
   "execution_count": 13,
   "metadata": {},
   "outputs": [
    {
     "name": "stdout",
     "output_type": "stream",
     "text": [
      "Hello, World!\n"
     ]
    }
   ],
   "source": [
    "with open(\"example.txt\", \"r\") as file: \n",
    " content = file.read() \n",
    "print(content)"
   ]
  },
  {
   "cell_type": "code",
   "execution_count": 15,
   "metadata": {},
   "outputs": [
    {
     "name": "stdout",
     "output_type": "stream",
     "text": [
      "20\n"
     ]
    }
   ],
   "source": [
    "def act(): \n",
    " x = 10 \n",
    " def bar(): \n",
    "    nonlocal x \n",
    "    x = 20 \n",
    " bar() \n",
    " return x \n",
    "print(act())"
   ]
  },
  {
   "cell_type": "code",
   "execution_count": 17,
   "metadata": {},
   "outputs": [
    {
     "name": "stdout",
     "output_type": "stream",
     "text": [
      "<class 'dict'>\n",
      "<class 'set'>\n"
     ]
    }
   ],
   "source": [
    "#empty set example\n",
    "\n",
    "a = {}\n",
    "print(type(a))\n",
    "a = set()\n",
    "print(type(a))"
   ]
  }
 ],
 "metadata": {
  "kernelspec": {
   "display_name": "Python 3",
   "language": "python",
   "name": "python3"
  },
  "language_info": {
   "codemirror_mode": {
    "name": "ipython",
    "version": 3
   },
   "file_extension": ".py",
   "mimetype": "text/x-python",
   "name": "python",
   "nbconvert_exporter": "python",
   "pygments_lexer": "ipython3",
   "version": "3.12.2"
  }
 },
 "nbformat": 4,
 "nbformat_minor": 2
}
