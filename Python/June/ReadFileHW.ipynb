{
 "cells": [
  {
   "cell_type": "markdown",
   "metadata": {},
   "source": [
    "Date : 13-06-2024"
   ]
  },
  {
   "cell_type": "markdown",
   "metadata": {},
   "source": [
    "Write a function in python to count the number of lines from a text file \"ACT.txt\" which is not starting with an alphabet \"T\""
   ]
  },
  {
   "cell_type": "code",
   "execution_count": 8,
   "metadata": {},
   "outputs": [
    {
     "name": "stdout",
     "output_type": "stream",
     "text": [
      "Number of lines not starting with 'T': 9\n"
     ]
    }
   ],
   "source": [
    "def count_lines_not_starting_with_T(file_path):\n",
    "    # Initialize a counter for lines not starting with 'T'\n",
    "    count = 0\n",
    "    \n",
    "    # Open the file in read mode\n",
    "    with open(file_path, 'r') as file:\n",
    "        # Iterate through each line in the file\n",
    "        for line in file:\n",
    "            if not line.startswith('T') and not line.startswith('t'):\n",
    "                # Increment the counter\n",
    "                count += 1\n",
    "    \n",
    "    # Return the count of lines not starting with 'T'\n",
    "    return count\n",
    "\n",
    "# Example usage\n",
    "file_path = \"ACT.txt\"\n",
    "print(f\"Number of lines not starting with 'T': {count_lines_not_starting_with_T(file_path)}\")"
   ]
  },
  {
   "cell_type": "markdown",
   "metadata": {},
   "source": [
    "2.\\\\ \\ Write a function display_words() in python to read lines from a text file \"ACT.txt\", and display those words, which are less than 4 characters."
   ]
  },
  {
   "cell_type": "code",
   "execution_count": 1,
   "metadata": {},
   "outputs": [
    {
     "name": "stdout",
     "output_type": "stream",
     "text": [
      "Het\n"
     ]
    }
   ],
   "source": [
    "def display_words(file_path):\n",
    "    \n",
    "    with open(file_path, 'r') as file:\n",
    "        for line in file:\n",
    "            # Split the line into words\n",
    "            words = line.split()\n",
    "            for word in words:\n",
    "                # Check if the length of the word is less than 4\n",
    "                if len(word) < 4:\n",
    "                    print(word)\n",
    "\n",
    "# Example usage\n",
    "file_path = \"ACT.txt\"\n",
    "display_words(file_path)"
   ]
  },
  {
   "cell_type": "markdown",
   "metadata": {},
   "source": [
    "3.\\\\ \\ Write a function in Python to count uppercase character in a text file."
   ]
  },
  {
   "cell_type": "code",
   "execution_count": 3,
   "metadata": {},
   "outputs": [
    {
     "name": "stdout",
     "output_type": "stream",
     "text": [
      "Number of uppercase characters: 5\n"
     ]
    }
   ],
   "source": [
    "def count_uppercase_characters(file_path):\n",
    "    # Initialize a counter for uppercase characters\n",
    "    count = 0\n",
    "    \n",
    "    with open(file_path, 'r') as file:\n",
    "        content = file.read()\n",
    "        for char in content:\n",
    "            # Check if the character is uppercase\n",
    "            if char.isupper():\n",
    "                count += 1\n",
    "\n",
    "    return count\n",
    "\n",
    "# Example usage\n",
    "file_path = \"ACT.txt\"\n",
    "print(f\"Number of uppercase characters: {count_uppercase_characters(file_path)}\")"
   ]
  },
  {
   "cell_type": "markdown",
   "metadata": {},
   "source": [
    "4. \\\\ \\ Write a python code to display the details of the mode when chosen. For example if \"r\" is chosen then read mode and its details should be shown. Do the same for a, a+, w, etc"
   ]
  },
  {
   "cell_type": "code",
   "execution_count": 4,
   "metadata": {},
   "outputs": [
    {
     "name": "stdout",
     "output_type": "stream",
     "text": [
      "Mode 'w': Write mode: Opens a file for writing only. Overwrites the file if the file exists. If the file does not exist, creates a new file for writing.\n"
     ]
    }
   ],
   "source": [
    "def display_file_mode_details(mode):\n",
    "    # Dictionary mapping file modes to their descriptions\n",
    "    mode_details = {\n",
    "        'r': \"Read mode: Opens a file for reading only.\",\n",
    "        'r+': \"Read/Write mode: Opens a file for both reading and writing.\",\n",
    "        'w': \"Write mode: Opens a file for writing only. Overwrites the file if the file exists. If the file does not exist, creates a new file for writing.\",\n",
    "        'w+': \"Read/Write mode: Opens a file for both writing and reading. Overwrites the existing file if the file exists. If the file does not exist, creates a new one for reading and writing.\",\n",
    "        'a': \"Append mode: Opens a file for appending. The file pointer is at the end of the file if the file exists. That is, the file is in the append mode. If the file does not exist, it creates a new file for writing.\",\n",
    "        'a+': \"Read/Append mode: Opens a file for both appending and reading. The file pointer is at the end of the file if the file exists. The file opens in the append mode. If the file does not exist, it creates a new file for reading and writing.\",\n",
    "        'x': \"Exclusive creation: Creates a new file. The operation fails if the file already exists.\",\n",
    "        'x+': \"Read/Write mode (exclusive creation): Creates a new file for reading and writing. The operation fails if the file already exists.\"\n",
    "    }\n",
    "\n",
    "    # Display the details of the chosen mode\n",
    "    details = mode_details.get(mode, \"Invalid mode: The mode you have entered is not recognized.\")\n",
    "    print(f\"Mode '{mode}': {details}\")\n",
    "\n",
    "# Example usage\n",
    "mode = input(\"Enter the file mode (e.g., 'r', 'w', 'a', 'r+', 'w+', 'a+', 'x', 'x+'): \")\n",
    "display_file_mode_details(mode)"
   ]
  },
  {
   "cell_type": "markdown",
   "metadata": {},
   "source": [
    "Date : 14-06-2024"
   ]
  },
  {
   "cell_type": "markdown",
   "metadata": {},
   "source": [
    "5. \\\\ \\ Email id, pass. Before @ should have 6 characters and .com/ .in at the end.\n",
    "Min 8 char in password.Should include nos., chars [upper and lower] & symbols."
   ]
  },
  {
   "cell_type": "code",
   "execution_count": 2,
   "metadata": {},
   "outputs": [
    {
     "name": "stdout",
     "output_type": "stream",
     "text": [
      "            Email id    Password First Name Last Name Date of Birth  \\\n",
      "0  kshitij@gmail.com  Gjsksk@439    Kshitij    Halder    12-08-2004   \n",
      "\n",
      "  Name of the Institution City Country  \n",
      "0                     ACT  AMD     IND  \n",
      "Email id: kshitij@gmail.com is valid\n",
      "Password: Gjsksk@439 is valid\n",
      "Invalid credentials. Please try again.\n",
      "Exiting the application...\n"
     ]
    }
   ],
   "source": [
    "import re\n",
    "import pandas as pd\n",
    "from getpass import getpass\n",
    "\n",
    "# Initialize an empty DataFrame\n",
    "data = pd.DataFrame(columns=['Email id', 'Password', 'First Name', 'Last Name', 'Date of Birth', 'Name of the Institution', 'City', 'Country'])\n",
    "\n",
    "def check_email_id(e_mail):\n",
    "    # Regular expression to validate email IDs\n",
    "    return bool(re.match(r'^[a-zA-Z]{6,}@[a-zA-Z]+\\.(com|in|org|net|int|edu|gov|mil)$', e_mail))\n",
    "\n",
    "def check_password(password):\n",
    "    # Regular expression to validate passwords (should contain at least 8 characters, one lowercase letter, one uppercase letter, one digit and one special character)\n",
    "    return bool(re.match(r'^(?=.*[a-z])(?=.*[A-Z])(?=.*\\d)(?=.*[@$!%*?&])[A-Za-z\\d@$!%*?&]{8,}$', password))\n",
    "\n",
    "def login(e_mail, password):\n",
    "    # Check if the email ID and password exist in the DataFrame\n",
    "    if e_mail in data['Email id'].values and password in data['Password'].values:\n",
    "        print(f\"Welcome {First_Name} {Last_Name}! You have successfully logged in.\")\n",
    "    else:\n",
    "        print(\"Invalid credentials. Please try again.\")\n",
    "\n",
    "# Main loop to create an account or log in/log out\n",
    "while True:\n",
    "    choice = input(\"Do you want to create an account or Log In/Log Out? (create/Login/Logout): \")\n",
    "    \n",
    "    if choice == 'create': \n",
    "        while True:  \n",
    "            e_mail, password, First_Name, Last_Name, Date_of_birth, Name_of_the_Institution, City, Country = input(\"Email id: \"), getpass(\"Password: \"), input(\"First Name: \"), input(\"Last Name: \"), input(\"Date of Birth: \"), input(\"Name of the Institution: \"), input(\"City: \"), input(\"Country: \")\n",
    "            data.loc[len(data)] = [e_mail, password, First_Name, Last_Name, Date_of_birth, Name_of_the_Institution,  City, Country]  # Add new row to the DataFrame\n",
    "\n",
    "            # Print DataFrame\n",
    "            print(data.head())\n",
    "                        \n",
    "            # Validate email ID \n",
    "            id = check_email_id(e_mail)\n",
    "\n",
    "            if id is True:\n",
    "                print(f\"Email id: {e_mail} is valid\")     \n",
    "            else:\n",
    "                email_rules = {\n",
    "                    \"length\": lambda e_mail: not re.match(r'^[a-zA-Z]{6,}', e_mail),\n",
    "                    \"special_char\": lambda e_mail: not re.match(r'@[a-zA-Z]+', e_mail),\n",
    "                    \"domain\": lambda e_mail: not re.match(r'\\.(com|in|org|net|int|edu|gov|mil)$', e_mail)\n",
    "                }\n",
    "\n",
    "                for rule, condition in email_rules.items():\n",
    "                    if condition(e_mail):\n",
    "                        print(f\"ERROR: {rule.title()}\")\n",
    "\n",
    "                \n",
    "            # Validate password\n",
    "            pwd = check_password(password)\n",
    "            \n",
    "            if pwd is True:\n",
    "                print(f\"Password: {password} is valid\")\n",
    "            else:\n",
    "                password_rules = {\n",
    "                    \"length\": lambda password: len(password) < 8,\n",
    "                    \"lowercase\": lambda password: not re.search(\"[a-z]\", password),\n",
    "                    \"uppercase\": lambda password: not re.search(\"[A-Z]\", password),\n",
    "                    \"digit\": lambda password: not re.search(\"[0-9]\", password),\n",
    "                    \"special_char\": lambda password: not re.search(\"[.@$!%*?&]\", password)\n",
    "                }\n",
    "\n",
    "                for rule, condition in password_rules.items():\n",
    "                    if condition(password):\n",
    "                        print(f\"ERROR: Password should contain {rule}\")\n",
    "\n",
    "            \n",
    "            break\n",
    "    \n",
    "    elif choice.lower() in ['login', 'log in']:\n",
    "        while True:\n",
    "            e_mail, password = input(\"Email id: \"), getpass(\"Password: \")\n",
    "\n",
    "            login(e_mail, password)\n",
    "            break\n",
    "    elif choice.lower() in ['logout', 'log out']:\n",
    "        print(\"Exiting the application...\")\n",
    "        break        \n",
    "\n",
    "    else:\n",
    "        print(\"Invalid choice. Please choose create, Login/Log Out or exit.\")\n",
    "\n",
    "    cont = input(\"Do you want to continue? (yes/no): \")\n",
    "    \n",
    "    if cont.lower() != 'yes':\n",
    "        print(\"Exiting the application...\")\n",
    "        break\n"
   ]
  },
  {
   "cell_type": "markdown",
   "metadata": {},
   "source": [
    "            SCRAJJJJJJJJJ"
   ]
  },
  {
   "cell_type": "code",
   "execution_count": 3,
   "metadata": {},
   "outputs": [
    {
     "name": "stdout",
     "output_type": "stream",
     "text": [
      "Email id: kshitij@gmail.com is valid\n",
      "Password: Ggshsksk@1231 are valid\n",
      "Login successful\n"
     ]
    }
   ],
   "source": [
    "\n",
    "import re\n",
    "import pandas as pd\n",
    "from getpass import getpass\n",
    "\n",
    "data = pd.DataFrame(columns=['Email id', 'Password'])  # Initialize an empty DataFrame\n",
    "\n",
    "def check_email_id(e_mail):\n",
    "    RE_mail = re.match(r'^[a-zA-Z]{6,}@[a-zA-Z]+\\.(com|in|org|net|int|edu|gov|mil)$', e_mail)\n",
    "    if RE_mail:\n",
    "        return True\n",
    "    else:\n",
    "        return False\n",
    "    \n",
    "def check_password(password):\n",
    "    RE_pwd = re.match(r'^(?=.*[a-z])(?=.*[A-Z])(?=.*\\d)(?=.*[@$!%*?&])[A-Za-z\\d@$!%*?&]{8,}$', password)\n",
    "    if RE_pwd:\n",
    "        return True\n",
    "    else:\n",
    "        return False\n",
    "        \n",
    "def login(e_mail, password):\n",
    "    if e_mail in data['Email id'].values and password in data['Password'].values:\n",
    "        print(\"Login successful\")\n",
    "    else:\n",
    "        print(\"Invalid credentials. Please try again.\")\n",
    "\n",
    "while True:\n",
    "    choice = input(\"Do you want to create an account or Log In/Log Out? (create/Login/Logout): \")\n",
    "    \n",
    "    if choice == 'create':   \n",
    "        while True:  \n",
    "            e_mail = input(\"Email id: \")\n",
    "            password = getpass(\"Password: \")\n",
    "\n",
    "            data.loc[len(data)] = [e_mail, password]  # Add new row to the DataFrame\n",
    "\n",
    "            id = check_email_id(e_mail)\n",
    "            pwd = check_password(password)\n",
    "\n",
    "            if id is True:\n",
    "                print(f\"Email id: {e_mail} is valid\")   \n",
    "            else:\n",
    "                # Identify the error and print the appropriate message\n",
    "                if not re.match(r'^[a-zA-Z]{6,}', e_mail):\n",
    "                    print(\"ERROR: Email should contain atleast 6 alphabets before @\")\n",
    "                    continue\n",
    "                if not re.match(r'@[a-zA-Z]+', e_mail):\n",
    "                    print(\"ERROR: Email should contain only 1 special char '@'\")\n",
    "                    continue\n",
    "                if not re.match(r'\\.(com|in|org|net|int|edu|gov|mil)$', e_mail):\n",
    "                    print(\"ERROR: Email should end with official domain eg. .com, .in, .org\")\n",
    "                    continue\n",
    "                \n",
    "            if pwd is True:\n",
    "                print(f\"Password: {password} are valid\")\n",
    "                break\n",
    "            else:\n",
    "                # Identify the error in the password\n",
    "                if len(password) < 8:\n",
    "                    print(\"ERROR: Password should contain minimum 8 characters\")\n",
    "                    continue\n",
    "                if not re.search(\"[a-z]\", password):\n",
    "                    print(\"ERROR: Password should contain atleast 1 lowercase alphabet\")\n",
    "                    continue\n",
    "                if not re.search(\"[A-Z]\", password):\n",
    "                    print(\"ERROR: Password should contain atleast 1 uppercase alphabet\")\n",
    "                    continue\n",
    "                if not re.search(\"[0-9]\", password):\n",
    "                    print(\"ERROR: Password should contain atleast 1 digit\")\n",
    "                    continue\n",
    "                if not re.search(\"[.@$!%*?&]\", password):\n",
    "                    print(\"ERROR: Password should contain atleast 1 special character\")\n",
    "                    continue\n",
    "            \n",
    "            break\n",
    "    \n",
    "    elif choice.lower() in ['login', 'log in']:\n",
    "        while True:\n",
    "            e_mail = input(\"Email id: \")\n",
    "            password = getpass(\"Password: \")\n",
    "\n",
    "            if e_mail in data['Email id'].values and password in [i[1] for i in data.values]:\n",
    "                print(\"Login successful\")\n",
    "                break\n",
    "            else:\n",
    "                print(\"Invalid credentials. Please try again.\")\n",
    "    \n",
    "    elif choice.lower() in ['logout', 'log out']:\n",
    "        print(\"Logout successful\")\n",
    "\n",
    "    else:\n",
    "        print(\"Invalid choice. Please choose create, Login/Log Out or exit.\")\n",
    "\n",
    "    cont = input(\"Do you want to continue? (yes/no): \")\n",
    "    \n",
    "    if cont.lower() != 'yes':\n",
    "        break\n"
   ]
  },
  {
   "cell_type": "code",
   "execution_count": null,
   "metadata": {},
   "outputs": [
    {
     "name": "stdout",
     "output_type": "stream",
     "text": [
      "***\n",
      "<class 'str'>\n"
     ]
    }
   ],
   "source": [
    "import getpass\n",
    "\n",
    "a = getpass.getpass(\"Enter password: \")\n",
    "print(\"*\"*len(a))\n",
    "print(type(a))\n"
   ]
  },
  {
   "cell_type": "code",
   "execution_count": 3,
   "metadata": {},
   "outputs": [
    {
     "name": "stdout",
     "output_type": "stream",
     "text": [
      "Invalid password\n"
     ]
    }
   ],
   "source": [
    "import re\n",
    "\n",
    "y = input(\"Enter password: \")\n",
    "y = re.match(r'^(?=.*[a-z])(?=.*[A-Z])(?=.*\\d)(?=.*[@$!%*?&])[A-Za-z\\d@$!%*?&]{8,}$', y)\n",
    "\n",
    "if y:\n",
    "    print(\"Valid password\")\n",
    "else:\n",
    "    print(\"Invalid password\")"
   ]
  },
  {
   "cell_type": "markdown",
   "metadata": {},
   "source": [
    "Date : 18-06-2024"
   ]
  },
  {
   "cell_type": "code",
   "execution_count": 9,
   "metadata": {},
   "outputs": [
    {
     "name": "stdout",
     "output_type": "stream",
     "text": [
      "Contact added successfully!\n",
      "Contact added successfully!\n",
      "      Name Phone Number            UPI ID\n",
      "0  Kshitij   9909383002  9909383002@ptyes\n",
      "1      Het   9265650963        9265650963\n",
      "\n",
      "QR code generated successfully!\n",
      "You have paid Rs.900 to Het.\n",
      "Exiting the application...\n"
     ]
    }
   ],
   "source": [
    "import qrcode as qr\n",
    "import pandas as pd\n",
    "\n",
    "Contact = pd.DataFrame(columns=['Name', 'Phone Number', 'UPI ID'])\n",
    "\n",
    "def add_contact(name, phone_number, upi_id):\n",
    "    Contact.loc[len(Contact)] = [name, phone_number, upi_id]\n",
    "    print(\"Contact added successfully!\")\n",
    "\n",
    "def generate_qr_code(name, price):\n",
    "    contact = Contact[Contact['Name'] == name]\n",
    "    if len(contact) > 0:\n",
    "        contact = contact.iloc[0]\n",
    "        img = qr.make(f\"You have scanned the QR code to pay Rs.{price} to {contact['UPI ID']}\")\n",
    "        img.save(f\"{name}.png\")\n",
    "        img.show()\n",
    "        print(\"\\nQR code generated successfully!\")\n",
    "    else:\n",
    "        print(\"Contact not found!\")\n",
    "    \n",
    "def simulate_scan(name, price):\n",
    "    # Ask the user to simulate scanning by pressing 's'\n",
    "    scan_prompt = input(\"Press 's' to simulate scanning the QR code: \")\n",
    "    if scan_prompt.lower() == 's':\n",
    "        print(f\"You have paid Rs.{price} to {name}.\")\n",
    "    else:\n",
    "        print(\"QR code scan not detected. Please try again.\")\n",
    "\n",
    "def display_contacts():\n",
    "    print(Contact)\n",
    "    \n",
    "while True:\n",
    "    choice = input(\"Do you want to add a contact, or pay (add/pay/exit): \")\n",
    "    \n",
    "    if choice == 'add':\n",
    "        num_contacts = int(input(\"How many contacts do you want to add? \"))\n",
    "\n",
    "        for _ in range(num_contacts):\n",
    "            name = input(\"Enter the name: \")\n",
    "            phone_number = input(\"Enter the phone number: \")\n",
    "            upi_id = input(\"Enter the UPI ID: \")\n",
    "            add_contact(name, phone_number, upi_id)\n",
    "            \n",
    "        display_contacts()\n",
    "        \n",
    "    elif choice == 'pay':\n",
    "        name = input(\"Enter the contact you want to pay: \")\n",
    "        price = input(\"Enter the amount you want to pay: \")\n",
    "        generate_qr_code(name, price)\n",
    "        simulate_scan(name, price)\n",
    "        \n",
    "    elif choice == 'exit':\n",
    "        print(\"Exiting the application...\")\n",
    "        break\n",
    "        \n",
    "    else:\n",
    "        print(\"Invalid choice. Please choose add, generate, display or exit.\")\n",
    "\n",
    "    cont = input(\"Do you want to continue? (yes/no): \")\n",
    "    \n",
    "    if cont.lower() != 'yes':\n",
    "        print(\"Exiting the application...\")\n",
    "        break\n"
   ]
  },
  {
   "cell_type": "markdown",
   "metadata": {},
   "source": [
    "Date : 19-06-2024"
   ]
  },
  {
   "cell_type": "code",
   "execution_count": null,
   "metadata": {},
   "outputs": [],
   "source": [
    "print(\"Count: \",a.count(\"World\",0,5))\n",
    "print(\"Find: \",a.find(\"World\"))\n",
    "print(\"Rfind: \",a.rfind(\"World\"))\n",
    "print(\"Capitalize: \",a.capitalize())\n",
    "print(\"Title: \",a.title())\n",
    "print(\"Upper: \",a.upper())\n",
    "print(\"Lower: \",a.lower())\n",
    "print(\"Swapcase: \",a.swapcase())\n",
    "print(\"Isalnum: \",a.isalnum())\n",
    "print(\"Isalpha: \",a.isalpha())\n",
    "print(\"Ismigit: \",a.isdigit())\n",
    "print(\"Isnumeric: \",a.isnumeric())\n",
    "print(\"Center: \",a.center(50))\n",
    "print(\"isuper: \",a.isupper())\n",
    "print(\"islower: \",a.islower())\n",
    "print(\"istitle: \",a.istitle())\n",
    "print(\"Replace: \",a.replace(\"World\",\"Python \" * 3,1))\n",
    "print(\"Strip: \",a.strip())\n",
    "print(\"Lstrip: \",a.lstrip())\n",
    "print(\"Rstrip: \",a.rstrip())\n",
    "print(\"Partition: \",a.partition(\"World\"))\n",
    "print(\"Joint: \",\"-\".join(a))\n",
    "print(\"Isspace: \",a.isspace())\n",
    "print(\"Startswith: \",a.startswith(\"Hello\"))\n",
    "print(\"Endswith: \",a.endswith(\"World\"))\n",
    "print(\"Encode: \",a.encode(encoding = \"ASCII\",errors = \"ignore\"))\n",
    "print(\"Decode: \",a.encode(encoding = \"ASCII\",errors = \"ignore\").decode(encoding = \"ASCII\",errors = \"ignore\"))\n"
   ]
  },
  {
   "cell_type": "code",
   "execution_count": 6,
   "metadata": {},
   "outputs": [
    {
     "name": "stdout",
     "output_type": "stream",
     "text": [
      "Original String: hij\n",
      "partition: ('hij', '', '')\n"
     ]
    }
   ],
   "source": [
    "a = input(\"Enter a String: \").strip()  # Trim whitespace from the input string\n",
    "print(f\"Original String: {a}\")\n",
    "method = input(\"Enter the string method: \").lower().strip()  # Trim whitespace from the method input\n",
    "\n",
    "# Split the method input into individual methods\n",
    "methods = method.split(\" \")\n",
    "\n",
    "# Initialize a dictionary to hold replacement strings for each method\n",
    "replacement_strings = {}\n",
    "\n",
    "# Request additional input based on the method specified\n",
    "for m in methods:\n",
    "    if m in [\"replace\", \"partition\", \"rpartition\", \"startswith\", \"endswith\", \"rfind\", \"count\", \"find\"]:\n",
    "        if m not in replacement_strings:  # Check if the method is not already in the dictionary\n",
    "            replacement_strings[m] = []  # Initialize an empty list for the method\n",
    "        replacement_string = input(f\"Enter the replacement string for {m}: \").strip()  # Ask for the replacement string specifically for this method\n",
    "        replacement_strings[m].append(replacement_string)  # Add the replacement string to the list for this method\n",
    "        if m == \"replace\" and len(replacement_strings[m]) < 2:  # If it's the replace method and we don't have two strings yet\n",
    "            replacement_string_2 = input(\"Enter the second replacement string: \").strip()  # Ask for the second replacement string\n",
    "            replacement_strings[m].append(replacement_string_2)  # Add the second replacement string to the list for this method\n",
    "\n",
    "\n",
    "\n",
    "# Define a dictionary mapping string methods to their results\n",
    "results = {\n",
    "    \"capitalize\": a.capitalize(),\n",
    "    \"title\": a.title(),\n",
    "    \"upper\": a.upper(),\n",
    "    \"lower\": a.lower(),\n",
    "    \"swapcase\": a.swapcase(),\n",
    "    \"isalnum\": a.isalnum(),\n",
    "    \"isalpha\": a.isalpha(),\n",
    "    \"isdigit\": a.isdigit(),\n",
    "    \"isnumeric\": a.isnumeric(),\n",
    "    \"center\": a.center(50),\n",
    "    \"isupper\": a.isupper(),\n",
    "    \"islower\": a.islower(),\n",
    "    \"istitle\": a.istitle(),\n",
    "    \"strip\": a.strip(),\n",
    "    \"lstrip\": a.lstrip(),\n",
    "    \"rstrip\": a.rstrip(),\n",
    "    \"split\": a.split(\" \"),\n",
    "    \"rsplit\": a.rsplit(\" \"),\n",
    "    \"join\": \", \".join([\"sample\", \"list\"]),\n",
    "    \"encode\": a.encode(),\n",
    "    \"decode\": a.encode().decode(),\n",
    "    \"isspace\": a.isspace(),\n",
    "    \"isdecimal\": a.isdecimal(),\n",
    "    \"isascii\": a.isascii(),\n",
    "    \"splitlines\": a.splitlines(),\n",
    "    \"partition\": a.partition(replacement_strings[\"partition\"][0]) if \"partition\" in replacement_strings else \"Replacement string not provided\",\n",
    "    \"rpartition\": a.rpartition(replacement_strings[\"rpartition\"][0]) if \"rpartition\" in replacement_strings else \"Replacement string not provided\",\n",
    "    \"startswith\": a.startswith(replacement_strings[\"startswith\"][0]) if \"startswith\" in replacement_strings else \"Replacement string not provided\",\n",
    "    \"endswith\": a.endswith(replacement_strings[\"endswith\"][0]) if \"endswith\" in replacement_strings else \"Replacement string not provided\",\n",
    "    \"rfind\": a.rfind(replacement_strings[\"rfind\"][0]) if \"rfind\" in replacement_strings else \"Replacement string not provided\",\n",
    "    \"count\": a.count(replacement_strings[\"count\"][0]) if \"count\" in replacement_strings else \"Replacement string not provided\",\n",
    "    \"find\": a.find(replacement_strings[\"find\"][0]) if \"find\" in replacement_strings else \"Replacement string not provided\",\n",
    "    \"replace\": a.replace(replacement_strings[\"replace\"][0], replacement_strings[\"replace\"][1]) if \"replace\" in replacement_strings and len(replacement_strings[\"replace\"]) > 1 else \"Replacement strings not provided\"\n",
    "}\n",
    "\n",
    "for m in methods:\n",
    "    if m in results:\n",
    "        print(f\"{m}: {results[m]}\")\n",
    "        \n",
    "    else:\n",
    "        print(f\"{m} is not a valid string method.\")"
   ]
  },
  {
   "cell_type": "code",
   "execution_count": 33,
   "metadata": {},
   "outputs": [
    {
     "name": "stdout",
     "output_type": "stream",
     "text": [
      "2\n",
      "3\n",
      "5\n",
      "7\n",
      "11\n",
      "13\n",
      "17\n",
      "19\n",
      "23\n"
     ]
    }
   ],
   "source": [
    "# print 1st 9 prime numbers\n",
    "\n",
    "def is_prime(n):\n",
    "    if n <= 1:\n",
    "        return False\n",
    "    for i in range(2, int(n**0.5) + 1):\n",
    "        if n % i == 0:\n",
    "            return False\n",
    "    return True\n",
    "\n",
    "count = 0\n",
    "num = 2\n",
    "\n",
    "while count <9:\n",
    "    if is_prime(num):\n",
    "        print(num)\n",
    "        count += 1\n",
    "    num += 1\n",
    "    "
   ]
  },
  {
   "cell_type": "markdown",
   "metadata": {},
   "source": [
    "Date: 22-06-2024"
   ]
  },
  {
   "cell_type": "code",
   "execution_count": 1,
   "metadata": {},
   "outputs": [
    {
     "name": "stdout",
     "output_type": "stream",
     "text": [
      "10 is not a Fibonacci number\n"
     ]
    }
   ],
   "source": [
    "# Fibonacci series\n",
    "\n",
    "def check_fibonacci(n):\n",
    "    a, b = 0, 1\n",
    "    while a < n:\n",
    "        a, b = b, a + b\n",
    "    return a == n\n",
    "  \n",
    "n = int(input(\"Enter the range of fibonacci: \"))\n",
    "if check_fibonacci(n):\n",
    "    print(f\"{n} is a Fibonacci number\")\n",
    "else:\n",
    "    print(f\"{n} is not a Fibonacci number\")\n"
   ]
  },
  {
   "cell_type": "code",
   "execution_count": 3,
   "metadata": {},
   "outputs": [
    {
     "name": "stdout",
     "output_type": "stream",
     "text": [
      "Sun Sep 20 08:45:12 2010\n",
      "Current time:  2024-06-28 09:37:19.517518\n",
      "Current date: 28/6/2024\n",
      "\n",
      "Calendar for the year 2024:\n",
      "\n",
      "                                  2024\n",
      "\n",
      "      January                   February                   March\n",
      "Mo Tu We Th Fr Sa Su      Mo Tu We Th Fr Sa Su      Mo Tu We Th Fr Sa Su\n",
      " 1  2  3  4  5  6  7                1  2  3  4                   1  2  3\n",
      " 8  9 10 11 12 13 14       5  6  7  8  9 10 11       4  5  6  7  8  9 10\n",
      "15 16 17 18 19 20 21      12 13 14 15 16 17 18      11 12 13 14 15 16 17\n",
      "22 23 24 25 26 27 28      19 20 21 22 23 24 25      18 19 20 21 22 23 24\n",
      "29 30 31                  26 27 28 29               25 26 27 28 29 30 31\n",
      "\n",
      "       April                      May                       June\n",
      "Mo Tu We Th Fr Sa Su      Mo Tu We Th Fr Sa Su      Mo Tu We Th Fr Sa Su\n",
      " 1  2  3  4  5  6  7             1  2  3  4  5                      1  2\n",
      " 8  9 10 11 12 13 14       6  7  8  9 10 11 12       3  4  5  6  7  8  9\n",
      "15 16 17 18 19 20 21      13 14 15 16 17 18 19      10 11 12 13 14 15 16\n",
      "22 23 24 25 26 27 28      20 21 22 23 24 25 26      17 18 19 20 21 22 23\n",
      "29 30                     27 28 29 30 31            24 25 26 27 28 29 30\n",
      "\n",
      "        July                     August                  September\n",
      "Mo Tu We Th Fr Sa Su      Mo Tu We Th Fr Sa Su      Mo Tu We Th Fr Sa Su\n",
      " 1  2  3  4  5  6  7                1  2  3  4                         1\n",
      " 8  9 10 11 12 13 14       5  6  7  8  9 10 11       2  3  4  5  6  7  8\n",
      "15 16 17 18 19 20 21      12 13 14 15 16 17 18       9 10 11 12 13 14 15\n",
      "22 23 24 25 26 27 28      19 20 21 22 23 24 25      16 17 18 19 20 21 22\n",
      "29 30 31                  26 27 28 29 30 31         23 24 25 26 27 28 29\n",
      "                                                    30\n",
      "\n",
      "      October                   November                  December\n",
      "Mo Tu We Th Fr Sa Su      Mo Tu We Th Fr Sa Su      Mo Tu We Th Fr Sa Su\n",
      "    1  2  3  4  5  6                   1  2  3                         1\n",
      " 7  8  9 10 11 12 13       4  5  6  7  8  9 10       2  3  4  5  6  7  8\n",
      "14 15 16 17 18 19 20      11 12 13 14 15 16 17       9 10 11 12 13 14 15\n",
      "21 22 23 24 25 26 27      18 19 20 21 22 23 24      16 17 18 19 20 21 22\n",
      "28 29 30 31               25 26 27 28 29 30         23 24 25 26 27 28 29\n",
      "                                                    30 31\n",
      "\n",
      "     June 2024\n",
      "Mo Tu We Th Fr Sa Su\n",
      "                1  2\n",
      " 3  4  5  6  7  8  9\n",
      "10 11 12 13 14 15 16\n",
      "17 18 19 20 21 22 23\n",
      "24 25 26 27 28 29 30\n",
      "\n"
     ]
    }
   ],
   "source": [
    "import calendar\n",
    "import time\n",
    "from datetime import datetime\n",
    "\n",
    "t = (2010,9,20,8,45,12,6,0,0)\n",
    "print(time.asctime(t))\n",
    "print(\"Current time: \",datetime.now())\n",
    "y = datetime.now().year\n",
    "m = datetime.now().month\n",
    "d = datetime.now().day\n",
    "print(f\"Current date: {d}/{m}/{y}\")\n",
    "print(f\"\\nCalendar for the year {y}:\\n\")\n",
    "print(calendar.calendar(y))\n",
    "print(calendar.month(y, m))"
   ]
  },
  {
   "cell_type": "code",
   "execution_count": 29,
   "metadata": {},
   "outputs": [
    {
     "name": "stdout",
     "output_type": "stream",
     "text": [
      "1 is an Armstrong number\n"
     ]
    }
   ],
   "source": [
    "# Check if number is Armstrong number\n",
    "\n",
    "def is_armstrong(num):\n",
    "    sum = 0\n",
    "    temp = str(num)\n",
    "    for i in temp:\n",
    "        sum += int(i) ** 3\n",
    "    return num == sum\n",
    "\n",
    "num = int(input(\"Enter a number: \"))\n",
    "if is_armstrong(num):\n",
    "    print(num, \"is an Armstrong number\")\n",
    "else:\n",
    "    print(num, \"is not an Armstrong number\")\n",
    "        \n",
    "    "
   ]
  },
  {
   "cell_type": "code",
   "execution_count": 61,
   "metadata": {},
   "outputs": [
    {
     "name": "stdout",
     "output_type": "stream",
     "text": [
      "      * \t      *\n",
      "     *** \t     ***\n",
      "    ***** \t    *****\n",
      "   ******* \t   *******\n",
      "  ********* \t  *********\n"
     ]
    }
   ],
   "source": [
    "# Two triangles on same row using for loop and *\n",
    "\n",
    "for i in range(1, 6):\n",
    "# Triangle with equal side lengths\n",
    "    #print(\"*\" * i, \" \" * (5 - i), \"*\" * i)\n",
    "# Triangle with top point at centre\n",
    "    print(\" \" * (6 - i), \"*\" * (2 * i - 1),'\\t', \" \" * (5 - i), \"*\" * (2 * i - 1))\n",
    "\n"
   ]
  }
 ],
 "metadata": {
  "kernelspec": {
   "display_name": "base",
   "language": "python",
   "name": "python3"
  },
  "language_info": {
   "codemirror_mode": {
    "name": "ipython",
    "version": 3
   },
   "file_extension": ".py",
   "mimetype": "text/x-python",
   "name": "python",
   "nbconvert_exporter": "python",
   "pygments_lexer": "ipython3",
   "version": "3.12.8"
  }
 },
 "nbformat": 4,
 "nbformat_minor": 2
}
