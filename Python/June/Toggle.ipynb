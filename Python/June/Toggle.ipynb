{
 "cells": [
  {
   "cell_type": "markdown",
   "metadata": {},
   "source": [
    "# ///////////////////////////////////////////////////////////////////////\n",
    "#\n",
    "# Creating a simple toggle switch \n",
    "# PROJECT MADE WITH: Qt Designer and PySide6\n",
    "#\n",
    "# ///////////////////////////////////////////////////////////////////////"
   ]
  },
  {
   "cell_type": "code",
   "execution_count": 1,
   "metadata": {},
   "outputs": [],
   "source": [
    "from PySide6.QtCore import *\n",
    "from PySide6.QtGui import *\n",
    "from PySide6.QtWidgets import *\n",
    "\n",
    "class PyToggle(QCheckBox):\n",
    "    def __init__(\n",
    "        self,\n",
    "        width = 60,\n",
    "        bg_color = \"#777\",\n",
    "        circle_color = \"#DDD\",\n",
    "        active_color = \"#00BCff\",\n",
    "    ):\n",
    "        QCheckBox.__init__(self)"
   ]
  },
  {
   "cell_type": "code",
   "execution_count": 1,
   "metadata": {},
   "outputs": [
    {
     "ename": "",
     "evalue": "",
     "output_type": "error",
     "traceback": [
      "\u001b[1;31mThe Kernel crashed while executing code in the current cell or a previous cell. \n",
      "\u001b[1;31mPlease review the code in the cell(s) to identify a possible cause of the failure. \n",
      "\u001b[1;31mClick <a href='https://aka.ms/vscodeJupyterKernelCrash'>here</a> for more info. \n",
      "\u001b[1;31mView Jupyter <a href='command:jupyter.viewOutput'>log</a> for further details."
     ]
    }
   ],
   "source": [
    "import sys\n",
    "from PySide6.QtCore import *\n",
    "from PySide6.QtGui import *\n",
    "from PySide6.QtWidgets import *\n",
    "\n",
    "class MainWindow(QMainWindow):\n",
    "    def __init__(self):\n",
    "        QMainWindow.__init__(self)\n",
    "        # RESIZE WINDOW\n",
    "        self.resize (500, 500)\n",
    "\n",
    "        # CREATE CONTAINER AND LAYOUT\n",
    "        self.container = QFrame()\n",
    "        self.container.setObjectName (\"container\")\n",
    "        self.container.setStyleSheet (\"#container { background-color: #222 }\")\n",
    "        self.layout = QVBoxLayout()\n",
    "    \n",
    "        # ADD WIDGETS TO LAYOUT\n",
    "        self.toggle = PyToggle()\n",
    "    \n",
    "        self.layout.addwidget(self.toggle, Qt.AlignCenter, Qt.AlignCenter)\n",
    "        \n",
    "        # SET CENTRAL WIDGET\n",
    "        self.container.setLayout (self.layout)\n",
    "        self.setCentralWidget(self.container)\n",
    "        \n",
    "        # SHOW WINDOW\n",
    "        self.show()\n",
    "\n",
    "if __name__ == \"__main__\":\n",
    "    app = QApplication(sys.argv)\n",
    "    window = MainWindow()\n",
    "    sys.exit(app.exec_())"
   ]
  }
 ],
 "metadata": {
  "kernelspec": {
   "display_name": "base",
   "language": "python",
   "name": "python3"
  },
  "language_info": {
   "codemirror_mode": {
    "name": "ipython",
    "version": 3
   },
   "file_extension": ".py",
   "mimetype": "text/x-python",
   "name": "python",
   "nbconvert_exporter": "python",
   "pygments_lexer": "ipython3",
   "version": "3.11.6"
  }
 },
 "nbformat": 4,
 "nbformat_minor": 2
}
