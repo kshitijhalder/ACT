{
 "cells": [
  {
   "cell_type": "markdown",
   "metadata": {},
   "source": [
    "# ///////////////////////////////////////////////////////////////////////\n",
    "#\n",
    "# Creating a simple toggle switch \n",
    "# PROJECT MADE WITH: Qt Designer and PySide6\n",
    "#\n",
    "# ///////////////////////////////////////////////////////////////////////"
   ]
  },
  {
   "cell_type": "code",
   "execution_count": 1,
   "metadata": {},
   "outputs": [],
   "source": [
    "from PySide6.QtCore import *\n",
    "from PySide6.QtGui import *\n",
    "from PySide6.QtWidgets import *\n",
    "\n",
    "class PyToggle(QCheckBox):\n",
    "    def __init__(\n",
    "        self,\n",
    "        width = 60,\n",
    "        bg_color = \"#777\",\n",
    "        circle_color = \"#DDD\",\n",
    "        active_color = \"#00BCff\",\n",
    "    ):\n",
    "        QCheckBox.__init__(self)"
   ]
  },
  {
   "cell_type": "code",
   "execution_count": 1,
   "metadata": {},
   "outputs": [
    {
     "ename": "ImportError",
     "evalue": "cannot import name 'QtWidgets' from partially initialized module 'PySide6' (most likely due to a circular import) (/Users/kshitijhalder/Desktop/ACT/Python/June/PySide6.py)",
     "output_type": "error",
     "traceback": [
      "\u001b[0;31m---------------------------------------------------------------------------\u001b[0m",
      "\u001b[0;31mImportError\u001b[0m                               Traceback (most recent call last)",
      "Cell \u001b[0;32mIn[1], line 2\u001b[0m\n\u001b[1;32m      1\u001b[0m \u001b[38;5;28;01mimport\u001b[39;00m \u001b[38;5;21;01msys\u001b[39;00m\n\u001b[0;32m----> 2\u001b[0m \u001b[38;5;28;01mfrom\u001b[39;00m \u001b[38;5;21;01mPySide6\u001b[39;00m\u001b[38;5;21;01m.\u001b[39;00m\u001b[38;5;21;01mQtCore\u001b[39;00m \u001b[38;5;28;01mimport\u001b[39;00m \u001b[38;5;241m*\u001b[39m\n\u001b[1;32m      3\u001b[0m \u001b[38;5;28;01mfrom\u001b[39;00m \u001b[38;5;21;01mPySide6\u001b[39;00m\u001b[38;5;21;01m.\u001b[39;00m\u001b[38;5;21;01mQtGui\u001b[39;00m \u001b[38;5;28;01mimport\u001b[39;00m \u001b[38;5;241m*\u001b[39m\n\u001b[1;32m      4\u001b[0m \u001b[38;5;28;01mfrom\u001b[39;00m \u001b[38;5;21;01mPySide6\u001b[39;00m\u001b[38;5;21;01m.\u001b[39;00m\u001b[38;5;21;01mQtWidgets\u001b[39;00m \u001b[38;5;28;01mimport\u001b[39;00m \u001b[38;5;241m*\u001b[39m\n",
      "File \u001b[0;32m~/Desktop/ACT/Python/June/PySide6.py:6\u001b[0m\n\u001b[1;32m      1\u001b[0m \u001b[38;5;66;03m# Learning PySide6\u001b[39;00m\n\u001b[1;32m      2\u001b[0m \u001b[38;5;66;03m# Date: 2024-06-17\u001b[39;00m\n\u001b[1;32m      3\u001b[0m \u001b[38;5;66;03m# Source: https://www.youtube.com/watch?v=Z1N9JzNax2k&list=WL&index=3&t=1142s\u001b[39;00m\n\u001b[1;32m      4\u001b[0m \n\u001b[1;32m      5\u001b[0m \u001b[38;5;66;03m# Import necessary modules\u001b[39;00m\n\u001b[0;32m----> 6\u001b[0m \u001b[38;5;28;01mfrom\u001b[39;00m \u001b[38;5;21;01mPySide6\u001b[39;00m \u001b[38;5;28;01mimport\u001b[39;00m QtWidgets\n\u001b[1;32m      7\u001b[0m \u001b[38;5;28;01mimport\u001b[39;00m \u001b[38;5;21;01msys\u001b[39;00m\n\u001b[1;32m      9\u001b[0m \u001b[38;5;66;03m# Create a new instance of the QApplication class. This is required for any GUI application.\u001b[39;00m\n",
      "\u001b[0;31mImportError\u001b[0m: cannot import name 'QtWidgets' from partially initialized module 'PySide6' (most likely due to a circular import) (/Users/kshitijhalder/Desktop/ACT/Python/June/PySide6.py)"
     ]
    }
   ],
   "source": [
    "import sys\n",
    "from PySide6.QtCore import *\n",
    "from PySide6.QtGui import *\n",
    "from PySide6.QtWidgets import *\n",
    "\n",
    "class MainWindow(QMainWindow):\n",
    "    def __init__(self):\n",
    "        QMainWindow.__init__(self)\n",
    "        # RESIZE WINDOW\n",
    "        self.resize (500, 500)\n",
    "\n",
    "        # CREATE CONTAINER AND LAYOUT\n",
    "        self.container = QFrame()\n",
    "        self.container.setObjectName (\"container\")\n",
    "        self.container.setStyleSheet (\"#container { background-color: #222 }\")\n",
    "        self.layout = QVBoxLayout()\n",
    "    \n",
    "        # ADD WIDGETS TO LAYOUT\n",
    "        self.toggle = PyToggle()\n",
    "    \n",
    "        self.layout.addwidget(self.toggle, Qt.AlignCenter, Qt.AlignCenter)\n",
    "        \n",
    "        # SET CENTRAL WIDGET\n",
    "        self.container.setLayout (self.layout)\n",
    "        self.setCentralWidget(self.container)\n",
    "        \n",
    "        # SHOW WINDOW\n",
    "        self.show()\n",
    "\n",
    "if __name__ == \"__main__\":\n",
    "    app = QApplication(sys.argv)\n",
    "    window = MainWindow()\n",
    "    sys.exit(app.exec_())"
   ]
  }
 ],
 "metadata": {
  "kernelspec": {
   "display_name": "base",
   "language": "python",
   "name": "python3"
  },
  "language_info": {
   "codemirror_mode": {
    "name": "ipython",
    "version": 3
   },
   "file_extension": ".py",
   "mimetype": "text/x-python",
   "name": "python",
   "nbconvert_exporter": "python",
   "pygments_lexer": "ipython3",
   "version": "3.12.2"
  }
 },
 "nbformat": 4,
 "nbformat_minor": 2
}
