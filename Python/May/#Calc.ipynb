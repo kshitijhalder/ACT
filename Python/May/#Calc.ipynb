{
 "cells": [
  {
   "cell_type": "markdown",
   "metadata": {},
   "source": [
    "Create a Calculator using Dictionary"
   ]
  },
  {
   "cell_type": "code",
   "execution_count": 5,
   "metadata": {},
   "outputs": [
    {
     "name": "stdout",
     "output_type": "stream",
     "text": [
      "Result: 8.0\n"
     ]
    }
   ],
   "source": [
    "\n",
    "def add(x, y):\n",
    "    return x + y\n",
    "\n",
    "def subtract(x, y):\n",
    "    return x - y\n",
    "\n",
    "def multiply(x, y):\n",
    "    return x * y\n",
    "\n",
    "def divide(x, y):\n",
    "    return x / y\n",
    "\n",
    "def floor_divide(x, y):\n",
    "    return x // y\n",
    "\n",
    "def exponent(x, y):\n",
    "    return x ** y\n",
    "\n",
    "# Dictionary of operations\n",
    "calculator = {'add': add,'subtract': subtract,'multiply': multiply,'divide': divide,'floor_divide': floor_divide,'exponent': exponent}\n",
    "\n",
    "operation = input(\"Enter operation (add, subtract, multiply, divide, floor_divide, exponent): \")\n",
    "num1 = float(input(\"Enter first number: \"))\n",
    "num2 = float(input(\"Enter second number: \"))\n",
    "\n",
    "result = calculator[operation](num1, num2)\n",
    "print(\"Result:\", result)"
   ]
  },
  {
   "cell_type": "markdown",
   "metadata": {},
   "source": [
    "Create a Calculator"
   ]
  },
  {
   "cell_type": "code",
   "execution_count": 2,
   "metadata": {},
   "outputs": [
    {
     "name": "stdout",
     "output_type": "stream",
     "text": [
      "Select operation:\n",
      "1. Add\n",
      "2. Subtract\n",
      "3. Multiply\n",
      "4. Divide\n",
      "5. Floor Divide\n",
      "6. Exponent\n",
      "7. Exit\n",
      "Result: 3.0\n",
      "Select operation:\n",
      "1. Add\n",
      "2. Subtract\n",
      "3. Multiply\n",
      "4. Divide\n",
      "5. Floor Divide\n",
      "6. Exponent\n",
      "7. Exit\n",
      "Result: 3.0\n",
      "Select operation:\n",
      "1. Add\n",
      "2. Subtract\n",
      "3. Multiply\n",
      "4. Divide\n",
      "5. Floor Divide\n",
      "6. Exponent\n",
      "7. Exit\n",
      "Exiting the program...\n"
     ]
    }
   ],
   "source": [
    "\"\"\"\n",
    "Create a simple calculator that can perform multiple mathematical operations in a single interation \n",
    "using dictionary\n",
    "\n",
    "Read the string.Create a simple calculator that can perform multiple mathematical operations in a single interation.\n",
    "Identify the mathematical operator and perform the operation on the numbers using dictionary.\n",
    "\"\"\"\n",
    "\n",
    "\n",
    "def add(x, y):\n",
    "    return x + y\n",
    "\n",
    "def subtract(x, y):\n",
    "    return x - y\n",
    "\n",
    "def multiply(x, y):\n",
    "    return x * y\n",
    "\n",
    "def divide(x, y):\n",
    "    return x / y\n",
    "\n",
    "def floor_divide(x, y):\n",
    "    return x // y\n",
    "\n",
    "def exponent(x, y):\n",
    "    return x ** y\n",
    "\n",
    "# Dictionary of operations\n",
    "calculator = {'add': add, 'subtract': subtract, 'multiply': multiply, 'divide': divide, 'floor_divide': floor_divide, 'exponent': exponent}\n",
    "\n",
    "while True:\n",
    "    print(\"Select operation:\")\n",
    "    print(\"1. Add\")\n",
    "    print(\"2. Subtract\")\n",
    "    print(\"3. Multiply\")\n",
    "    print(\"4. Divide\")\n",
    "    print(\"5. Floor Divide\")\n",
    "    print(\"6. Exponent\")\n",
    "    print(\"7. Exit\")\n",
    "\n",
    "    choice = input(\"Enter choice (1-7): \")\n",
    "\n",
    "    if choice == '7':\n",
    "        print(\"Exiting the program...\")\n",
    "        break\n",
    "\n",
    "    num1 = float(input(\"Enter first number: \"))\n",
    "    num2 = float(input(\"Enter second number: \"))\n",
    "\n",
    "    if choice == '1':\n",
    "        result = calculator['add'](num1, num2)\n",
    "        print(\"Result:\", result)\n",
    "    elif choice == '2':\n",
    "        result = calculator['subtract'](num1, num2)\n",
    "        print(\"Result:\", result)\n",
    "    elif choice == '3':\n",
    "        result = calculator['multiply'](num1, num2)\n",
    "        print(\"Result:\", result)\n",
    "    elif choice == '4':\n",
    "        result = calculator['divide'](num1, num2)\n",
    "        print(\"Result:\", result)\n",
    "    elif choice == '5':\n",
    "        result = calculator['floor_divide'](num1, num2)\n",
    "        print(\"Result:\", result)\n",
    "    elif choice == '6':\n",
    "        result = calculator['exponent'](num1, num2)\n",
    "        print(\"Result:\", result)\n",
    "    else:\n",
    "        print(\"Invalid choice. Please try again.\")"
   ]
  },
  {
   "cell_type": "code",
   "execution_count": 29,
   "metadata": {},
   "outputs": [
    {
     "name": "stdout",
     "output_type": "stream",
     "text": [
      "Result: 5.0\n"
     ]
    }
   ],
   "source": [
    "\"\"\"\n",
    "Read the string.Create a simple calculator that can perform multiple mathematical operations in a single interation.\n",
    "Identify the mathematical operator and perform the operation on the numbers using dictionary.\n",
    "\"\"\"\n",
    "import re, operator\n",
    "\n",
    "operation = input(\"Enter a mathematical problem: \")\n",
    "\"\"\"\n",
    "# Split the string into numbers and operator\n",
    "for char in operation:\n",
    "    if char in ['+', '-', '*', '/', '//', '**']:\n",
    "        operator = char\n",
    "    else:\n",
    "        numbers = operator.split(char)\n",
    "\"\"\"\n",
    "# Split the operation into numbers and operators\n",
    "parts = re.split('(\\D+)', operation)\n",
    "\n",
    "# Separate the numbers and operators\n",
    "numbers = [part for part in parts if part.isdigit()]\n",
    "operators = [part for part in parts if not part.isdigit()]\n",
    "\n",
    "# Dictionary of operations\n",
    "ops = {\"+\": operator.add, \"-\": operator.sub, \"*\": operator.mul, \"/\": operator.truediv, \"//\": operator.floordiv, \"**\": operator.pow}\n",
    "\n",
    "# Perform the operations\n",
    "result = float(numbers[0])\n",
    "for i in range(len(operators)):\n",
    "    result = ops[operators[i]](result, float(numbers[i+1]))\n",
    "\n",
    "print(\"Result:\", result)\n",
    "\n",
    "# Print the result in txt file\n",
    "with open('result.txt', 'w') as file:\n",
    "    file.write(str(result))\n",
    "\n",
    "\n"
   ]
  },
  {
   "cell_type": "code",
   "execution_count": 15,
   "metadata": {},
   "outputs": [
    {
     "name": "stdout",
     "output_type": "stream",
     "text": [
      "['2', '3']\n",
      "[' + ']\n"
     ]
    }
   ],
   "source": [
    "import re\n",
    "\n",
    "operation = input(\"Enter a mathematical problem: \")\n",
    "\n",
    "# Split the operation into numbers and operators\n",
    "parts = re.split('(\\D+)', operation)\n",
    "\n",
    "# Separate the numbers and operators\n",
    "numbers = [part for part in parts if part.isdigit()]\n",
    "operators = [part for part in parts if not part.isdigit()]\n",
    "\n",
    "print(numbers)\n",
    "print(operators)"
   ]
  },
  {
   "cell_type": "code",
   "execution_count": null,
   "metadata": {},
   "outputs": [],
   "source": [
    "import re\n",
    "\n",
    "operation = input(\"Enter a mathematical problem: \")\n",
    "\n",
    "# Split the operation into numbers and operators\n",
    "parts = re.split('(\\D+)', operation)\n",
    "\n",
    "# Separate the numbers and operators\n",
    "numbers = [part for part in parts if part.isdigit()]\n",
    "operators = [part for part in parts if not part.isdigit()]\n",
    "\n",
    "def(*)"
   ]
  }
 ],
 "metadata": {
  "kernelspec": {
   "display_name": "base",
   "language": "python",
   "name": "python3"
  },
  "language_info": {
   "codemirror_mode": {
    "name": "ipython",
    "version": 3
   },
   "file_extension": ".py",
   "mimetype": "text/x-python",
   "name": "python",
   "nbconvert_exporter": "python",
   "pygments_lexer": "ipython3",
   "version": "3.9.19"
  }
 },
 "nbformat": 4,
 "nbformat_minor": 2
}
