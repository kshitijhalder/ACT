{
 "cells": [
  {
   "cell_type": "markdown",
   "metadata": {},
   "source": [
    "Creating Emojis YAAAYY!!"
   ]
  },
  {
   "cell_type": "code",
   "execution_count": 14,
   "metadata": {},
   "outputs": [
    {
     "name": "stdout",
     "output_type": "stream",
     "text": [
      "Requirement already satisfied: emoji in /Users/kshitijhalder/opt/anaconda3/lib/python3.9/site-packages (2.11.1)\n",
      "Note: you may need to restart the kernel to use updated packages.\n",
      "Python is 👍\n",
      ":heart: :ok_hand:\n"
     ]
    }
   ],
   "source": [
    "from emoji import emojize\n",
    "from random import choice\n",
    "\n",
    "print(emojize(choice([\"Python is :thumbs_up:\", \"Python is :fire:\", \"Python is :heart:\", \"Python is :ok_hand:\"])))\n",
    "print(emojize(\":heart: :ok_hand:\"))"
   ]
  }
 ],
 "metadata": {
  "kernelspec": {
   "display_name": "base",
   "language": "python",
   "name": "python3"
  },
  "language_info": {
   "codemirror_mode": {
    "name": "ipython",
    "version": 3
   },
   "file_extension": ".py",
   "mimetype": "text/x-python",
   "name": "python",
   "nbconvert_exporter": "python",
   "pygments_lexer": "ipython3",
   "version": "3.9.19"
  }
 },
 "nbformat": 4,
 "nbformat_minor": 2
}
