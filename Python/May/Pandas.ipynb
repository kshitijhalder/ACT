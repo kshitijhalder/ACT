{
 "cells": [
  {
   "cell_type": "markdown",
   "metadata": {},
   "source": [
    "Pandas Package -\n",
    "            \n",
    "            Pandas is a Python package providing fast, flexible, and expressive data structures designed to make working with “relational” or “labeled” data both easy and intuitive. It aims to be the fundamental high-level building block for doing practical, real world data analysis in Python.\n",
    "    \n",
    "Date : 1-5-2024\n"
   ]
  },
  {
   "cell_type": "code",
   "execution_count": 2,
   "metadata": {},
   "outputs": [
    {
     "name": "stdout",
     "output_type": "stream",
     "text": [
      "   Batch 1  Batch 2\n",
      "0    Dhara  Kshitij\n",
      "1   Yamini      Het\n",
      "2  Mahendl    Rishi\n",
      "\n",
      "Data type:  <class 'pandas.core.frame.DataFrame'>\n"
     ]
    }
   ],
   "source": [
    "import pandas as pd\n",
    "\n",
    "\"\"\"\n",
    "Pandas PACKAGE-\n",
    "Pandas is a Python package providing fast, flexible, and expressive data structures designed to make working with “relational” or “labeled” data both easy and intuitive. It aims to be the fundamental high-level building block for doing practical, real world data analysis in Python.\n",
    "\n",
    "\"\"\"\n",
    "Data = {'Batch 1': ['Dhara', 'Yamini', 'Mahendl'],'Batch 2': ['Kshitij', 'Het', 'Rishi']}\n",
    "df = pd.DataFrame(Data)\n",
    "print(df)\n",
    "print(\"\\nData type: \",type(df))\n"
   ]
  },
  {
   "cell_type": "markdown",
   "metadata": {},
   "source": [
    "Assignment -\n",
    "        Enter a blank data frame of Student name, Marks and attendance.\n",
    "        Ask the number of students to enter in data.\n",
    "        Enter the given data (user input), then print the data frame."
   ]
  },
  {
   "cell_type": "code",
   "execution_count": 2,
   "metadata": {},
   "outputs": [
    {
     "ename": "ValueError",
     "evalue": "could not convert string to float: 'jdkxd'",
     "output_type": "error",
     "traceback": [
      "\u001b[0;31m---------------------------------------------------------------------------\u001b[0m",
      "\u001b[0;31mValueError\u001b[0m                                Traceback (most recent call last)",
      "Cell \u001b[0;32mIn[2], line 14\u001b[0m\n\u001b[1;32m     11\u001b[0m \u001b[38;5;28;01mfor\u001b[39;00m i \u001b[38;5;129;01min\u001b[39;00m \u001b[38;5;28mrange\u001b[39m(num_students):\n\u001b[1;32m     12\u001b[0m     \u001b[38;5;66;03m# Get the student name, marks, and attendance from the user\u001b[39;00m\n\u001b[1;32m     13\u001b[0m     name \u001b[38;5;241m=\u001b[39m \u001b[38;5;28minput\u001b[39m(\u001b[38;5;124mf\u001b[39m\u001b[38;5;124m\"\u001b[39m\u001b[38;5;124mEnter the name of student \u001b[39m\u001b[38;5;132;01m{\u001b[39;00mi\u001b[38;5;241m+\u001b[39m\u001b[38;5;241m1\u001b[39m\u001b[38;5;132;01m}\u001b[39;00m\u001b[38;5;124m: \u001b[39m\u001b[38;5;124m\"\u001b[39m)\n\u001b[0;32m---> 14\u001b[0m     marks \u001b[38;5;241m=\u001b[39m \u001b[38;5;28;43mfloat\u001b[39;49m\u001b[43m(\u001b[49m\u001b[38;5;28;43minput\u001b[39;49m\u001b[43m(\u001b[49m\u001b[38;5;124;43m\"\u001b[39;49m\u001b[38;5;124;43mEnter the marks of student \u001b[39;49m\u001b[38;5;132;43;01m{}\u001b[39;49;00m\u001b[38;5;124;43m: \u001b[39;49m\u001b[38;5;124;43m\"\u001b[39;49m\u001b[38;5;241;43m.\u001b[39;49m\u001b[43mformat\u001b[49m\u001b[43m(\u001b[49m\u001b[43mi\u001b[49m\u001b[38;5;241;43m+\u001b[39;49m\u001b[38;5;241;43m1\u001b[39;49m\u001b[43m)\u001b[49m\u001b[43m)\u001b[49m\u001b[43m)\u001b[49m\n\u001b[1;32m     15\u001b[0m     attendance \u001b[38;5;241m=\u001b[39m \u001b[38;5;28mint\u001b[39m(\u001b[38;5;28minput\u001b[39m(\u001b[38;5;124m\"\u001b[39m\u001b[38;5;124mEnter the attendance of student \u001b[39m\u001b[38;5;132;01m{}\u001b[39;00m\u001b[38;5;124m: \u001b[39m\u001b[38;5;124m\"\u001b[39m\u001b[38;5;241m.\u001b[39mformat(i\u001b[38;5;241m+\u001b[39m\u001b[38;5;241m1\u001b[39m)))\n\u001b[1;32m     17\u001b[0m     \u001b[38;5;66;03m# Append the student data to a new dataframe\u001b[39;00m\n\u001b[1;32m     18\u001b[0m     \u001b[38;5;66;03m#df = df.append({'Student Name': name, 'Marks': marks, 'Attendance': attendance}, ignore_index=True)\u001b[39;00m\n\u001b[1;32m     19\u001b[0m     \u001b[38;5;66;03m#df = pd.concat([df, pd.DataFrame({'Student Name': [name], 'Marks': [marks], 'Attendance': [attendance]})], ignore_index=True)\u001b[39;00m\n\u001b[1;32m     20\u001b[0m \n\u001b[1;32m     21\u001b[0m     \u001b[38;5;66;03m# Concat the values to the dataframe without using append/ concat\u001b[39;00m\n\u001b[1;32m     22\u001b[0m     \u001b[38;5;66;03m# Assuming df is your DataFrame and it has columns 'Student Name', 'Marks', and 'Attendance'\u001b[39;00m\n",
      "\u001b[0;31mValueError\u001b[0m: could not convert string to float: 'jdkxd'"
     ]
    }
   ],
   "source": [
    "import pandas as pd\n",
    "\n",
    "# Create an empty dataframe with columns 'Student Name', 'Marks', and 'Attendance'\n",
    "df = pd.DataFrame(columns=['Student Name', 'Marks', 'Attendance'])\n",
    "\n",
    "# Ask the user for the number of students\n",
    "num_students = int(input(\"Enter the number of students: \"))\n",
    "      \n",
    "\n",
    "# Iterate over the range of number of students\n",
    "for i in range(num_students):\n",
    "    # Get the student name, marks, and attendance from the user\n",
    "    name = input(\"Enter the name of student {}: \".format(i+1))\n",
    "    marks = float(input(\"Enter the marks of student {}: \".format(i+1)))\n",
    "    attendance = int(input(\"Enter the attendance of student {}: \".format(i+1)))\n",
    "    \n",
    "    # Append the student data to a new dataframe\n",
    "    #df = df.append({'Student Name': name, 'Marks': marks, 'Attendance': attendance}, ignore_index=True)\n",
    "    #df = pd.concat([df, pd.DataFrame({'Student Name': [name], 'Marks': [marks], 'Attendance': [attendance]})], ignore_index=True)\n",
    "\n",
    "    # Concat the values to the dataframe without using append/ concat\n",
    "    # Assuming df is your DataFrame and it has columns 'Student Name', 'Marks', and 'Attendance'\n",
    "    new_row = pd.DataFrame([[name, marks, attendance]], columns=df.columns)\n",
    "\n",
    "    # Concatenate df and new_row\n",
    "    df = pd.DataFrame([*df.values.tolist(), *new_row.values.tolist()], columns=df.columns)\n",
    "# Print the new dataframe\n",
    "print(df)\n"
   ]
  },
  {
   "cell_type": "markdown",
   "metadata": {},
   "source": [
    "Date edited - 4 : 5 : 2024"
   ]
  },
  {
   "cell_type": "code",
   "execution_count": 2,
   "metadata": {},
   "outputs": [
    {
     "name": "stdout",
     "output_type": "stream",
     "text": [
      "  Student Name  Marks  Attendance\n",
      "0      Kshitij   78.0          97\n",
      "1          Het   99.0          78\n"
     ]
    }
   ],
   "source": [
    "import pandas as pd\n",
    "\n",
    "num_students = int(input(\"Enter the number of students: \"))\n",
    "data = []*num_students\n",
    "data_2 = []*num_students\n",
    "data_3 = []*num_students\n",
    "\n",
    "for i in range(num_students):\n",
    "    name = input(\"Enter the name of student {}: \".format(i+1))\n",
    "    data = data + [name]\n",
    "    marks = float(input(\"Enter the marks of student {}: \".format(i+1)))\n",
    "    data_2 = data_2 + [marks]\n",
    "    attendance = int(input(\"Enter the attendance of student {}: \".format(i+1)))\n",
    "    data_3 = data_3 + [attendance]\n",
    "\n",
    "df = pd.DataFrame({'Student Name': data, 'Marks': data_2, 'Attendance': data_3})\n",
    "print(df)\n",
    "\n",
    "# Save the dataframe to a CSV file\n",
    "\n",
    "df.to_csv('student_data.csv', index=False)\n",
    "print(\"Data saved to student_data.csv\") "
   ]
  },
  {
   "cell_type": "markdown",
   "metadata": {},
   "source": [
    "MCQs"
   ]
  },
  {
   "cell_type": "code",
   "execution_count": 20,
   "metadata": {},
   "outputs": [
    {
     "name": "stdout",
     "output_type": "stream",
     "text": [
      "1\n",
      "0\n"
     ]
    }
   ],
   "source": [
    "i = 1\n",
    "print(i)\n",
    "i += -1\n",
    "print(i)"
   ]
  },
  {
   "cell_type": "markdown",
   "metadata": {},
   "source": []
  },
  {
   "cell_type": "code",
   "execution_count": 28,
   "metadata": {},
   "outputs": [
    {
     "name": "stdout",
     "output_type": "stream",
     "text": [
      "1\n",
      "1\n",
      "2\n"
     ]
    }
   ],
   "source": [
    "i = 1\n",
    "while 1:\n",
    "    if i%3 == 0:\n",
    "        break\n",
    "    print(i)\n",
    "    i += 1"
   ]
  },
  {
   "cell_type": "code",
   "execution_count": 35,
   "metadata": {},
   "outputs": [
    {
     "name": "stdout",
     "output_type": "stream",
     "text": [
      "['My', 'name', 'is', 'Dhara']\n",
      "My, name, is, Dhara, "
     ]
    }
   ],
   "source": [
    "x  = \"My name is Dhara\"\n",
    "print(x.split(\" \"))\n",
    "for i in x.split(\" \"):\n",
    "    print(i, end=\", \")"
   ]
  },
  {
   "cell_type": "code",
   "execution_count": 39,
   "metadata": {},
   "outputs": [
    {
     "name": "stdout",
     "output_type": "stream",
     "text": [
      "<class 'dict'>\n"
     ]
    }
   ],
   "source": [
    "Dic = {1:\"A\", 2: \"B\"}\n",
    "print(type(Dic))"
   ]
  },
  {
   "cell_type": "code",
   "execution_count": 41,
   "metadata": {},
   "outputs": [
    {
     "ename": "SyntaxError",
     "evalue": "invalid syntax (1438767673.py, line 1)",
     "output_type": "error",
     "traceback": [
      "\u001b[0;36m  Cell \u001b[0;32mIn[41], line 1\u001b[0;36m\u001b[0m\n\u001b[0;31m    myfile = open(\"Python/April/file2.txt\",'r';f.readline())\u001b[0m\n\u001b[0m                                              ^\u001b[0m\n\u001b[0;31mSyntaxError\u001b[0m\u001b[0;31m:\u001b[0m invalid syntax\n"
     ]
    }
   ],
   "source": [
    "myfile = open(\"Python/April/file2.txt\",'r';f.readline())"
   ]
  },
  {
   "cell_type": "markdown",
   "metadata": {},
   "source": [
    "To find the day of specific date."
   ]
  },
  {
   "cell_type": "code",
   "execution_count": 5,
   "metadata": {},
   "outputs": [
    {
     "name": "stdout",
     "output_type": "stream",
     "text": [
      "The day of the date entered is:  Thursday\n"
     ]
    }
   ],
   "source": [
    "import datetime\n",
    "# Find the day of date entered by the user\n",
    "date = input(\"Enter the date in the format YYYY-MM-DD: \")\n",
    "date = datetime.datetime.strptime(date, \"%Y-%m-%d\")\n",
    "day = date.strftime(\"%A\")\n",
    "print(\"The day of the date entered is: \", day)"
   ]
  }
 ],
 "metadata": {
  "kernelspec": {
   "display_name": "base",
   "language": "python",
   "name": "python3"
  },
  "language_info": {
   "codemirror_mode": {
    "name": "ipython",
    "version": 3
   },
   "file_extension": ".py",
   "mimetype": "text/x-python",
   "name": "python",
   "nbconvert_exporter": "python",
   "pygments_lexer": "ipython3",
   "version": "3.12.2"
  }
 },
 "nbformat": 4,
 "nbformat_minor": 2
}
